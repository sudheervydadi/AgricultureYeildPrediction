{
  "nbformat": 4,
  "nbformat_minor": 0,
  "metadata": {
    "colab": {
      "name": "Pure_Code.ipynb",
      "provenance": [],
      "collapsed_sections": [],
      "machine_shape": "hm"
    },
    "kernelspec": {
      "name": "python3",
      "display_name": "Python 3"
    },
    "accelerator": "TPU"
  },
  "cells": [
    {
      "cell_type": "code",
      "metadata": {
        "id": "TopWjZIpimoQ",
        "colab_type": "code",
        "colab": {}
      },
      "source": [
        ""
      ],
      "execution_count": 0,
      "outputs": []
    },
    {
      "cell_type": "code",
      "metadata": {
        "id": "vL98YUzTi3qW",
        "colab_type": "code",
        "outputId": "10433198-679b-466c-9724-6e0c8eae09f6",
        "colab": {
          "base_uri": "https://localhost:8080/",
          "height": 122
        }
      },
      "source": [
        "from google.colab import drive\n",
        "drive.mount('/content/drive')"
      ],
      "execution_count": 1,
      "outputs": [
        {
          "output_type": "stream",
          "text": [
            "Go to this URL in a browser: https://accounts.google.com/o/oauth2/auth?client_id=947318989803-6bn6qk8qdgf4n4g3pfee6491hc0brc4i.apps.googleusercontent.com&redirect_uri=urn%3aietf%3awg%3aoauth%3a2.0%3aoob&response_type=code&scope=email%20https%3a%2f%2fwww.googleapis.com%2fauth%2fdocs.test%20https%3a%2f%2fwww.googleapis.com%2fauth%2fdrive%20https%3a%2f%2fwww.googleapis.com%2fauth%2fdrive.photos.readonly%20https%3a%2f%2fwww.googleapis.com%2fauth%2fpeopleapi.readonly\n",
            "\n",
            "Enter your authorization code:\n",
            "··········\n",
            "Mounted at /content/drive\n"
          ],
          "name": "stdout"
        }
      ]
    },
    {
      "cell_type": "code",
      "metadata": {
        "id": "vMYZtdf3i4Q3",
        "colab_type": "code",
        "colab": {}
      },
      "source": [
        "import pandas as pd\n",
        "import numpy as np\n",
        "from joblib import load,dump"
      ],
      "execution_count": 0,
      "outputs": []
    },
    {
      "cell_type": "code",
      "metadata": {
        "id": "Zftye00XjCE_",
        "colab_type": "code",
        "colab": {}
      },
      "source": [
        "farm_data_master=pd.read_csv('/content/drive/My Drive/Sudheer Projects/phd/farm_data.csv')\n",
        "train_data_master=pd.read_csv('/content/drive/My Drive/Sudheer Projects/phd/train_data.csv')\n",
        "train_weather_master=pd.read_csv('/content/drive/My Drive/Sudheer Projects/phd/train_weather.csv')"
      ],
      "execution_count": 0,
      "outputs": []
    },
    {
      "cell_type": "code",
      "metadata": {
        "id": "2klLIirmjFR4",
        "colab_type": "code",
        "outputId": "161c0e54-a425-4c35-9e20-a35bab0f3074",
        "colab": {
          "base_uri": "https://localhost:8080/",
          "height": 272
        }
      },
      "source": [
        "repeated_farms_in_farm_data=list(np.array(farm_data_master.groupby(by=\"farm_id\",as_index=False)[\"farm_area\"].count()[farm_data_master.groupby(by=\"farm_id\",as_index=False)[\"farm_area\"].count()[\"farm_area\"]>1][\"farm_id\"]))\n",
        "repeated_farms_in_farm_data"
      ],
      "execution_count": 0,
      "outputs": [
        {
          "output_type": "execute_result",
          "data": {
            "text/plain": [
              "['fid_122174',\n",
              " 'fid_18990',\n",
              " 'fid_26064',\n",
              " 'fid_29387',\n",
              " 'fid_40459',\n",
              " 'fid_53126',\n",
              " 'fid_54932',\n",
              " 'fid_59158',\n",
              " 'fid_63700',\n",
              " 'fid_68761',\n",
              " 'fid_68792',\n",
              " 'fid_71910',\n",
              " 'fid_73431',\n",
              " 'fid_81333',\n",
              " 'fid_97094']"
            ]
          },
          "metadata": {
            "tags": []
          },
          "execution_count": 4
        }
      ]
    },
    {
      "cell_type": "code",
      "metadata": {
        "id": "kvVhdbzTjLyu",
        "colab_type": "code",
        "outputId": "b7bdfae5-9eac-4a40-e9cd-82b10d85dbfa",
        "colab": {
          "base_uri": "https://localhost:8080/",
          "height": 456
        }
      },
      "source": [
        "new_farm_data_master=farm_data_master.copy()\n",
        "new_farm_data_master.drop([1076,537,510,634,705,574,360,678,1300,178,822,679,287,325,395],axis=0,inplace=True)\n",
        "new_farm_data_master.reset_index(drop=True)"
      ],
      "execution_count": 0,
      "outputs": [
        {
          "output_type": "execute_result",
          "data": {
            "text/html": [
              "<div>\n",
              "<style scoped>\n",
              "    .dataframe tbody tr th:only-of-type {\n",
              "        vertical-align: middle;\n",
              "    }\n",
              "\n",
              "    .dataframe tbody tr th {\n",
              "        vertical-align: top;\n",
              "    }\n",
              "\n",
              "    .dataframe thead th {\n",
              "        text-align: right;\n",
              "    }\n",
              "</style>\n",
              "<table border=\"1\" class=\"dataframe\">\n",
              "  <thead>\n",
              "    <tr style=\"text-align: right;\">\n",
              "      <th></th>\n",
              "      <th>farm_id</th>\n",
              "      <th>operations_commencing_year</th>\n",
              "      <th>num_processing_plants</th>\n",
              "      <th>farm_area</th>\n",
              "      <th>farming_company</th>\n",
              "      <th>deidentified_location</th>\n",
              "    </tr>\n",
              "  </thead>\n",
              "  <tbody>\n",
              "    <tr>\n",
              "      <th>0</th>\n",
              "      <td>fid_110884</td>\n",
              "      <td>2008.0</td>\n",
              "      <td>NaN</td>\n",
              "      <td>690.455096</td>\n",
              "      <td>Obery Farms</td>\n",
              "      <td>location 7369</td>\n",
              "    </tr>\n",
              "    <tr>\n",
              "      <th>1</th>\n",
              "      <td>fid_90053</td>\n",
              "      <td>2004.0</td>\n",
              "      <td>NaN</td>\n",
              "      <td>252.696160</td>\n",
              "      <td>Obery Farms</td>\n",
              "      <td>location 7369</td>\n",
              "    </tr>\n",
              "    <tr>\n",
              "      <th>2</th>\n",
              "      <td>fid_17537</td>\n",
              "      <td>1991.0</td>\n",
              "      <td>NaN</td>\n",
              "      <td>499.446528</td>\n",
              "      <td>Obery Farms</td>\n",
              "      <td>location 7369</td>\n",
              "    </tr>\n",
              "    <tr>\n",
              "      <th>3</th>\n",
              "      <td>fid_110392</td>\n",
              "      <td>2002.0</td>\n",
              "      <td>NaN</td>\n",
              "      <td>2200.407555</td>\n",
              "      <td>Obery Farms</td>\n",
              "      <td>location 7369</td>\n",
              "    </tr>\n",
              "    <tr>\n",
              "      <th>4</th>\n",
              "      <td>fid_62402</td>\n",
              "      <td>1975.0</td>\n",
              "      <td>NaN</td>\n",
              "      <td>10833.140121</td>\n",
              "      <td>Obery Farms</td>\n",
              "      <td>location 7369</td>\n",
              "    </tr>\n",
              "    <tr>\n",
              "      <th>...</th>\n",
              "      <td>...</td>\n",
              "      <td>...</td>\n",
              "      <td>...</td>\n",
              "      <td>...</td>\n",
              "      <td>...</td>\n",
              "      <td>...</td>\n",
              "    </tr>\n",
              "    <tr>\n",
              "      <th>1429</th>\n",
              "      <td>fid_41664</td>\n",
              "      <td>1914.0</td>\n",
              "      <td>NaN</td>\n",
              "      <td>1822.663957</td>\n",
              "      <td>Sanderson Farms</td>\n",
              "      <td>location 5150</td>\n",
              "    </tr>\n",
              "    <tr>\n",
              "      <th>1430</th>\n",
              "      <td>fid_14529</td>\n",
              "      <td>NaN</td>\n",
              "      <td>NaN</td>\n",
              "      <td>399.297094</td>\n",
              "      <td>Obery Farms</td>\n",
              "      <td>location 5150</td>\n",
              "    </tr>\n",
              "    <tr>\n",
              "      <th>1431</th>\n",
              "      <td>fid_46454</td>\n",
              "      <td>1997.0</td>\n",
              "      <td>NaN</td>\n",
              "      <td>1046.552295</td>\n",
              "      <td>Sanderson Farms</td>\n",
              "      <td>location 5150</td>\n",
              "    </tr>\n",
              "    <tr>\n",
              "      <th>1432</th>\n",
              "      <td>fid_24103</td>\n",
              "      <td>2001.0</td>\n",
              "      <td>NaN</td>\n",
              "      <td>2766.186825</td>\n",
              "      <td>Dole Food Company</td>\n",
              "      <td>location 5150</td>\n",
              "    </tr>\n",
              "    <tr>\n",
              "      <th>1433</th>\n",
              "      <td>fid_34139</td>\n",
              "      <td>2001.0</td>\n",
              "      <td>NaN</td>\n",
              "      <td>8572.252713</td>\n",
              "      <td>Wayne Farms</td>\n",
              "      <td>location 5150</td>\n",
              "    </tr>\n",
              "  </tbody>\n",
              "</table>\n",
              "<p>1434 rows × 6 columns</p>\n",
              "</div>"
            ],
            "text/plain": [
              "         farm_id  ...  deidentified_location\n",
              "0     fid_110884  ...          location 7369\n",
              "1      fid_90053  ...          location 7369\n",
              "2      fid_17537  ...          location 7369\n",
              "3     fid_110392  ...          location 7369\n",
              "4      fid_62402  ...          location 7369\n",
              "...          ...  ...                    ...\n",
              "1429   fid_41664  ...          location 5150\n",
              "1430   fid_14529  ...          location 5150\n",
              "1431   fid_46454  ...          location 5150\n",
              "1432   fid_24103  ...          location 5150\n",
              "1433   fid_34139  ...          location 5150\n",
              "\n",
              "[1434 rows x 6 columns]"
            ]
          },
          "metadata": {
            "tags": []
          },
          "execution_count": 4
        }
      ]
    },
    {
      "cell_type": "code",
      "metadata": {
        "id": "MU2H0WQGjlek",
        "colab_type": "code",
        "colab": {}
      },
      "source": [
        "new_farm_data_master.to_csv('/content/drive/My Drive/Sudheer Projects/phd/Pure_code/new_farm_data.csv',index=False)"
      ],
      "execution_count": 0,
      "outputs": []
    },
    {
      "cell_type": "code",
      "metadata": {
        "id": "lYXFZLqtkOnE",
        "colab_type": "code",
        "colab": {}
      },
      "source": [
        "# We are creating an temperory dataframe 366*24 rows of timestamps across 16 locations and then we merge it with train_weather_master\n",
        "temp_location_list=[]\n",
        "temp_timestamp_list=[]\n",
        "for i in train_weather_master.deidentified_location.unique():\n",
        "    for j in pd.date_range('2016-01-01 00:00:00', periods=8784, freq='H'):\n",
        "        temp_timestamp_list.append(j)\n",
        "        temp_location_list.append(i)\n",
        "\n",
        "new_train_weather_master=pd.DataFrame(columns=['timestamp', 'deidentified_location'])\n",
        "new_train_weather_master.timestamp=pd.Series(temp_timestamp_list)\n",
        "new_train_weather_master.deidentified_location=pd.Series(temp_location_list)"
      ],
      "execution_count": 0,
      "outputs": []
    },
    {
      "cell_type": "code",
      "metadata": {
        "id": "AWfvFJK9kgT2",
        "colab_type": "code",
        "colab": {}
      },
      "source": [
        "#changing the timestamp dtype so we can have one to one mapping for merging\n",
        "train_weather_master.timestamp=train_weather_master.timestamp.astype('datetime64[ns]')"
      ],
      "execution_count": 0,
      "outputs": []
    },
    {
      "cell_type": "code",
      "metadata": {
        "id": "Hu-sxw-FkjzN",
        "colab_type": "code",
        "colab": {}
      },
      "source": [
        "# merging it and sorting my new weather data\n",
        "weather_merge=pd.merge(train_weather_master, new_train_weather_master, on=['timestamp', 'deidentified_location'], how='outer')\n",
        "weather_merge=weather_merge.sort_values(by=['deidentified_location','timestamp']).reset_index(drop=True)"
      ],
      "execution_count": 0,
      "outputs": []
    },
    {
      "cell_type": "code",
      "metadata": {
        "id": "VyRqPhxbko89",
        "colab_type": "code",
        "colab": {}
      },
      "source": [
        "for location in weather_merge.deidentified_location.unique():\n",
        "  weather_merge[weather_merge.deidentified_location==location].to_csv((\"/content/drive/My Drive/Sudheer Projects/phd/Pure_code/weather_data_location_wise/\"+location+\".csv\"),index=False)\n"
      ],
      "execution_count": 0,
      "outputs": []
    },
    {
      "cell_type": "code",
      "metadata": {
        "id": "Xg49oU7MlAdo",
        "colab_type": "code",
        "outputId": "ed7d62e5-64ac-42bf-db03-e1f6685a92c8",
        "colab": {
          "base_uri": "https://localhost:8080/",
          "height": 122
        }
      },
      "source": [
        "for location in weather_merge.deidentified_location.unique():\n",
        "  temp_dataframe=pd.read_csv(('/content/drive/My Drive/Sudheer Projects/phd/weather_data_location_wise/'+location+'.csv'))\n",
        "  for column in ['temp_obs', 'cloudiness','wind_direction', 'dew_temp', 'pressure_sea_level', 'precipitation','wind_speed']:\n",
        "        for index,value in zip(temp_dataframe[column].isna().value_counts().index,temp_dataframe[column].isna().value_counts()):\n",
        "          if (index and value==366*24):\n",
        "            continue\n",
        "          else:\n",
        "            data1=temp_dataframe[column]\n",
        "            mask = np.isnan(data1)\n",
        "            data1[mask] = np.interp(np.flatnonzero(mask), np.flatnonzero(~mask), data1[~mask])\n",
        "            temp_dataframe[column]=data1\n",
        "  temp_dataframe.to_csv(('/content/drive/My Drive/Sudheer Projects/phd/weather_data_imputations/'+location+'.csv'),index=False)\n"
      ],
      "execution_count": 0,
      "outputs": [
        {
          "output_type": "stream",
          "text": [
            "/usr/local/lib/python3.6/dist-packages/ipykernel_launcher.py:10: SettingWithCopyWarning: \n",
            "A value is trying to be set on a copy of a slice from a DataFrame\n",
            "\n",
            "See the caveats in the documentation: http://pandas.pydata.org/pandas-docs/stable/user_guide/indexing.html#returning-a-view-versus-a-copy\n",
            "  # Remove the CWD from sys.path while we load stuff.\n"
          ],
          "name": "stderr"
        }
      ]
    },
    {
      "cell_type": "code",
      "metadata": {
        "id": "-sqQfxv_ldgD",
        "colab_type": "code",
        "colab": {}
      },
      "source": [
        "weather_imputation_full=pd.DataFrame()\n",
        "for location in weather_merge.deidentified_location.unique():\n",
        "  temp_dataframe=pd.read_csv(('/content/drive/My Drive/Sudheer Projects/phd/weather_data_imputations/'+location+'.csv'))\n",
        "  if location==weather_merge.deidentified_location.unique()[0]:\n",
        "    weather_imputation_full=temp_dataframe\n",
        "  else:\n",
        "    weather_imputation_full=weather_imputation_full.append(temp_dataframe,ignore_index=True)"
      ],
      "execution_count": 0,
      "outputs": []
    },
    {
      "cell_type": "code",
      "metadata": {
        "id": "71kMGT2RnsXw",
        "colab_type": "code",
        "colab": {}
      },
      "source": [
        "for column in ['temp_obs', 'cloudiness','wind_direction', 'dew_temp', 'pressure_sea_level', 'precipitation','wind_speed']:\n",
        "  weather_imputation_full[column].fillna(weather_imputation_full[column].median(),inplace=True)"
      ],
      "execution_count": 0,
      "outputs": []
    },
    {
      "cell_type": "code",
      "metadata": {
        "id": "pdsHnaFlnGWM",
        "colab_type": "code",
        "outputId": "83536bd0-49b7-4656-a6f5-fafa9fc519ca",
        "colab": {
          "base_uri": "https://localhost:8080/",
          "height": 34
        }
      },
      "source": [
        "from joblib import dump,load\n",
        "dump(new_farm_data_master,'/content/drive/My Drive/Sudheer Projects/phd/Pure_code/farm_data_Trainfull.joblib')\n",
        "dump(weather_imputation_full,'/content/drive/My Drive/Sudheer Projects/phd/Pure_code/weather_data_Trainfull.joblib')"
      ],
      "execution_count": 0,
      "outputs": [
        {
          "output_type": "execute_result",
          "data": {
            "text/plain": [
              "['/content/drive/My Drive/Sudheer Projects/phd/Pure_code/weather_data_Trainfull.joblib']"
            ]
          },
          "metadata": {
            "tags": []
          },
          "execution_count": 19
        }
      ]
    },
    {
      "cell_type": "code",
      "metadata": {
        "id": "PKJ-CJXLoQYc",
        "colab_type": "code",
        "outputId": "73ac773c-c42b-433a-8db7-a934f2841bac",
        "colab": {
          "base_uri": "https://localhost:8080/",
          "height": 34
        }
      },
      "source": [
        "final_train=train_data_master.groupby(by=['date', 'farm_id', 'ingredient_type'],as_index=False).sum()\n",
        "dump(final_train,'/content/drive/My Drive/Sudheer Projects/phd/Pure_code/train_data_Trainfull.joblib')"
      ],
      "execution_count": 0,
      "outputs": [
        {
          "output_type": "execute_result",
          "data": {
            "text/plain": [
              "['/content/drive/My Drive/Sudheer Projects/phd/Pure_code/train_data_Trainfull.joblib']"
            ]
          },
          "metadata": {
            "tags": []
          },
          "execution_count": 20
        }
      ]
    },
    {
      "cell_type": "code",
      "metadata": {
        "id": "c9nUe6c3ouBZ",
        "colab_type": "code",
        "colab": {}
      },
      "source": [
        "weather_imputation_full.timestamp=weather_imputation_full.timestamp.astype('datetime64[ns]')\n",
        "final_train.rename(columns={'date':'timestamp'},inplace=True)\n",
        "final_train.timestamp=final_train.timestamp.astype('datetime64[ns]')"
      ],
      "execution_count": 0,
      "outputs": []
    },
    {
      "cell_type": "code",
      "metadata": {
        "id": "ygPUowRZpN4q",
        "colab_type": "code",
        "outputId": "f731401a-734e-4dab-d969-f56c0ce46340",
        "colab": {
          "base_uri": "https://localhost:8080/",
          "height": 34
        }
      },
      "source": [
        "final_merge=pd.merge(pd.merge(final_train, new_farm_data_master, on=['farm_id'], how='left'), weather_imputation_full, on=['timestamp', 'deidentified_location'], how='left')\n",
        "dump(final_merge,'/content/drive/My Drive/Sudheer Projects/phd/Pure_code/train_data.joblib')"
      ],
      "execution_count": 0,
      "outputs": [
        {
          "output_type": "execute_result",
          "data": {
            "text/plain": [
              "['/content/drive/My Drive/Sudheer Projects/phd/Pure_code/train_data.joblib']"
            ]
          },
          "metadata": {
            "tags": []
          },
          "execution_count": 24
        }
      ]
    },
    {
      "cell_type": "code",
      "metadata": {
        "id": "KhdcNM3BqBnv",
        "colab_type": "code",
        "colab": {}
      },
      "source": [
        "final_merge.drop(['operations_commencing_year','num_processing_plants'],inplace=True,axis=1)"
      ],
      "execution_count": 0,
      "outputs": []
    },
    {
      "cell_type": "code",
      "metadata": {
        "id": "Ixqwz_nEqdJx",
        "colab_type": "code",
        "colab": {}
      },
      "source": [
        "final_merge['month']=pd.DatetimeIndex(final_merge['timestamp']).month\n",
        "final_merge['day']=pd.DatetimeIndex(final_merge['timestamp']).day\n",
        "final_merge['hour']=pd.DatetimeIndex(final_merge['timestamp']).hour\n",
        "final_merge['weekday']=pd.DatetimeIndex(final_merge['timestamp']).weekday\n",
        "final_merge['quarter']=pd.DatetimeIndex(final_merge['timestamp']).quarter\n",
        "final_merge['weekofyear']=pd.DatetimeIndex(final_merge['timestamp']).weekofyear"
      ],
      "execution_count": 0,
      "outputs": []
    },
    {
      "cell_type": "code",
      "metadata": {
        "id": "AOt3mJGkrELF",
        "colab_type": "code",
        "colab": {}
      },
      "source": [
        "a=np.array(final_merge['yield'])\n",
        "from scipy import stats\n",
        "yield_zsocres=stats.zscore(a)\n",
        "final_merge['z_scores']=pd.Series(yield_zsocres)"
      ],
      "execution_count": 0,
      "outputs": []
    },
    {
      "cell_type": "code",
      "metadata": {
        "id": "fOZc7qE0rkz_",
        "colab_type": "code",
        "outputId": "371d1ce4-e973-4e2d-b757-25af36284f72",
        "colab": {
          "base_uri": "https://localhost:8080/",
          "height": 34
        }
      },
      "source": [
        "dump(final_merge,'/content/drive/My Drive/Sudheer Projects/phd/Pure_code/train_data.joblib')"
      ],
      "execution_count": 0,
      "outputs": [
        {
          "output_type": "execute_result",
          "data": {
            "text/plain": [
              "['/content/drive/My Drive/Sudheer Projects/phd/Pure_code/train_data.joblib']"
            ]
          },
          "metadata": {
            "tags": []
          },
          "execution_count": 29
        }
      ]
    },
    {
      "cell_type": "code",
      "metadata": {
        "id": "8SNIB8-hrr6j",
        "colab_type": "code",
        "outputId": "e295ce76-0de2-4738-f42b-0f726bf8988c",
        "colab": {
          "base_uri": "https://localhost:8080/",
          "height": 34
        }
      },
      "source": [
        "np.percentile(final_merge['yield'],97)"
      ],
      "execution_count": 0,
      "outputs": [
        {
          "output_type": "execute_result",
          "data": {
            "text/plain": [
              "2516.19"
            ]
          },
          "metadata": {
            "tags": []
          },
          "execution_count": 32
        }
      ]
    },
    {
      "cell_type": "code",
      "metadata": {
        "id": "Kl3ybxxGtywL",
        "colab_type": "code",
        "outputId": "0f4ad9ba-d7d5-4d71-9d29-798db72dcaef",
        "colab": {
          "base_uri": "https://localhost:8080/",
          "height": 34
        }
      },
      "source": [
        "final_merge[final_merge['yield']<=2516.19].shape"
      ],
      "execution_count": 0,
      "outputs": [
        {
          "output_type": "execute_result",
          "data": {
            "text/plain": [
              "(19478117, 21)"
            ]
          },
          "metadata": {
            "tags": []
          },
          "execution_count": 35
        }
      ]
    },
    {
      "cell_type": "code",
      "metadata": {
        "id": "57VuzQcgsKgV",
        "colab_type": "code",
        "outputId": "2c06154a-024c-499d-a17a-9fbd6769029f",
        "colab": {
          "base_uri": "https://localhost:8080/",
          "height": 34
        }
      },
      "source": [
        "final_merge[final_merge['z_scores']<=0.0025025755347188507].shape"
      ],
      "execution_count": 0,
      "outputs": [
        {
          "output_type": "execute_result",
          "data": {
            "text/plain": [
              "(19478117, 21)"
            ]
          },
          "metadata": {
            "tags": []
          },
          "execution_count": 36
        }
      ]
    },
    {
      "cell_type": "code",
      "metadata": {
        "id": "gSGjZF7QtRQq",
        "colab_type": "code",
        "outputId": "c2d46f61-4e0b-4f07-fdd0-e74c384ad833",
        "colab": {
          "base_uri": "https://localhost:8080/",
          "height": 34
        }
      },
      "source": [
        "dump(final_merge[final_merge['z_scores']<=0.0025025755347188507],'/content/drive/My Drive/Sudheer Projects/phd/Pure_code/train_data_outliers_removied.joblib')"
      ],
      "execution_count": 0,
      "outputs": [
        {
          "output_type": "execute_result",
          "data": {
            "text/plain": [
              "['/content/drive/My Drive/Sudheer Projects/phd/Pure_code/train_data_outliers_removied.joblib']"
            ]
          },
          "metadata": {
            "tags": []
          },
          "execution_count": 37
        }
      ]
    },
    {
      "cell_type": "code",
      "metadata": {
        "id": "WzuZevoEun54",
        "colab_type": "code",
        "colab": {}
      },
      "source": [
        "from joblib import load,dump\n",
        "train_data_outliers_removied=load('/content/drive/My Drive/Sudheer Projects/phd/Pure_code/train_data_outliers_removied.joblib')"
      ],
      "execution_count": 0,
      "outputs": []
    },
    {
      "cell_type": "code",
      "metadata": {
        "id": "MyvjCkS401rl",
        "colab_type": "code",
        "colab": {}
      },
      "source": [
        "farm_id_target_encoding=pd.read_csv('/content/drive/My Drive/Sudheer Projects/phd/Model_building_dataSets/basic_farm_id_target_encoding.csv')"
      ],
      "execution_count": 0,
      "outputs": []
    },
    {
      "cell_type": "code",
      "metadata": {
        "id": "w7Ak_ZLf1SH7",
        "colab_type": "code",
        "colab": {}
      },
      "source": [
        "global_ingredient_timeseries=pd.read_csv('/content/drive/My Drive/Sudheer Projects/phd/Model_building_dataSets/global_ingredient_timeseries.csv')"
      ],
      "execution_count": 0,
      "outputs": []
    },
    {
      "cell_type": "code",
      "metadata": {
        "id": "WClDpnNe2brz",
        "colab_type": "code",
        "colab": {}
      },
      "source": [
        "global_ingredient_timeseries.timestamp=global_ingredient_timeseries.timestamp.astype('datetime64[ns]')"
      ],
      "execution_count": 0,
      "outputs": []
    },
    {
      "cell_type": "code",
      "metadata": {
        "id": "3tG1I1Ti-krq",
        "colab_type": "code",
        "outputId": "5e458c0b-5162-4a89-d0e7-0e2c6eb0f8cd",
        "colab": {
          "base_uri": "https://localhost:8080/",
          "height": 419
        }
      },
      "source": [
        "global_ingredient_timeseries"
      ],
      "execution_count": 0,
      "outputs": [
        {
          "output_type": "execute_result",
          "data": {
            "text/html": [
              "<div>\n",
              "<style scoped>\n",
              "    .dataframe tbody tr th:only-of-type {\n",
              "        vertical-align: middle;\n",
              "    }\n",
              "\n",
              "    .dataframe tbody tr th {\n",
              "        vertical-align: top;\n",
              "    }\n",
              "\n",
              "    .dataframe thead th {\n",
              "        text-align: right;\n",
              "    }\n",
              "</style>\n",
              "<table border=\"1\" class=\"dataframe\">\n",
              "  <thead>\n",
              "    <tr style=\"text-align: right;\">\n",
              "      <th></th>\n",
              "      <th>ingredient_type</th>\n",
              "      <th>timestamp</th>\n",
              "      <th>time_series_yield_target_encoding</th>\n",
              "      <th>temp_timestamp_list_2017</th>\n",
              "    </tr>\n",
              "  </thead>\n",
              "  <tbody>\n",
              "    <tr>\n",
              "      <th>0</th>\n",
              "      <td>ing_w</td>\n",
              "      <td>2016-01-01 00:00:00</td>\n",
              "      <td>117865.7408</td>\n",
              "      <td>2017-01-01 00:00:00</td>\n",
              "    </tr>\n",
              "    <tr>\n",
              "      <th>1</th>\n",
              "      <td>ing_w</td>\n",
              "      <td>2016-01-01 01:00:00</td>\n",
              "      <td>137584.2926</td>\n",
              "      <td>2017-01-01 01:00:00</td>\n",
              "    </tr>\n",
              "    <tr>\n",
              "      <th>2</th>\n",
              "      <td>ing_w</td>\n",
              "      <td>2016-01-01 02:00:00</td>\n",
              "      <td>137688.7884</td>\n",
              "      <td>2017-01-01 02:00:00</td>\n",
              "    </tr>\n",
              "    <tr>\n",
              "      <th>3</th>\n",
              "      <td>ing_w</td>\n",
              "      <td>2016-01-01 03:00:00</td>\n",
              "      <td>137912.4408</td>\n",
              "      <td>2017-01-01 03:00:00</td>\n",
              "    </tr>\n",
              "    <tr>\n",
              "      <th>4</th>\n",
              "      <td>ing_w</td>\n",
              "      <td>2016-01-01 04:00:00</td>\n",
              "      <td>138252.1670</td>\n",
              "      <td>2017-01-01 04:00:00</td>\n",
              "    </tr>\n",
              "    <tr>\n",
              "      <th>...</th>\n",
              "      <td>...</td>\n",
              "      <td>...</td>\n",
              "      <td>...</td>\n",
              "      <td>...</td>\n",
              "    </tr>\n",
              "    <tr>\n",
              "      <th>35131</th>\n",
              "      <td>ing_z</td>\n",
              "      <td>2016-12-31 19:00:00</td>\n",
              "      <td>24332.0309</td>\n",
              "      <td>2017-12-31 19:00:00</td>\n",
              "    </tr>\n",
              "    <tr>\n",
              "      <th>35132</th>\n",
              "      <td>ing_z</td>\n",
              "      <td>2016-12-31 20:00:00</td>\n",
              "      <td>24467.9034</td>\n",
              "      <td>2017-12-31 20:00:00</td>\n",
              "    </tr>\n",
              "    <tr>\n",
              "      <th>35133</th>\n",
              "      <td>ing_z</td>\n",
              "      <td>2016-12-31 21:00:00</td>\n",
              "      <td>21907.7998</td>\n",
              "      <td>2017-12-31 21:00:00</td>\n",
              "    </tr>\n",
              "    <tr>\n",
              "      <th>35134</th>\n",
              "      <td>ing_z</td>\n",
              "      <td>2016-12-31 22:00:00</td>\n",
              "      <td>23170.3658</td>\n",
              "      <td>2017-12-31 22:00:00</td>\n",
              "    </tr>\n",
              "    <tr>\n",
              "      <th>35135</th>\n",
              "      <td>ing_z</td>\n",
              "      <td>2016-12-31 23:00:00</td>\n",
              "      <td>21276.0349</td>\n",
              "      <td>2017-12-31 23:00:00</td>\n",
              "    </tr>\n",
              "  </tbody>\n",
              "</table>\n",
              "<p>35136 rows × 4 columns</p>\n",
              "</div>"
            ],
            "text/plain": [
              "      ingredient_type  ... temp_timestamp_list_2017\n",
              "0               ing_w  ...      2017-01-01 00:00:00\n",
              "1               ing_w  ...      2017-01-01 01:00:00\n",
              "2               ing_w  ...      2017-01-01 02:00:00\n",
              "3               ing_w  ...      2017-01-01 03:00:00\n",
              "4               ing_w  ...      2017-01-01 04:00:00\n",
              "...               ...  ...                      ...\n",
              "35131           ing_z  ...      2017-12-31 19:00:00\n",
              "35132           ing_z  ...      2017-12-31 20:00:00\n",
              "35133           ing_z  ...      2017-12-31 21:00:00\n",
              "35134           ing_z  ...      2017-12-31 22:00:00\n",
              "35135           ing_z  ...      2017-12-31 23:00:00\n",
              "\n",
              "[35136 rows x 4 columns]"
            ]
          },
          "metadata": {
            "tags": []
          },
          "execution_count": 8
        }
      ]
    },
    {
      "cell_type": "code",
      "metadata": {
        "id": "qg54mM2o1w5B",
        "colab_type": "code",
        "colab": {}
      },
      "source": [
        "train_data_outliers_removied=pd.merge(train_data_outliers_removied,global_ingredient_timeseries,how='left',on=['ingredient_type','timestamp'])"
      ],
      "execution_count": 0,
      "outputs": []
    },
    {
      "cell_type": "code",
      "metadata": {
        "id": "web_9Wcf_19b",
        "colab_type": "code",
        "outputId": "119b9ed2-c123-48e3-9dfa-d480ee8249ec",
        "colab": {
          "base_uri": "https://localhost:8080/",
          "height": 779
        }
      },
      "source": [
        "train_data_outliers_removied"
      ],
      "execution_count": 0,
      "outputs": [
        {
          "output_type": "execute_result",
          "data": {
            "text/html": [
              "<div>\n",
              "<style scoped>\n",
              "    .dataframe tbody tr th:only-of-type {\n",
              "        vertical-align: middle;\n",
              "    }\n",
              "\n",
              "    .dataframe tbody tr th {\n",
              "        vertical-align: top;\n",
              "    }\n",
              "\n",
              "    .dataframe thead th {\n",
              "        text-align: right;\n",
              "    }\n",
              "</style>\n",
              "<table border=\"1\" class=\"dataframe\">\n",
              "  <thead>\n",
              "    <tr style=\"text-align: right;\">\n",
              "      <th></th>\n",
              "      <th>timestamp</th>\n",
              "      <th>farm_id</th>\n",
              "      <th>ingredient_type</th>\n",
              "      <th>yield</th>\n",
              "      <th>farm_area</th>\n",
              "      <th>farming_company</th>\n",
              "      <th>deidentified_location</th>\n",
              "      <th>temp_obs</th>\n",
              "      <th>cloudiness</th>\n",
              "      <th>wind_direction</th>\n",
              "      <th>dew_temp</th>\n",
              "      <th>pressure_sea_level</th>\n",
              "      <th>precipitation</th>\n",
              "      <th>wind_speed</th>\n",
              "      <th>month</th>\n",
              "      <th>day</th>\n",
              "      <th>hour</th>\n",
              "      <th>weekday</th>\n",
              "      <th>quarter</th>\n",
              "      <th>weekofyear</th>\n",
              "      <th>z_scores</th>\n",
              "      <th>time_series_yield_target_encoding</th>\n",
              "      <th>temp_timestamp_list_2017</th>\n",
              "    </tr>\n",
              "  </thead>\n",
              "  <tbody>\n",
              "    <tr>\n",
              "      <th>0</th>\n",
              "      <td>2016-01-01 00:00:00</td>\n",
              "      <td>fid_100053</td>\n",
              "      <td>ing_w</td>\n",
              "      <td>37.0400</td>\n",
              "      <td>2043.866000</td>\n",
              "      <td>Del Monte Foods</td>\n",
              "      <td>location 5290</td>\n",
              "      <td>10.0</td>\n",
              "      <td>8.0</td>\n",
              "      <td>350.0</td>\n",
              "      <td>2.2</td>\n",
              "      <td>1021.1</td>\n",
              "      <td>0.0</td>\n",
              "      <td>4.1</td>\n",
              "      <td>1</td>\n",
              "      <td>1</td>\n",
              "      <td>0</td>\n",
              "      <td>4</td>\n",
              "      <td>1</td>\n",
              "      <td>53</td>\n",
              "      <td>-0.013622</td>\n",
              "      <td>117865.7408</td>\n",
              "      <td>2017-01-01 00:00:00</td>\n",
              "    </tr>\n",
              "    <tr>\n",
              "      <th>1</th>\n",
              "      <td>2016-01-01 00:00:00</td>\n",
              "      <td>fid_100107</td>\n",
              "      <td>ing_w</td>\n",
              "      <td>291.8000</td>\n",
              "      <td>35416.574563</td>\n",
              "      <td>Del Monte Foods</td>\n",
              "      <td>location 2532</td>\n",
              "      <td>-8.3</td>\n",
              "      <td>8.0</td>\n",
              "      <td>250.0</td>\n",
              "      <td>-12.2</td>\n",
              "      <td>1023.3</td>\n",
              "      <td>-1.0</td>\n",
              "      <td>4.1</td>\n",
              "      <td>1</td>\n",
              "      <td>1</td>\n",
              "      <td>0</td>\n",
              "      <td>4</td>\n",
              "      <td>1</td>\n",
              "      <td>53</td>\n",
              "      <td>-0.011965</td>\n",
              "      <td>117865.7408</td>\n",
              "      <td>2017-01-01 00:00:00</td>\n",
              "    </tr>\n",
              "    <tr>\n",
              "      <th>2</th>\n",
              "      <td>2016-01-01 00:00:00</td>\n",
              "      <td>fid_100107</td>\n",
              "      <td>ing_x</td>\n",
              "      <td>25.3232</td>\n",
              "      <td>35416.574563</td>\n",
              "      <td>Del Monte Foods</td>\n",
              "      <td>location 2532</td>\n",
              "      <td>-8.3</td>\n",
              "      <td>8.0</td>\n",
              "      <td>250.0</td>\n",
              "      <td>-12.2</td>\n",
              "      <td>1023.3</td>\n",
              "      <td>-1.0</td>\n",
              "      <td>4.1</td>\n",
              "      <td>1</td>\n",
              "      <td>1</td>\n",
              "      <td>0</td>\n",
              "      <td>4</td>\n",
              "      <td>1</td>\n",
              "      <td>53</td>\n",
              "      <td>-0.013698</td>\n",
              "      <td>26371.6869</td>\n",
              "      <td>2017-01-01 00:00:00</td>\n",
              "    </tr>\n",
              "    <tr>\n",
              "      <th>3</th>\n",
              "      <td>2016-01-01 00:00:00</td>\n",
              "      <td>fid_100135</td>\n",
              "      <td>ing_w</td>\n",
              "      <td>15.6400</td>\n",
              "      <td>1432.564260</td>\n",
              "      <td>Dole Food Company</td>\n",
              "      <td>location 5290</td>\n",
              "      <td>10.0</td>\n",
              "      <td>8.0</td>\n",
              "      <td>350.0</td>\n",
              "      <td>2.2</td>\n",
              "      <td>1021.1</td>\n",
              "      <td>0.0</td>\n",
              "      <td>4.1</td>\n",
              "      <td>1</td>\n",
              "      <td>1</td>\n",
              "      <td>0</td>\n",
              "      <td>4</td>\n",
              "      <td>1</td>\n",
              "      <td>53</td>\n",
              "      <td>-0.013761</td>\n",
              "      <td>117865.7408</td>\n",
              "      <td>2017-01-01 00:00:00</td>\n",
              "    </tr>\n",
              "    <tr>\n",
              "      <th>4</th>\n",
              "      <td>2016-01-01 00:00:00</td>\n",
              "      <td>fid_100249</td>\n",
              "      <td>ing_w</td>\n",
              "      <td>19.4900</td>\n",
              "      <td>941.571905</td>\n",
              "      <td>Wayne Farms</td>\n",
              "      <td>location 5489</td>\n",
              "      <td>15.6</td>\n",
              "      <td>6.0</td>\n",
              "      <td>270.0</td>\n",
              "      <td>-5.6</td>\n",
              "      <td>1015.3</td>\n",
              "      <td>0.0</td>\n",
              "      <td>3.6</td>\n",
              "      <td>1</td>\n",
              "      <td>1</td>\n",
              "      <td>0</td>\n",
              "      <td>4</td>\n",
              "      <td>1</td>\n",
              "      <td>53</td>\n",
              "      <td>-0.013736</td>\n",
              "      <td>117865.7408</td>\n",
              "      <td>2017-01-01 00:00:00</td>\n",
              "    </tr>\n",
              "    <tr>\n",
              "      <th>...</th>\n",
              "      <td>...</td>\n",
              "      <td>...</td>\n",
              "      <td>...</td>\n",
              "      <td>...</td>\n",
              "      <td>...</td>\n",
              "      <td>...</td>\n",
              "      <td>...</td>\n",
              "      <td>...</td>\n",
              "      <td>...</td>\n",
              "      <td>...</td>\n",
              "      <td>...</td>\n",
              "      <td>...</td>\n",
              "      <td>...</td>\n",
              "      <td>...</td>\n",
              "      <td>...</td>\n",
              "      <td>...</td>\n",
              "      <td>...</td>\n",
              "      <td>...</td>\n",
              "      <td>...</td>\n",
              "      <td>...</td>\n",
              "      <td>...</td>\n",
              "      <td>...</td>\n",
              "      <td>...</td>\n",
              "    </tr>\n",
              "    <tr>\n",
              "      <th>19478112</th>\n",
              "      <td>2016-12-31 23:00:00</td>\n",
              "      <td>fid_99921</td>\n",
              "      <td>ing_w</td>\n",
              "      <td>142.3700</td>\n",
              "      <td>15232.282977</td>\n",
              "      <td>Wayne Farms</td>\n",
              "      <td>location 5489</td>\n",
              "      <td>16.7</td>\n",
              "      <td>4.0</td>\n",
              "      <td>250.0</td>\n",
              "      <td>10.0</td>\n",
              "      <td>1011.0</td>\n",
              "      <td>0.0</td>\n",
              "      <td>2.6</td>\n",
              "      <td>12</td>\n",
              "      <td>31</td>\n",
              "      <td>23</td>\n",
              "      <td>5</td>\n",
              "      <td>4</td>\n",
              "      <td>52</td>\n",
              "      <td>-0.012937</td>\n",
              "      <td>159697.0412</td>\n",
              "      <td>2017-12-31 23:00:00</td>\n",
              "    </tr>\n",
              "    <tr>\n",
              "      <th>19478113</th>\n",
              "      <td>2016-12-31 23:00:00</td>\n",
              "      <td>fid_99921</td>\n",
              "      <td>ing_x</td>\n",
              "      <td>102.3400</td>\n",
              "      <td>15232.282977</td>\n",
              "      <td>Wayne Farms</td>\n",
              "      <td>location 5489</td>\n",
              "      <td>16.7</td>\n",
              "      <td>4.0</td>\n",
              "      <td>250.0</td>\n",
              "      <td>10.0</td>\n",
              "      <td>1011.0</td>\n",
              "      <td>0.0</td>\n",
              "      <td>2.6</td>\n",
              "      <td>12</td>\n",
              "      <td>31</td>\n",
              "      <td>23</td>\n",
              "      <td>5</td>\n",
              "      <td>4</td>\n",
              "      <td>52</td>\n",
              "      <td>-0.013197</td>\n",
              "      <td>52442.6647</td>\n",
              "      <td>2017-12-31 23:00:00</td>\n",
              "    </tr>\n",
              "    <tr>\n",
              "      <th>19478114</th>\n",
              "      <td>2016-12-31 23:00:00</td>\n",
              "      <td>fid_99942</td>\n",
              "      <td>ing_w</td>\n",
              "      <td>79.3100</td>\n",
              "      <td>12733.749695</td>\n",
              "      <td>Obery Farms</td>\n",
              "      <td>location 5489</td>\n",
              "      <td>16.7</td>\n",
              "      <td>4.0</td>\n",
              "      <td>250.0</td>\n",
              "      <td>10.0</td>\n",
              "      <td>1011.0</td>\n",
              "      <td>0.0</td>\n",
              "      <td>2.6</td>\n",
              "      <td>12</td>\n",
              "      <td>31</td>\n",
              "      <td>23</td>\n",
              "      <td>5</td>\n",
              "      <td>4</td>\n",
              "      <td>52</td>\n",
              "      <td>-0.013347</td>\n",
              "      <td>159697.0412</td>\n",
              "      <td>2017-12-31 23:00:00</td>\n",
              "    </tr>\n",
              "    <tr>\n",
              "      <th>19478115</th>\n",
              "      <td>2016-12-31 23:00:00</td>\n",
              "      <td>fid_99942</td>\n",
              "      <td>ing_x</td>\n",
              "      <td>72.6230</td>\n",
              "      <td>12733.749695</td>\n",
              "      <td>Obery Farms</td>\n",
              "      <td>location 5489</td>\n",
              "      <td>16.7</td>\n",
              "      <td>4.0</td>\n",
              "      <td>250.0</td>\n",
              "      <td>10.0</td>\n",
              "      <td>1011.0</td>\n",
              "      <td>0.0</td>\n",
              "      <td>2.6</td>\n",
              "      <td>12</td>\n",
              "      <td>31</td>\n",
              "      <td>23</td>\n",
              "      <td>5</td>\n",
              "      <td>4</td>\n",
              "      <td>52</td>\n",
              "      <td>-0.013390</td>\n",
              "      <td>52442.6647</td>\n",
              "      <td>2017-12-31 23:00:00</td>\n",
              "    </tr>\n",
              "    <tr>\n",
              "      <th>19478116</th>\n",
              "      <td>2016-12-31 23:00:00</td>\n",
              "      <td>fid_99942</td>\n",
              "      <td>ing_z</td>\n",
              "      <td>11.7228</td>\n",
              "      <td>12733.749695</td>\n",
              "      <td>Obery Farms</td>\n",
              "      <td>location 5489</td>\n",
              "      <td>16.7</td>\n",
              "      <td>4.0</td>\n",
              "      <td>250.0</td>\n",
              "      <td>10.0</td>\n",
              "      <td>1011.0</td>\n",
              "      <td>0.0</td>\n",
              "      <td>2.6</td>\n",
              "      <td>12</td>\n",
              "      <td>31</td>\n",
              "      <td>23</td>\n",
              "      <td>5</td>\n",
              "      <td>4</td>\n",
              "      <td>52</td>\n",
              "      <td>-0.013786</td>\n",
              "      <td>21276.0349</td>\n",
              "      <td>2017-12-31 23:00:00</td>\n",
              "    </tr>\n",
              "  </tbody>\n",
              "</table>\n",
              "<p>19478117 rows × 23 columns</p>\n",
              "</div>"
            ],
            "text/plain": [
              "                   timestamp  ... temp_timestamp_list_2017\n",
              "0        2016-01-01 00:00:00  ...      2017-01-01 00:00:00\n",
              "1        2016-01-01 00:00:00  ...      2017-01-01 00:00:00\n",
              "2        2016-01-01 00:00:00  ...      2017-01-01 00:00:00\n",
              "3        2016-01-01 00:00:00  ...      2017-01-01 00:00:00\n",
              "4        2016-01-01 00:00:00  ...      2017-01-01 00:00:00\n",
              "...                      ...  ...                      ...\n",
              "19478112 2016-12-31 23:00:00  ...      2017-12-31 23:00:00\n",
              "19478113 2016-12-31 23:00:00  ...      2017-12-31 23:00:00\n",
              "19478114 2016-12-31 23:00:00  ...      2017-12-31 23:00:00\n",
              "19478115 2016-12-31 23:00:00  ...      2017-12-31 23:00:00\n",
              "19478116 2016-12-31 23:00:00  ...      2017-12-31 23:00:00\n",
              "\n",
              "[19478117 rows x 23 columns]"
            ]
          },
          "metadata": {
            "tags": []
          },
          "execution_count": 10
        }
      ]
    },
    {
      "cell_type": "code",
      "metadata": {
        "id": "qb43qel12NSS",
        "colab_type": "code",
        "colab": {}
      },
      "source": [
        "train_data_outliers_removied=pd.merge(train_data_outliers_removied,farm_id_target_encoding,how='left',on=['farm_id','ingredient_type'])"
      ],
      "execution_count": 0,
      "outputs": []
    },
    {
      "cell_type": "code",
      "metadata": {
        "id": "x2WuIB3C3C5d",
        "colab_type": "code",
        "colab": {}
      },
      "source": [
        "train_data_outliers_removied.drop(['z_scores','temp_timestamp_list_2017','file_paths'],inplace=True,axis=1)"
      ],
      "execution_count": 0,
      "outputs": []
    },
    {
      "cell_type": "code",
      "metadata": {
        "id": "rms5Ko3y5uGU",
        "colab_type": "code",
        "outputId": "92b8410f-0576-4419-f376-6fa76afa4259",
        "colab": {
          "base_uri": "https://localhost:8080/",
          "height": 153
        }
      },
      "source": [
        "train_data_outliers_removied.columns"
      ],
      "execution_count": 0,
      "outputs": [
        {
          "output_type": "execute_result",
          "data": {
            "text/plain": [
              "Index(['timestamp', 'farm_id', 'ingredient_type', 'yield', 'farm_area',\n",
              "       'farming_company', 'deidentified_location', 'temp_obs', 'cloudiness',\n",
              "       'wind_direction', 'dew_temp', 'pressure_sea_level', 'precipitation',\n",
              "       'wind_speed', 'month', 'day', 'hour', 'weekday', 'quarter',\n",
              "       'weekofyear', 'time_series_yield_target_encoding',\n",
              "       'timeseries_data_weightage', 'farm_id_target_encoding',\n",
              "       'farm_id_ingredient_target_encoding_weightage'],\n",
              "      dtype='object')"
            ]
          },
          "metadata": {
            "tags": []
          },
          "execution_count": 13
        }
      ]
    },
    {
      "cell_type": "code",
      "metadata": {
        "id": "Sa4OUDLt4bZw",
        "colab_type": "code",
        "outputId": "f27c6213-6fcd-4a1c-d0fa-6b5b3f7de97c",
        "colab": {
          "base_uri": "https://localhost:8080/",
          "height": 34
        }
      },
      "source": [
        "dump(train_data_outliers_removied,'/content/drive/My Drive/Sudheer Projects/phd/Pure_code/train_data_without_label_encode.joblib')"
      ],
      "execution_count": 0,
      "outputs": [
        {
          "output_type": "execute_result",
          "data": {
            "text/plain": [
              "['/content/drive/My Drive/Sudheer Projects/phd/Pure_code/train_data_without_label_encode.joblib']"
            ]
          },
          "metadata": {
            "tags": []
          },
          "execution_count": 14
        }
      ]
    },
    {
      "cell_type": "code",
      "metadata": {
        "id": "LsIPNTFv55t7",
        "colab_type": "code",
        "colab": {}
      },
      "source": [
        "cat_cols=['ingredient_type','weekofyear','quarter','weekday','hour','day','month','farming_company','deidentified_location']\n",
        "train_data_outliers_removied[cat_cols] = train_data_outliers_removied[cat_cols].astype(\"category\")\n"
      ],
      "execution_count": 0,
      "outputs": []
    },
    {
      "cell_type": "code",
      "metadata": {
        "id": "2yLS6FaH7Slj",
        "colab_type": "code",
        "colab": {}
      },
      "source": [
        "train_data_outliers_removied.drop(['timestamp','farm_id'],inplace=True,axis=1)"
      ],
      "execution_count": 0,
      "outputs": []
    },
    {
      "cell_type": "code",
      "metadata": {
        "id": "zqP9YYXF71B3",
        "colab_type": "code",
        "outputId": "9a27a695-622f-464f-aada-0fc75165193b",
        "colab": {
          "base_uri": "https://localhost:8080/",
          "height": 34
        }
      },
      "source": [
        "\n",
        "from sklearn.preprocessing import LabelEncoder\n",
        "label_encoder=LabelEncoder()\n",
        "le_ingredient_type=label_encoder.fit(train_data_outliers_removied['ingredient_type'])\n",
        "train_data_outliers_removied['ingredient_type']=le_ingredient_type.transform(train_data_outliers_removied['ingredient_type'])\n",
        "dump(le_ingredient_type,'/content/drive/My Drive/Sudheer Projects/phd/Pure_code/le_ingredient_type.joblib')"
      ],
      "execution_count": 0,
      "outputs": [
        {
          "output_type": "execute_result",
          "data": {
            "text/plain": [
              "['/content/drive/My Drive/Sudheer Projects/phd/Pure_code/le_ingredient_type.joblib']"
            ]
          },
          "metadata": {
            "tags": []
          },
          "execution_count": 17
        }
      ]
    },
    {
      "cell_type": "code",
      "metadata": {
        "id": "wKSBgRTE8Nix",
        "colab_type": "code",
        "outputId": "1ac1346f-9cd9-4f73-bdff-fd8f0646fa10",
        "colab": {
          "base_uri": "https://localhost:8080/",
          "height": 34
        }
      },
      "source": [
        "\n",
        "from sklearn.preprocessing import LabelEncoder\n",
        "label_encoder=LabelEncoder()\n",
        "le_deidentified_location=label_encoder.fit(train_data_outliers_removied['deidentified_location'])\n",
        "train_data_outliers_removied['deidentified_location']=le_deidentified_location.transform(train_data_outliers_removied['deidentified_location'])\n",
        "dump(le_deidentified_location,'/content/drive/My Drive/Sudheer Projects/phd/Pure_code/le_deidentified_location.joblib')"
      ],
      "execution_count": 0,
      "outputs": [
        {
          "output_type": "execute_result",
          "data": {
            "text/plain": [
              "['/content/drive/My Drive/Sudheer Projects/phd/Pure_code/le_deidentified_location.joblib']"
            ]
          },
          "metadata": {
            "tags": []
          },
          "execution_count": 18
        }
      ]
    },
    {
      "cell_type": "code",
      "metadata": {
        "id": "B2MWLNZb8OU7",
        "colab_type": "code",
        "outputId": "7958065a-8a2e-4e87-bce1-c41dbede5f3b",
        "colab": {
          "base_uri": "https://localhost:8080/",
          "height": 34
        }
      },
      "source": [
        "\n",
        "from sklearn.preprocessing import LabelEncoder\n",
        "label_encoder=LabelEncoder()\n",
        "le_farming_company=label_encoder.fit(train_data_outliers_removied['farming_company'])\n",
        "train_data_outliers_removied['farming_company']=le_farming_company.transform(train_data_outliers_removied['farming_company'])\n",
        "dump(le_farming_company,'/content/drive/My Drive/Sudheer Projects/phd/Pure_code/le_farming_company.joblib')"
      ],
      "execution_count": 0,
      "outputs": [
        {
          "output_type": "execute_result",
          "data": {
            "text/plain": [
              "['/content/drive/My Drive/Sudheer Projects/phd/Pure_code/le_farming_company.joblib']"
            ]
          },
          "metadata": {
            "tags": []
          },
          "execution_count": 19
        }
      ]
    },
    {
      "cell_type": "code",
      "metadata": {
        "id": "QKNErO7f7YBc",
        "colab_type": "code",
        "outputId": "3f970e18-21b1-4491-e8b4-79680882fdab",
        "colab": {
          "base_uri": "https://localhost:8080/",
          "height": 34
        }
      },
      "source": [
        "dump(train_data_outliers_removied,'/content/drive/My Drive/Sudheer Projects/phd/Pure_code/train_data_model_building.joblib')"
      ],
      "execution_count": 0,
      "outputs": [
        {
          "output_type": "execute_result",
          "data": {
            "text/plain": [
              "['/content/drive/My Drive/Sudheer Projects/phd/Pure_code/train_data_model_building.joblib']"
            ]
          },
          "metadata": {
            "tags": []
          },
          "execution_count": 20
        }
      ]
    },
    {
      "cell_type": "code",
      "metadata": {
        "id": "XdsO0IbT9EwO",
        "colab_type": "code",
        "outputId": "77a924a2-87d6-472a-ffbb-a0a37860db1b",
        "colab": {
          "base_uri": "https://localhost:8080/",
          "height": 439
        }
      },
      "source": [
        "train_data_outliers_removied"
      ],
      "execution_count": 0,
      "outputs": [
        {
          "output_type": "execute_result",
          "data": {
            "text/html": [
              "<div>\n",
              "<style scoped>\n",
              "    .dataframe tbody tr th:only-of-type {\n",
              "        vertical-align: middle;\n",
              "    }\n",
              "\n",
              "    .dataframe tbody tr th {\n",
              "        vertical-align: top;\n",
              "    }\n",
              "\n",
              "    .dataframe thead th {\n",
              "        text-align: right;\n",
              "    }\n",
              "</style>\n",
              "<table border=\"1\" class=\"dataframe\">\n",
              "  <thead>\n",
              "    <tr style=\"text-align: right;\">\n",
              "      <th></th>\n",
              "      <th>ingredient_type</th>\n",
              "      <th>yield</th>\n",
              "      <th>farm_area</th>\n",
              "      <th>farming_company</th>\n",
              "      <th>deidentified_location</th>\n",
              "      <th>temp_obs</th>\n",
              "      <th>cloudiness</th>\n",
              "      <th>wind_direction</th>\n",
              "      <th>dew_temp</th>\n",
              "      <th>pressure_sea_level</th>\n",
              "      <th>precipitation</th>\n",
              "      <th>wind_speed</th>\n",
              "      <th>month</th>\n",
              "      <th>day</th>\n",
              "      <th>hour</th>\n",
              "      <th>weekday</th>\n",
              "      <th>quarter</th>\n",
              "      <th>weekofyear</th>\n",
              "      <th>time_series_yield_target_encoding</th>\n",
              "      <th>timeseries_data_weightage</th>\n",
              "      <th>farm_id_target_encoding</th>\n",
              "      <th>farm_id_ingredient_target_encoding_weightage</th>\n",
              "    </tr>\n",
              "  </thead>\n",
              "  <tbody>\n",
              "    <tr>\n",
              "      <th>0</th>\n",
              "      <td>0</td>\n",
              "      <td>37.0400</td>\n",
              "      <td>2043.866000</td>\n",
              "      <td>0</td>\n",
              "      <td>4</td>\n",
              "      <td>10.0</td>\n",
              "      <td>8.0</td>\n",
              "      <td>350.0</td>\n",
              "      <td>2.2</td>\n",
              "      <td>1021.1</td>\n",
              "      <td>0.0</td>\n",
              "      <td>4.1</td>\n",
              "      <td>1</td>\n",
              "      <td>1</td>\n",
              "      <td>0</td>\n",
              "      <td>4</td>\n",
              "      <td>1</td>\n",
              "      <td>53</td>\n",
              "      <td>117865.7408</td>\n",
              "      <td>346</td>\n",
              "      <td>4.722934e+05</td>\n",
              "      <td>4.722934e+05</td>\n",
              "    </tr>\n",
              "    <tr>\n",
              "      <th>1</th>\n",
              "      <td>0</td>\n",
              "      <td>291.8000</td>\n",
              "      <td>35416.574563</td>\n",
              "      <td>0</td>\n",
              "      <td>1</td>\n",
              "      <td>-8.3</td>\n",
              "      <td>8.0</td>\n",
              "      <td>250.0</td>\n",
              "      <td>-12.2</td>\n",
              "      <td>1023.3</td>\n",
              "      <td>-1.0</td>\n",
              "      <td>4.1</td>\n",
              "      <td>1</td>\n",
              "      <td>1</td>\n",
              "      <td>0</td>\n",
              "      <td>4</td>\n",
              "      <td>1</td>\n",
              "      <td>53</td>\n",
              "      <td>117865.7408</td>\n",
              "      <td>0</td>\n",
              "      <td>6.379575e+06</td>\n",
              "      <td>3.815404e+06</td>\n",
              "    </tr>\n",
              "    <tr>\n",
              "      <th>2</th>\n",
              "      <td>1</td>\n",
              "      <td>25.3232</td>\n",
              "      <td>35416.574563</td>\n",
              "      <td>0</td>\n",
              "      <td>1</td>\n",
              "      <td>-8.3</td>\n",
              "      <td>8.0</td>\n",
              "      <td>250.0</td>\n",
              "      <td>-12.2</td>\n",
              "      <td>1023.3</td>\n",
              "      <td>-1.0</td>\n",
              "      <td>4.1</td>\n",
              "      <td>1</td>\n",
              "      <td>1</td>\n",
              "      <td>0</td>\n",
              "      <td>4</td>\n",
              "      <td>1</td>\n",
              "      <td>53</td>\n",
              "      <td>26371.6869</td>\n",
              "      <td>4</td>\n",
              "      <td>6.379575e+06</td>\n",
              "      <td>2.158531e+06</td>\n",
              "    </tr>\n",
              "    <tr>\n",
              "      <th>3</th>\n",
              "      <td>0</td>\n",
              "      <td>15.6400</td>\n",
              "      <td>1432.564260</td>\n",
              "      <td>1</td>\n",
              "      <td>4</td>\n",
              "      <td>10.0</td>\n",
              "      <td>8.0</td>\n",
              "      <td>350.0</td>\n",
              "      <td>2.2</td>\n",
              "      <td>1021.1</td>\n",
              "      <td>0.0</td>\n",
              "      <td>4.1</td>\n",
              "      <td>1</td>\n",
              "      <td>1</td>\n",
              "      <td>0</td>\n",
              "      <td>4</td>\n",
              "      <td>1</td>\n",
              "      <td>53</td>\n",
              "      <td>117865.7408</td>\n",
              "      <td>3</td>\n",
              "      <td>2.196656e+05</td>\n",
              "      <td>2.196656e+05</td>\n",
              "    </tr>\n",
              "    <tr>\n",
              "      <th>4</th>\n",
              "      <td>0</td>\n",
              "      <td>19.4900</td>\n",
              "      <td>941.571905</td>\n",
              "      <td>14</td>\n",
              "      <td>6</td>\n",
              "      <td>15.6</td>\n",
              "      <td>6.0</td>\n",
              "      <td>270.0</td>\n",
              "      <td>-5.6</td>\n",
              "      <td>1015.3</td>\n",
              "      <td>0.0</td>\n",
              "      <td>3.6</td>\n",
              "      <td>1</td>\n",
              "      <td>1</td>\n",
              "      <td>0</td>\n",
              "      <td>4</td>\n",
              "      <td>1</td>\n",
              "      <td>53</td>\n",
              "      <td>117865.7408</td>\n",
              "      <td>1</td>\n",
              "      <td>1.574181e+05</td>\n",
              "      <td>1.574181e+05</td>\n",
              "    </tr>\n",
              "    <tr>\n",
              "      <th>...</th>\n",
              "      <td>...</td>\n",
              "      <td>...</td>\n",
              "      <td>...</td>\n",
              "      <td>...</td>\n",
              "      <td>...</td>\n",
              "      <td>...</td>\n",
              "      <td>...</td>\n",
              "      <td>...</td>\n",
              "      <td>...</td>\n",
              "      <td>...</td>\n",
              "      <td>...</td>\n",
              "      <td>...</td>\n",
              "      <td>...</td>\n",
              "      <td>...</td>\n",
              "      <td>...</td>\n",
              "      <td>...</td>\n",
              "      <td>...</td>\n",
              "      <td>...</td>\n",
              "      <td>...</td>\n",
              "      <td>...</td>\n",
              "      <td>...</td>\n",
              "      <td>...</td>\n",
              "    </tr>\n",
              "    <tr>\n",
              "      <th>19478112</th>\n",
              "      <td>0</td>\n",
              "      <td>142.3700</td>\n",
              "      <td>15232.282977</td>\n",
              "      <td>14</td>\n",
              "      <td>6</td>\n",
              "      <td>16.7</td>\n",
              "      <td>4.0</td>\n",
              "      <td>250.0</td>\n",
              "      <td>10.0</td>\n",
              "      <td>1011.0</td>\n",
              "      <td>0.0</td>\n",
              "      <td>2.6</td>\n",
              "      <td>12</td>\n",
              "      <td>31</td>\n",
              "      <td>23</td>\n",
              "      <td>5</td>\n",
              "      <td>4</td>\n",
              "      <td>52</td>\n",
              "      <td>159697.0412</td>\n",
              "      <td>3</td>\n",
              "      <td>3.429424e+06</td>\n",
              "      <td>1.285013e+06</td>\n",
              "    </tr>\n",
              "    <tr>\n",
              "      <th>19478113</th>\n",
              "      <td>1</td>\n",
              "      <td>102.3400</td>\n",
              "      <td>15232.282977</td>\n",
              "      <td>14</td>\n",
              "      <td>6</td>\n",
              "      <td>16.7</td>\n",
              "      <td>4.0</td>\n",
              "      <td>250.0</td>\n",
              "      <td>10.0</td>\n",
              "      <td>1011.0</td>\n",
              "      <td>0.0</td>\n",
              "      <td>2.6</td>\n",
              "      <td>12</td>\n",
              "      <td>31</td>\n",
              "      <td>23</td>\n",
              "      <td>5</td>\n",
              "      <td>4</td>\n",
              "      <td>52</td>\n",
              "      <td>52442.6647</td>\n",
              "      <td>3</td>\n",
              "      <td>3.429424e+06</td>\n",
              "      <td>2.144410e+06</td>\n",
              "    </tr>\n",
              "    <tr>\n",
              "      <th>19478114</th>\n",
              "      <td>0</td>\n",
              "      <td>79.3100</td>\n",
              "      <td>12733.749695</td>\n",
              "      <td>8</td>\n",
              "      <td>6</td>\n",
              "      <td>16.7</td>\n",
              "      <td>4.0</td>\n",
              "      <td>250.0</td>\n",
              "      <td>10.0</td>\n",
              "      <td>1011.0</td>\n",
              "      <td>0.0</td>\n",
              "      <td>2.6</td>\n",
              "      <td>12</td>\n",
              "      <td>31</td>\n",
              "      <td>23</td>\n",
              "      <td>5</td>\n",
              "      <td>4</td>\n",
              "      <td>52</td>\n",
              "      <td>159697.0412</td>\n",
              "      <td>2</td>\n",
              "      <td>4.028397e+06</td>\n",
              "      <td>1.313502e+06</td>\n",
              "    </tr>\n",
              "    <tr>\n",
              "      <th>19478115</th>\n",
              "      <td>1</td>\n",
              "      <td>72.6230</td>\n",
              "      <td>12733.749695</td>\n",
              "      <td>8</td>\n",
              "      <td>6</td>\n",
              "      <td>16.7</td>\n",
              "      <td>4.0</td>\n",
              "      <td>250.0</td>\n",
              "      <td>10.0</td>\n",
              "      <td>1011.0</td>\n",
              "      <td>0.0</td>\n",
              "      <td>2.6</td>\n",
              "      <td>12</td>\n",
              "      <td>31</td>\n",
              "      <td>23</td>\n",
              "      <td>5</td>\n",
              "      <td>4</td>\n",
              "      <td>52</td>\n",
              "      <td>52442.6647</td>\n",
              "      <td>1</td>\n",
              "      <td>4.028397e+06</td>\n",
              "      <td>2.571440e+06</td>\n",
              "    </tr>\n",
              "    <tr>\n",
              "      <th>19478116</th>\n",
              "      <td>3</td>\n",
              "      <td>11.7228</td>\n",
              "      <td>12733.749695</td>\n",
              "      <td>8</td>\n",
              "      <td>6</td>\n",
              "      <td>16.7</td>\n",
              "      <td>4.0</td>\n",
              "      <td>250.0</td>\n",
              "      <td>10.0</td>\n",
              "      <td>1011.0</td>\n",
              "      <td>0.0</td>\n",
              "      <td>2.6</td>\n",
              "      <td>12</td>\n",
              "      <td>31</td>\n",
              "      <td>23</td>\n",
              "      <td>5</td>\n",
              "      <td>4</td>\n",
              "      <td>52</td>\n",
              "      <td>21276.0349</td>\n",
              "      <td>2</td>\n",
              "      <td>4.028397e+06</td>\n",
              "      <td>1.434553e+05</td>\n",
              "    </tr>\n",
              "  </tbody>\n",
              "</table>\n",
              "<p>19478117 rows × 22 columns</p>\n",
              "</div>"
            ],
            "text/plain": [
              "          ingredient_type  ...  farm_id_ingredient_target_encoding_weightage\n",
              "0                       0  ...                                  4.722934e+05\n",
              "1                       0  ...                                  3.815404e+06\n",
              "2                       1  ...                                  2.158531e+06\n",
              "3                       0  ...                                  2.196656e+05\n",
              "4                       0  ...                                  1.574181e+05\n",
              "...                   ...  ...                                           ...\n",
              "19478112                0  ...                                  1.285013e+06\n",
              "19478113                1  ...                                  2.144410e+06\n",
              "19478114                0  ...                                  1.313502e+06\n",
              "19478115                1  ...                                  2.571440e+06\n",
              "19478116                3  ...                                  1.434553e+05\n",
              "\n",
              "[19478117 rows x 22 columns]"
            ]
          },
          "metadata": {
            "tags": []
          },
          "execution_count": 21
        }
      ]
    },
    {
      "cell_type": "code",
      "metadata": {
        "id": "34CDlyL3GIGY",
        "colab_type": "code",
        "colab": {}
      },
      "source": [
        "del train_data_outliers_removied"
      ],
      "execution_count": 0,
      "outputs": []
    },
    {
      "cell_type": "code",
      "metadata": {
        "id": "eRnjl2o79ZTQ",
        "colab_type": "code",
        "outputId": "730f8af6-dd70-4c23-b5a1-b024b24764c9",
        "colab": {
          "base_uri": "https://localhost:8080/",
          "height": 102
        }
      },
      "source": [
        "import time\n",
        "start = time.time()\n",
        "\n",
        "from joblib import  dump, load\n",
        "Training_data=load('/content/drive/My Drive/Sudheer Projects/phd/Pure_code/train_data_model_building.joblib')\n",
        "\n",
        "x=Training_data.copy().drop(['quarter','cloudiness','yield','precipitation','wind_speed'],axis=1)\n",
        "y=Training_data['yield']\n",
        "\n",
        "\n",
        "from sklearn import model_selection\n",
        "\n",
        "X_train,X_test,Y_train,Y_test=model_selection.train_test_split(x,y,test_size=0.3,random_state=10)\n",
        "\n",
        "\n",
        "from sklearn.tree import DecisionTreeRegressor\n",
        "params={'max_depth': 5, 'min_samples_leaf': 100, 'min_samples_split': 4}\n",
        "regressor = DecisionTreeRegressor(**params)\n",
        "#regressor = DecisionTreeRegressor()\n",
        "decision_tree_model=regressor.fit(X_train, Y_train)\n",
        "\n",
        "Y_pred_train = decision_tree_model.predict(X_train)\n",
        "Y_pred_test=decision_tree_model.predict(X_test)\n",
        "from sklearn.metrics import mean_squared_error\n",
        "mse_train=mean_squared_error(Y_train,Y_pred_train)\n",
        "mse_test=mean_squared_error(Y_test,Y_pred_test)\n",
        "\n",
        "import numpy as np \n",
        "rmse_test=np.sqrt(mse_test)\n",
        "rmse_train=np.sqrt(mse_train)\n",
        "print(\"Train RMSE\")\n",
        "print(np.sqrt(mse_train))\n",
        "print(\"Validation RMSE\")\n",
        "print(np.sqrt(mse_test))\n",
        "\n",
        "done = time.time()\n",
        "elapsed = done - start\n",
        "print(elapsed)\n",
        "\n",
        "\n"
      ],
      "execution_count": 0,
      "outputs": [
        {
          "output_type": "stream",
          "text": [
            "Train RMSE\n",
            "290.5190942990046\n",
            "Validation RMSE\n",
            "290.7703430693934\n",
            "250.58774638175964\n"
          ],
          "name": "stdout"
        }
      ]
    },
    {
      "cell_type": "code",
      "metadata": {
        "id": "Rp_NXj9PGTFD",
        "colab_type": "code",
        "outputId": "552637c4-15e7-472f-e186-3a75e9727aa9",
        "colab": {
          "base_uri": "https://localhost:8080/",
          "height": 136
        }
      },
      "source": [
        "import pandas as pd\n",
        "import numpy as np\n",
        "import time\n",
        "from joblib import load,dump\n",
        "Training_data=load('/content/drive/My Drive/Sudheer Projects/phd/Pure_code/train_data_model_building.joblib')\n",
        "start = time.time()\n",
        "\n",
        "x=Training_data.copy().drop(['quarter','cloudiness','yield','precipitation','wind_speed'],axis=1)\n",
        "y=Training_data['yield']\n",
        "\n",
        "\n",
        "from sklearn import model_selection\n",
        "from sklearn.ensemble import RandomForestRegressor\n",
        "\n",
        "X_train,X_test,Y_train,Y_test=model_selection.train_test_split(x,y,test_size=0.3,random_state=20)\n",
        "print(\"Train validation split successful\")\n",
        "params={'n_estimators': 8, 'min_samples_split': 2 , 'n_jobs' : -1 ,'min_samples_leaf': 1}\n",
        "regressor = RandomForestRegressor(**params)\n",
        "random_forest_tree_model=regressor.fit(X_train, Y_train)\n",
        "\n",
        "print(\"Model fit complete\")\n",
        "\n",
        "Y_pred_train = random_forest_tree_model.predict(X_train)\n",
        "Y_pred_test=random_forest_tree_model.predict(X_test)\n",
        "\n",
        "from sklearn.metrics import mean_squared_error\n",
        "mse_train=mean_squared_error(Y_train,Y_pred_train)\n",
        "mse_test=mean_squared_error(Y_test,Y_pred_test)\n",
        "\n",
        "import numpy as np \n",
        "rmse_test=np.sqrt(mse_test)\n",
        "rmse_train=np.sqrt(mse_train)\n",
        "print(\"Train RMSE\")\n",
        "print(np.sqrt(mse_train))\n",
        "print(\"Validation RMSE\")\n",
        "print(np.sqrt(mse_test))\n",
        "\n",
        "done = time.time()\n",
        "elapsed = done - start\n",
        "print(elapsed)\n",
        "\n"
      ],
      "execution_count": 0,
      "outputs": [
        {
          "output_type": "stream",
          "text": [
            "Train validation split successful\n",
            "Model fit complete\n",
            "Train RMSE\n",
            "35.10482182443121\n",
            "Validation RMSE\n",
            "79.50151862033405\n",
            "493.9812331199646\n"
          ],
          "name": "stdout"
        }
      ]
    },
    {
      "cell_type": "code",
      "metadata": {
        "id": "yPrI4o4KNTu2",
        "colab_type": "code",
        "outputId": "5883f8da-77fa-4324-b31f-35ef2aa5e9c5",
        "colab": {
          "base_uri": "https://localhost:8080/",
          "height": 34
        }
      },
      "source": [
        "dump(random_forest_tree_model,'/content/drive/My Drive/Sudheer Projects/phd/Pure_code/random_forest_tree_model4178.joblib')\n"
      ],
      "execution_count": 0,
      "outputs": [
        {
          "output_type": "execute_result",
          "data": {
            "text/plain": [
              "['/content/drive/My Drive/Sudheer Projects/phd/Pure_code/random_forest_tree_model4178.joblib']"
            ]
          },
          "metadata": {
            "tags": []
          },
          "execution_count": 4
        }
      ]
    },
    {
      "cell_type": "code",
      "metadata": {
        "id": "sL0s2TbzSYNJ",
        "colab_type": "code",
        "colab": {}
      },
      "source": [
        "import pickle \n",
        "pickle_in = open(\"/content/drive/My Drive/Sudheer Projects/phd/Model_building_dataSets/Test_data_final_with_id.pickle\",\"rb\")\n",
        "Test_data = pickle.load(pickle_in)"
      ],
      "execution_count": 0,
      "outputs": []
    },
    {
      "cell_type": "code",
      "metadata": {
        "id": "mQFiMjcJTNm9",
        "colab_type": "code",
        "colab": {}
      },
      "source": [
        "random_forest_tree_model.predict(Test_data)"
      ],
      "execution_count": 0,
      "outputs": []
    },
    {
      "cell_type": "code",
      "metadata": {
        "id": "T7yHj83YTgNC",
        "colab_type": "code",
        "outputId": "28a4372c-1554-4456-d051-1bbb6f52f457",
        "colab": {
          "base_uri": "https://localhost:8080/",
          "height": 136
        }
      },
      "source": [
        "from sklearn.ensemble import RandomForestRegressor\n",
        "RandomForestRegressor()\n"
      ],
      "execution_count": 0,
      "outputs": [
        {
          "output_type": "execute_result",
          "data": {
            "text/plain": [
              "RandomForestRegressor(bootstrap=True, criterion='mse', max_depth=None,\n",
              "                      max_features='auto', max_leaf_nodes=None,\n",
              "                      min_impurity_decrease=0.0, min_impurity_split=None,\n",
              "                      min_samples_leaf=1, min_samples_split=2,\n",
              "                      min_weight_fraction_leaf=0.0, n_estimators='warn',\n",
              "                      n_jobs=None, oob_score=False, random_state=None,\n",
              "                      verbose=0, warm_start=False)"
            ]
          },
          "metadata": {
            "tags": []
          },
          "execution_count": 6
        }
      ]
    },
    {
      "cell_type": "code",
      "metadata": {
        "id": "0JhyRzMQaqBv",
        "colab_type": "code",
        "outputId": "3d51cca8-67de-4abf-baa0-d5944651ee32",
        "colab": {
          "base_uri": "https://localhost:8080/",
          "height": 34
        }
      },
      "source": [
        "import sklearn \n",
        "sklearn.__version__"
      ],
      "execution_count": 0,
      "outputs": [
        {
          "output_type": "execute_result",
          "data": {
            "text/plain": [
              "'0.21.3'"
            ]
          },
          "metadata": {
            "tags": []
          },
          "execution_count": 2
        }
      ]
    },
    {
      "cell_type": "code",
      "metadata": {
        "id": "As1py9nBdSIW",
        "colab_type": "code",
        "outputId": "05773aae-ae8e-432b-b41c-90c00994db7e",
        "colab": {
          "base_uri": "https://localhost:8080/",
          "height": 153
        }
      },
      "source": [
        "X_test.columns"
      ],
      "execution_count": 0,
      "outputs": [
        {
          "output_type": "execute_result",
          "data": {
            "text/plain": [
              "Index(['ingredient_type', 'farm_area', 'farming_company',\n",
              "       'deidentified_location', 'temp_obs', 'cloudiness', 'wind_direction',\n",
              "       'dew_temp', 'pressure_sea_level', 'precipitation', 'wind_speed',\n",
              "       'month', 'day', 'hour', 'weekday', 'quarter', 'weekofyear',\n",
              "       'time_series_yield_target_encoding', 'timeseries_data_weightage',\n",
              "       'farm_id_target_encoding',\n",
              "       'farm_id_ingredient_target_encoding_weightage'],\n",
              "      dtype='object')"
            ]
          },
          "metadata": {
            "tags": []
          },
          "execution_count": 5
        }
      ]
    },
    {
      "cell_type": "code",
      "metadata": {
        "id": "8QG5EI2tgSUG",
        "colab_type": "code",
        "outputId": "74e30171-157d-4861-f82c-40a0c1da0904",
        "colab": {
          "base_uri": "https://localhost:8080/",
          "height": 153
        }
      },
      "source": [
        "Test_data.columns"
      ],
      "execution_count": 0,
      "outputs": [
        {
          "output_type": "execute_result",
          "data": {
            "text/plain": [
              "Index(['ingredient_type', 'id', 'timeseries_data_weightage',\n",
              "       'farm_id_target_encoding',\n",
              "       'farm_id_ingredient_target_encoding_weightage', 'farm_area',\n",
              "       'farming_company', 'deidentified_location', 'temp_obs', 'cloudiness',\n",
              "       'wind_direction', 'dew_temp', 'pressure_sea_level', 'precipitation',\n",
              "       'wind_speed', 'time_series_yield_target_encoding', 'month', 'day',\n",
              "       'hour', 'weekday', 'quarter', 'weekofyear'],\n",
              "      dtype='object')"
            ]
          },
          "metadata": {
            "tags": []
          },
          "execution_count": 14
        }
      ]
    },
    {
      "cell_type": "code",
      "metadata": {
        "id": "AD7MqQqngmPb",
        "colab_type": "code",
        "colab": {}
      },
      "source": [
        "Test_data=Test_data.reindex(['ingredient_type', 'farm_area', 'farming_company',\n",
        "       'deidentified_location', 'temp_obs', 'cloudiness', 'wind_direction',\n",
        "       'dew_temp', 'pressure_sea_level', 'precipitation', 'wind_speed',\n",
        "       'month', 'day', 'hour', 'weekday', 'quarter', 'weekofyear',\n",
        "       'time_series_yield_target_encoding', 'timeseries_data_weightage',\n",
        "       'farm_id_target_encoding',\n",
        "       'farm_id_ingredient_target_encoding_weightage','id'],axis=1)"
      ],
      "execution_count": 0,
      "outputs": []
    },
    {
      "cell_type": "code",
      "metadata": {
        "id": "OtIf8Oeph7yQ",
        "colab_type": "code",
        "colab": {}
      },
      "source": [
        "Test_data.drop(['id'],inplace=True,axis=1)"
      ],
      "execution_count": 0,
      "outputs": []
    },
    {
      "cell_type": "code",
      "metadata": {
        "id": "41ffMWwziENG",
        "colab_type": "code",
        "outputId": "ba315b08-7d71-4893-d78d-5d36adca30b9",
        "colab": {
          "base_uri": "https://localhost:8080/",
          "height": 34
        }
      },
      "source": [
        "import pickle\n",
        "pickle_out = open(\"/content/drive/My Drive/Sudheer Projects/phd/Model_building_dataSets/Test_data_final_without_id.pickle\",\"wb\")\n",
        "pickle.dump(Test_data, pickle_out)\n",
        "pickle_out.close()\n",
        "print(\"Test Data object saved\")"
      ],
      "execution_count": 0,
      "outputs": [
        {
          "output_type": "stream",
          "text": [
            "Test Data object saved\n"
          ],
          "name": "stdout"
        }
      ]
    },
    {
      "cell_type": "code",
      "metadata": {
        "id": "CEYq2X9ZiMiO",
        "colab_type": "code",
        "outputId": "6d8947a6-7cd5-4fa5-ee47-205bb87edafc",
        "colab": {
          "base_uri": "https://localhost:8080/",
          "height": 683
        }
      },
      "source": [
        "feat_importances = pd.Series(random_forest_tree_model.feature_importances_, index = X_train.columns)\n",
        "%matplotlib inline\n",
        "feat_importances.sort_values().plot(kind='barh',figsize=(16,8),color ='green')\n",
        "plt.show()"
      ],
      "execution_count": 0,
      "outputs": [
        {
          "output_type": "error",
          "ename": "NameError",
          "evalue": "ignored",
          "traceback": [
            "\u001b[0;31m---------------------------------------------------------------------------\u001b[0m",
            "\u001b[0;31mNameError\u001b[0m                                 Traceback (most recent call last)",
            "\u001b[0;32m<ipython-input-17-aaa1d0238c9c>\u001b[0m in \u001b[0;36m<module>\u001b[0;34m()\u001b[0m\n\u001b[1;32m      2\u001b[0m \u001b[0mget_ipython\u001b[0m\u001b[0;34m(\u001b[0m\u001b[0;34m)\u001b[0m\u001b[0;34m.\u001b[0m\u001b[0mmagic\u001b[0m\u001b[0;34m(\u001b[0m\u001b[0;34m'matplotlib inline'\u001b[0m\u001b[0;34m)\u001b[0m\u001b[0;34m\u001b[0m\u001b[0;34m\u001b[0m\u001b[0m\n\u001b[1;32m      3\u001b[0m \u001b[0mfeat_importances\u001b[0m\u001b[0;34m.\u001b[0m\u001b[0msort_values\u001b[0m\u001b[0;34m(\u001b[0m\u001b[0;34m)\u001b[0m\u001b[0;34m.\u001b[0m\u001b[0mplot\u001b[0m\u001b[0;34m(\u001b[0m\u001b[0mkind\u001b[0m\u001b[0;34m=\u001b[0m\u001b[0;34m'barh'\u001b[0m\u001b[0;34m,\u001b[0m\u001b[0mfigsize\u001b[0m\u001b[0;34m=\u001b[0m\u001b[0;34m(\u001b[0m\u001b[0;36m16\u001b[0m\u001b[0;34m,\u001b[0m\u001b[0;36m8\u001b[0m\u001b[0;34m)\u001b[0m\u001b[0;34m,\u001b[0m\u001b[0mcolor\u001b[0m \u001b[0;34m=\u001b[0m\u001b[0;34m'green'\u001b[0m\u001b[0;34m)\u001b[0m\u001b[0;34m\u001b[0m\u001b[0;34m\u001b[0m\u001b[0m\n\u001b[0;32m----> 4\u001b[0;31m \u001b[0mplt\u001b[0m\u001b[0;34m.\u001b[0m\u001b[0mshow\u001b[0m\u001b[0;34m(\u001b[0m\u001b[0;34m)\u001b[0m\u001b[0;34m\u001b[0m\u001b[0;34m\u001b[0m\u001b[0m\n\u001b[0m",
            "\u001b[0;31mNameError\u001b[0m: name 'plt' is not defined"
          ]
        },
        {
          "output_type": "display_data",
          "data": {
            "image/png": "[encoded data removed]",
            "text/plain": [
              "<Figure size 1152x576 with 1 Axes>"
            ]
          },
          "metadata": {
            "tags": []
          }
        }
      ]
    },
    {
      "cell_type": "code",
      "metadata": {
        "id": "aKsZjqWYia3Y",
        "colab_type": "code",
        "outputId": "60da43a8-6e4e-4101-8795-c821187696f2",
        "colab": {
          "base_uri": "https://localhost:8080/",
          "height": 34
        }
      },
      "source": [
        "random_forest_tree_model.predict(Test_data).shape"
      ],
      "execution_count": 0,
      "outputs": [
        {
          "output_type": "execute_result",
          "data": {
            "text/plain": [
              "(20848800,)"
            ]
          },
          "metadata": {
            "tags": []
          },
          "execution_count": 19
        }
      ]
    },
    {
      "cell_type": "code",
      "metadata": {
        "id": "kqjWArFejWoi",
        "colab_type": "code",
        "colab": {}
      },
      "source": [
        "random_forest_tree_model4178=pd.DataFrame(columns=['id','yield'])\n",
        "random_forest_tree_model4178['id']=pd.read_csv('/content/drive/My Drive/Sudheer Projects/phd/test_data.csv')['id']\n",
        "random_forest_tree_model4178['yield']=pd.Series(random_forest_tree_model.predict(Test_data))\n",
        "random_forest_tree_model4178.to_csv('/content/drive/My Drive/Sudheer Projects/phd/random_forest_tree_model4178.csv',index=False)"
      ],
      "execution_count": 0,
      "outputs": []
    },
    {
      "cell_type": "code",
      "metadata": {
        "id": "3LF6Re4FkMsd",
        "colab_type": "code",
        "colab": {}
      },
      "source": [
        "#Test_data=load('/content/drive/My Drive/Sudheer Projects/phd/Model_building_dataSets/Test_data_final_without_id.pickle')\n",
        "params={'max_depth': 5, 'min_samples_leaf': 100, 'min_samples_split': 4}\n",
        "regressor = DecisionTreeRegressor(**params)\n",
        "decision_tree_model=regressor.fit(x,y)\n",
        "random_forest_tree_model4178=pd.DataFrame(columns=['id','yield'])\n",
        "random_forest_tree_model4178['id']=pd.read_csv('/content/drive/My Drive/Sudheer Projects/phd/test_data.csv')['id']\n",
        "random_forest_tree_model4178['yield']=pd.Series(decision_tree_model.predict(Test_data.drop(['quarter','cloudiness','precipitation','wind_speed'],axis=1)))\n",
        "random_forest_tree_model4178.to_csv('/content/drive/My Drive/Sudheer Projects/phd/desicion_tree_best.csv',index=False)\n"
      ],
      "execution_count": 0,
      "outputs": []
    },
    {
      "cell_type": "code",
      "metadata": {
        "id": "hj8a4e0uvSF2",
        "colab_type": "code",
        "colab": {}
      },
      "source": [
        ""
      ],
      "execution_count": 0,
      "outputs": []
    },
    {
      "cell_type": "code",
      "metadata": {
        "id": "SJbigMoxlGvj",
        "colab_type": "code",
        "outputId": "c0247834-8ac8-450b-9a21-2ea735055e67",
        "colab": {
          "base_uri": "https://localhost:8080/",
          "height": 204
        }
      },
      "source": [
        "random_forest_tree_model4178.tail()"
      ],
      "execution_count": 0,
      "outputs": [
        {
          "output_type": "execute_result",
          "data": {
            "text/html": [
              "<div>\n",
              "<style scoped>\n",
              "    .dataframe tbody tr th:only-of-type {\n",
              "        vertical-align: middle;\n",
              "    }\n",
              "\n",
              "    .dataframe tbody tr th {\n",
              "        vertical-align: top;\n",
              "    }\n",
              "\n",
              "    .dataframe thead th {\n",
              "        text-align: right;\n",
              "    }\n",
              "</style>\n",
              "<table border=\"1\" class=\"dataframe\">\n",
              "  <thead>\n",
              "    <tr style=\"text-align: right;\">\n",
              "      <th></th>\n",
              "      <th>id</th>\n",
              "      <th>yield</th>\n",
              "    </tr>\n",
              "  </thead>\n",
              "  <tbody>\n",
              "    <tr>\n",
              "      <th>20848795</th>\n",
              "      <td>41696845</td>\n",
              "      <td>74.785875</td>\n",
              "    </tr>\n",
              "    <tr>\n",
              "      <th>20848796</th>\n",
              "      <td>41696846</td>\n",
              "      <td>74.785875</td>\n",
              "    </tr>\n",
              "    <tr>\n",
              "      <th>20848797</th>\n",
              "      <td>41696847</td>\n",
              "      <td>376.262773</td>\n",
              "    </tr>\n",
              "    <tr>\n",
              "      <th>20848798</th>\n",
              "      <td>41696848</td>\n",
              "      <td>118.202512</td>\n",
              "    </tr>\n",
              "    <tr>\n",
              "      <th>20848799</th>\n",
              "      <td>41696849</td>\n",
              "      <td>154.225134</td>\n",
              "    </tr>\n",
              "  </tbody>\n",
              "</table>\n",
              "</div>"
            ],
            "text/plain": [
              "                id       yield\n",
              "20848795  41696845   74.785875\n",
              "20848796  41696846   74.785875\n",
              "20848797  41696847  376.262773\n",
              "20848798  41696848  118.202512\n",
              "20848799  41696849  154.225134"
            ]
          },
          "metadata": {
            "tags": []
          },
          "execution_count": 22
        }
      ]
    },
    {
      "cell_type": "code",
      "metadata": {
        "id": "Wns9irz89ytL",
        "colab_type": "code",
        "colab": {}
      },
      "source": [
        ""
      ],
      "execution_count": 0,
      "outputs": []
    },
    {
      "cell_type": "code",
      "metadata": {
        "id": "OE5puncwAQh2",
        "colab_type": "code",
        "outputId": "36721734-cc8e-4941-f012-2bb0736ca620",
        "colab": {
          "base_uri": "https://localhost:8080/",
          "height": 411
        }
      },
      "source": [
        "from keras.models import Sequential\n",
        "from keras.layers import Dense,Input\n",
        "neural_network = Sequential()\n",
        "\n",
        "neural_network.add(Dense(32, input_dim=22, activation = 'sigmoid',\n",
        "                         kernel_initializer = 'RandomUniform', bias_initializer = 'zeros'))\n",
        "\n",
        "neural_network.add(Dense(10, activation = 'sigmoid', kernel_initializer = 'zeros',\n",
        "                         bias_initializer = 'RandomUniform'))\n",
        "\n",
        "\n",
        "neural_network.add(Dense(1, activation = 'softmax', kernel_initializer = 'zeros',\n",
        "                         bias_initializer = 'RandomUniform'))\n",
        "neural_network.summary()\n",
        "\n",
        "from keras.optimizers import Adam\n",
        "\n",
        "customized_optimizer = Adam(lr = 0.0001)\n",
        "\n",
        "neural_network.compile(optimizer=customized_optimizer,\n",
        "              loss='mean_squared_error',\n",
        "              metrics=['mae'])"
      ],
      "execution_count": 0,
      "outputs": [
        {
          "output_type": "stream",
          "text": [
            "WARNING:tensorflow:From /usr/local/lib/python3.6/dist-packages/keras/backend/tensorflow_backend.py:66: The name tf.get_default_graph is deprecated. Please use tf.compat.v1.get_default_graph instead.\n",
            "\n",
            "WARNING:tensorflow:From /usr/local/lib/python3.6/dist-packages/keras/backend/tensorflow_backend.py:541: The name tf.placeholder is deprecated. Please use tf.compat.v1.placeholder instead.\n",
            "\n",
            "WARNING:tensorflow:From /usr/local/lib/python3.6/dist-packages/keras/backend/tensorflow_backend.py:4432: The name tf.random_uniform is deprecated. Please use tf.random.uniform instead.\n",
            "\n",
            "Model: \"sequential_1\"\n",
            "_________________________________________________________________\n",
            "Layer (type)                 Output Shape              Param #   \n",
            "=================================================================\n",
            "dense_1 (Dense)              (None, 32)                25120     \n",
            "_________________________________________________________________\n",
            "dense_2 (Dense)              (None, 10)                330       \n",
            "_________________________________________________________________\n",
            "dense_3 (Dense)              (None, 1)                 11        \n",
            "=================================================================\n",
            "Total params: 25,461\n",
            "Trainable params: 25,461\n",
            "Non-trainable params: 0\n",
            "_________________________________________________________________\n",
            "WARNING:tensorflow:From /usr/local/lib/python3.6/dist-packages/keras/optimizers.py:793: The name tf.train.Optimizer is deprecated. Please use tf.compat.v1.train.Optimizer instead.\n",
            "\n"
          ],
          "name": "stdout"
        }
      ]
    },
    {
      "cell_type": "code",
      "metadata": {
        "id": "fxszwUMV9sHj",
        "colab_type": "code",
        "outputId": "8347685c-1e35-4160-afd4-b9bcecdd23c9",
        "colab": {
          "base_uri": "https://localhost:8080/",
          "height": 525
        }
      },
      "source": [
        "import time\n",
        "start = time.time()\n",
        "\n",
        "from joblib import  dump, load\n",
        "Training_data=load('/content/drive/My Drive/Sudheer Projects/phd/Pure_code/train_data_model_building.joblib')\n",
        "\n",
        "\n",
        "from keras.models import Sequential\n",
        "from keras.layers import Dense,Input\n",
        "neural_network = Sequential()\n",
        "\n",
        "neural_network.add(Dense(32, input_dim=21, activation = 'relu',\n",
        "                         kernel_initializer = 'RandomUniform', bias_initializer = 'zeros'))\n",
        "\n",
        "neural_network.add(Dense(10, activation = 'relu', kernel_initializer = 'zeros',\n",
        "                         bias_initializer = 'RandomUniform'))\n",
        "\n",
        "\n",
        "neural_network.add(Dense(4, activation = 'relu', kernel_initializer = 'zeros',\n",
        "                         bias_initializer = 'RandomUniform'))\n",
        "\n",
        "neural_network.add(Dense(1, activation = 'linear', kernel_initializer = 'zeros',\n",
        "                         bias_initializer = 'RandomUniform'))\n",
        "neural_network.summary()\n",
        "\n",
        "from keras.optimizers import Adam\n",
        "\n",
        "customized_optimizer = Adam(lr = 0.0001)\n",
        "\n",
        "neural_network.compile(optimizer=customized_optimizer,\n",
        "              loss='mean_squared_error',\n",
        "              metrics=['mae'])\n",
        "\n",
        "training_history = neural_network.fit(Training_data.copy().drop(['yield'],axis=1), Training_data['yield'], epochs=25, batch_size=30000, validation_split=0.2)\n",
        "\n",
        "done = time.time()\n",
        "elapsed = done - start\n",
        "print(elapsed)\n",
        "\n",
        "\n"
      ],
      "execution_count": 0,
      "outputs": [
        {
          "output_type": "stream",
          "text": [
            "Using TensorFlow backend.\n"
          ],
          "name": "stderr"
        },
        {
          "output_type": "display_data",
          "data": {
            "text/html": [
              "<p style=\"color: red;\">\n",
              "The default version of TensorFlow in Colab will soon switch to TensorFlow 2.x.<br>\n",
              "We recommend you <a href=\"https://www.tensorflow.org/guide/migrate\" target=\"_blank\">upgrade</a> now \n",
              "or ensure your notebook will continue to use TensorFlow 1.x via the <code>%tensorflow_version 1.x</code> magic:\n",
              "<a href=\"https://colab.research.google.com/notebooks/tensorflow_version.ipynb\" target=\"_blank\">more info</a>.</p>\n"
            ],
            "text/plain": [
              "<IPython.core.display.HTML object>"
            ]
          },
          "metadata": {
            "tags": []
          }
        },
        {
          "output_type": "stream",
          "text": [
            "WARNING:tensorflow:From /usr/local/lib/python3.6/dist-packages/keras/backend/tensorflow_backend.py:66: The name tf.get_default_graph is deprecated. Please use tf.compat.v1.get_default_graph instead.\n",
            "\n",
            "WARNING:tensorflow:From /usr/local/lib/python3.6/dist-packages/keras/backend/tensorflow_backend.py:541: The name tf.placeholder is deprecated. Please use tf.compat.v1.placeholder instead.\n",
            "\n",
            "WARNING:tensorflow:From /usr/local/lib/python3.6/dist-packages/keras/backend/tensorflow_backend.py:4432: The name tf.random_uniform is deprecated. Please use tf.random.uniform instead.\n",
            "\n",
            "Model: \"sequential_1\"\n",
            "_________________________________________________________________\n",
            "Layer (type)                 Output Shape              Param #   \n",
            "=================================================================\n",
            "dense_1 (Dense)              (None, 32)                704       \n",
            "_________________________________________________________________\n",
            "dense_2 (Dense)              (None, 10)                330       \n",
            "_________________________________________________________________\n",
            "dense_3 (Dense)              (None, 4)                 44        \n",
            "_________________________________________________________________\n",
            "dense_4 (Dense)              (None, 1)                 5         \n",
            "=================================================================\n",
            "Total params: 1,083\n",
            "Trainable params: 1,083\n",
            "Non-trainable params: 0\n",
            "_________________________________________________________________\n",
            "WARNING:tensorflow:From /usr/local/lib/python3.6/dist-packages/keras/optimizers.py:793: The name tf.train.Optimizer is deprecated. Please use tf.compat.v1.train.Optimizer instead.\n",
            "\n"
          ],
          "name": "stdout"
        }
      ]
    },
    {
      "cell_type": "code",
      "metadata": {
        "id": "Euz-VHa7_T5Z",
        "colab_type": "code",
        "colab": {}
      },
      "source": [
        "test_data_id=load('/content/drive/My Drive/Sudheer Projects/phd/Model_building_dataSets/Test_data_final_with_id.pickle')"
      ],
      "execution_count": 0,
      "outputs": []
    },
    {
      "cell_type": "code",
      "metadata": {
        "id": "b0Y8M0L268lv",
        "colab_type": "code",
        "colab": {}
      },
      "source": [
        "sample_submision=pd.read_csv('/content/drive/My Drive/Sudheer Projects/phd/sample_submission1-1578562773139.csv')"
      ],
      "execution_count": 0,
      "outputs": []
    },
    {
      "cell_type": "code",
      "metadata": {
        "id": "I_eiaXsn7L4N",
        "colab_type": "code",
        "outputId": "083a8671-d43e-4fda-cbba-ca9ef0df09d5",
        "colab": {
          "base_uri": "https://localhost:8080/",
          "height": 153
        }
      },
      "source": [
        "test_data_id.columns"
      ],
      "execution_count": 0,
      "outputs": [
        {
          "output_type": "execute_result",
          "data": {
            "text/plain": [
              "Index(['ingredient_type', 'id', 'timeseries_data_weightage',\n",
              "       'farm_id_target_encoding',\n",
              "       'farm_id_ingredient_target_encoding_weightage', 'farm_area',\n",
              "       'farming_company', 'deidentified_location', 'temp_obs', 'cloudiness',\n",
              "       'wind_direction', 'dew_temp', 'pressure_sea_level', 'precipitation',\n",
              "       'wind_speed', 'time_series_yield_target_encoding', 'month', 'day',\n",
              "       'hour', 'weekday', 'quarter', 'weekofyear'],\n",
              "      dtype='object')"
            ]
          },
          "metadata": {
            "tags": []
          },
          "execution_count": 6
        }
      ]
    },
    {
      "cell_type": "code",
      "metadata": {
        "id": "TBcV2wmo7OL8",
        "colab_type": "code",
        "colab": {}
      },
      "source": [
        "Test_data=pd.merge(sample_submision,test_data_id,on=['id'],how='left')"
      ],
      "execution_count": 0,
      "outputs": []
    },
    {
      "cell_type": "code",
      "metadata": {
        "id": "3ccBt6LD8UZr",
        "colab_type": "code",
        "colab": {}
      },
      "source": [
        "Test_data=Test_data.reindex(['ingredient_type', 'farm_area', 'farming_company',\n",
        "       'deidentified_location', 'temp_obs', 'cloudiness', 'wind_direction',\n",
        "       'dew_temp', 'pressure_sea_level', 'precipitation', 'wind_speed',\n",
        "       'month', 'day', 'hour', 'weekday', 'quarter', 'weekofyear',\n",
        "       'time_series_yield_target_encoding', 'timeseries_data_weightage',\n",
        "       'farm_id_target_encoding',\n",
        "       'farm_id_ingredient_target_encoding_weightage','id','yield'],axis=1)"
      ],
      "execution_count": 0,
      "outputs": []
    },
    {
      "cell_type": "code",
      "metadata": {
        "id": "tKKtVh2C9NKy",
        "colab_type": "code",
        "colab": {}
      },
      "source": [
        "Test_data.drop(['id','yield'],inplace=True,axis=1)"
      ],
      "execution_count": 0,
      "outputs": []
    },
    {
      "cell_type": "code",
      "metadata": {
        "id": "aHX4t2NK9UvT",
        "colab_type": "code",
        "outputId": "63cf59d9-83cd-4574-e170-635840cc3271",
        "colab": {
          "base_uri": "https://localhost:8080/",
          "height": 34
        }
      },
      "source": [
        "from joblib import dump,load\n",
        "dump(Test_data,'/content/drive/My Drive/Sudheer Projects/phd/new_test_data_fully_model_ready.joblib')"
      ],
      "execution_count": 0,
      "outputs": [
        {
          "output_type": "execute_result",
          "data": {
            "text/plain": [
              "['/content/drive/My Drive/Sudheer Projects/phd/new_test_data_fully_model_ready.joblib']"
            ]
          },
          "metadata": {
            "tags": []
          },
          "execution_count": 13
        }
      ]
    },
    {
      "cell_type": "code",
      "metadata": {
        "id": "a0xO5ozo9XE8",
        "colab_type": "code",
        "outputId": "0bb4ea88-8b4a-4555-82e6-60fc9f99e01c",
        "colab": {
          "base_uri": "https://localhost:8080/",
          "height": 34
        }
      },
      "source": [
        "import pandas as pd\n",
        "import numpy as np\n",
        "import time\n",
        "from joblib import load,dump\n",
        "Training_data=load('/content/drive/My Drive/Sudheer Projects/phd/Pure_code/train_data_model_building.joblib')\n",
        "start = time.time()\n",
        "\n",
        "\n",
        "from sklearn import model_selection\n",
        "from sklearn.ensemble import RandomForestRegressor\n",
        "\n",
        "X_train,X_test,Y_train,Y_test=model_selection.train_test_split(Training_data.copy().drop(['yield'],axis=1),Training_data['yield'],test_size=0.3,random_state=20)\n",
        "print(\"Train validation split successful\")\n",
        "#params={'n_estimators': 8, 'min_samples_split': 2 , 'n_jobs' : -1 ,'min_samples_leaf': 1}\n",
        "#regressor = RandomForestRegressor(**params)\n",
        "regressor = RandomForestRegressor(n_jobs=-1)\n",
        "random_forest_tree_model=regressor.fit(X_train, Y_train)\n",
        "\n",
        "print(\"Model fit complete\")\n",
        "\n",
        "Y_pred_train = random_forest_tree_model.predict(X_train)\n",
        "Y_pred_test=random_forest_tree_model.predict(X_test)\n",
        "\n",
        "from sklearn.metrics import mean_squared_error\n",
        "mse_train=mean_squared_error(Y_train,Y_pred_train)\n",
        "mse_test=mean_squared_error(Y_test,Y_pred_test)\n",
        "\n",
        "import numpy as np \n",
        "rmse_test=np.sqrt(mse_test)\n",
        "rmse_train=np.sqrt(mse_train)\n",
        "print(\"Train RMSE\")\n",
        "print(np.sqrt(mse_train))\n",
        "print(\"Validation RMSE\")\n",
        "print(np.sqrt(mse_test))\n",
        "\n",
        "done = time.time()\n",
        "elapsed = done - start\n",
        "print(elapsed)\n",
        "\n"
      ],
      "execution_count": 0,
      "outputs": [
        {
          "output_type": "stream",
          "text": [
            "Train validation split successful\n"
          ],
          "name": "stdout"
        }
      ]
    },
    {
      "cell_type": "code",
      "metadata": {
        "id": "uwEJ04-h_DW1",
        "colab_type": "code",
        "colab": {
          "base_uri": "https://localhost:8080/",
          "height": 102
        },
        "outputId": "25a8bbd7-60cc-4999-9505-19baddcbefbd"
      },
      "source": [
        "import time\n",
        "start = time.time()\n",
        "from joblib import dump,load\n",
        "Training_data=load('/content/drive/My Drive/Sudheer Projects/phd/Pure_code/train_data_model_building.joblib')\n",
        "\n",
        "from sklearn import model_selection\n",
        "\n",
        "X_train,X_test,Y_train,Y_test=model_selection.train_test_split(Training_data.copy().drop('yield',axis=1),Training_data['yield'],test_size=0.3,random_state=4)\n",
        "\n",
        "\n",
        "from sklearn.tree import DecisionTreeRegressor\n",
        "params={'max_depth': 5, 'min_samples_leaf': 100, 'min_samples_split': 4}\n",
        "regressor = DecisionTreeRegressor(**params)\n",
        "#regressor = DecisionTreeRegressor()\n",
        "decision_tree_model=regressor.fit(X_train, Y_train)\n",
        "\n",
        "Y_pred_train = decision_tree_model.predict(X_train)\n",
        "Y_pred_test=decision_tree_model.predict(X_test)\n",
        "from sklearn.metrics import mean_squared_error\n",
        "mse_train=mean_squared_error(Y_train,Y_pred_train)\n",
        "mse_test=mean_squared_error(Y_test,Y_pred_test)\n",
        "\n",
        "import numpy as np \n",
        "rmse_test=np.sqrt(mse_test)\n",
        "rmse_train=np.sqrt(mse_train)\n",
        "print(\"Train RMSE\")\n",
        "print(np.sqrt(mse_train))\n",
        "print(\"Test RMSE\")\n",
        "print(np.sqrt(mse_test))\n",
        "\n",
        "done = time.time()\n",
        "elapsed = done - start\n",
        "print(elapsed)\n",
        "\n",
        "\n"
      ],
      "execution_count": 6,
      "outputs": [
        {
          "output_type": "stream",
          "text": [
            "Train RMSE\n",
            "290.42195016077704\n",
            "Test RMSE\n",
            "291.085644130517\n",
            "156.54785084724426\n"
          ],
          "name": "stdout"
        }
      ]
    },
    {
      "cell_type": "code",
      "metadata": {
        "id": "pcuHrwb3QSGM",
        "colab_type": "code",
        "colab": {
          "base_uri": "https://localhost:8080/",
          "height": 119
        },
        "outputId": "257f797c-f002-48d1-81fc-7e2fd198e288"
      },
      "source": [
        "regressor"
      ],
      "execution_count": 7,
      "outputs": [
        {
          "output_type": "execute_result",
          "data": {
            "text/plain": [
              "DecisionTreeRegressor(ccp_alpha=0.0, criterion='mse', max_depth=5,\n",
              "                      max_features=None, max_leaf_nodes=None,\n",
              "                      min_impurity_decrease=0.0, min_impurity_split=None,\n",
              "                      min_samples_leaf=100, min_samples_split=4,\n",
              "                      min_weight_fraction_leaf=0.0, presort='deprecated',\n",
              "                      random_state=None, splitter='best')"
            ]
          },
          "metadata": {
            "tags": []
          },
          "execution_count": 7
        }
      ]
    },
    {
      "cell_type": "code",
      "metadata": {
        "id": "SC3Hn8JTZ-6B",
        "colab_type": "code",
        "colab": {}
      },
      "source": [
        "decision_tree_model=regressor.fit(Training_data.copy().drop('yield',axis=1), Training_data['yield'])\n",
        "neural_net_model=pd.DataFrame(columns=['id','yield'])\n",
        "neural_net_model['id']=pd.read_csv('/content/drive/My Drive/Sudheer Projects/phd/sample_submission1-1578562773139.csv')['id']\n",
        "neural_net_model['yield']=pd.Series(regressor.predict(load('/content/drive/My Drive/Sudheer Projects/phd/new_test_data_fully_model_ready.joblib')))\n",
        "neural_net_model.to_csv('/content/drive/My Drive/decision_tree_submission.csv',index=False)"
      ],
      "execution_count": 0,
      "outputs": []
    },
    {
      "cell_type": "code",
      "metadata": {
        "id": "lLslT9ElwhE_",
        "colab_type": "code",
        "colab": {
          "base_uri": "https://localhost:8080/",
          "height": 419
        },
        "outputId": "43cf2248-3241-4ece-d7dd-4ae862b21f21"
      },
      "source": [
        "pd.read_csv('/content/drive/My Drive/Sudheer Projects/phd/test_data.csv')"
      ],
      "execution_count": 3,
      "outputs": [
        {
          "output_type": "execute_result",
          "data": {
            "text/html": [
              "<div>\n",
              "<style scoped>\n",
              "    .dataframe tbody tr th:only-of-type {\n",
              "        vertical-align: middle;\n",
              "    }\n",
              "\n",
              "    .dataframe tbody tr th {\n",
              "        vertical-align: top;\n",
              "    }\n",
              "\n",
              "    .dataframe thead th {\n",
              "        text-align: right;\n",
              "    }\n",
              "</style>\n",
              "<table border=\"1\" class=\"dataframe\">\n",
              "  <thead>\n",
              "    <tr style=\"text-align: right;\">\n",
              "      <th></th>\n",
              "      <th>date</th>\n",
              "      <th>farm_id</th>\n",
              "      <th>ingredient_type</th>\n",
              "      <th>id</th>\n",
              "    </tr>\n",
              "  </thead>\n",
              "  <tbody>\n",
              "    <tr>\n",
              "      <th>0</th>\n",
              "      <td>2017-01-01 00:00:00</td>\n",
              "      <td>fid_110884</td>\n",
              "      <td>ing_w</td>\n",
              "      <td>0</td>\n",
              "    </tr>\n",
              "    <tr>\n",
              "      <th>1</th>\n",
              "      <td>2017-01-01 00:00:00</td>\n",
              "      <td>fid_90053</td>\n",
              "      <td>ing_w</td>\n",
              "      <td>1</td>\n",
              "    </tr>\n",
              "    <tr>\n",
              "      <th>2</th>\n",
              "      <td>2017-01-01 00:00:00</td>\n",
              "      <td>fid_17537</td>\n",
              "      <td>ing_w</td>\n",
              "      <td>2</td>\n",
              "    </tr>\n",
              "    <tr>\n",
              "      <th>3</th>\n",
              "      <td>2017-01-01 00:00:00</td>\n",
              "      <td>fid_110392</td>\n",
              "      <td>ing_w</td>\n",
              "      <td>3</td>\n",
              "    </tr>\n",
              "    <tr>\n",
              "      <th>4</th>\n",
              "      <td>2017-01-01 00:00:00</td>\n",
              "      <td>fid_62402</td>\n",
              "      <td>ing_w</td>\n",
              "      <td>4</td>\n",
              "    </tr>\n",
              "    <tr>\n",
              "      <th>...</th>\n",
              "      <td>...</td>\n",
              "      <td>...</td>\n",
              "      <td>...</td>\n",
              "      <td>...</td>\n",
              "    </tr>\n",
              "    <tr>\n",
              "      <th>20848795</th>\n",
              "      <td>2017-12-25 07:00:00</td>\n",
              "      <td>fid_58769</td>\n",
              "      <td>ing_x</td>\n",
              "      <td>41696845</td>\n",
              "    </tr>\n",
              "    <tr>\n",
              "      <th>20848796</th>\n",
              "      <td>2017-12-25 07:00:00</td>\n",
              "      <td>fid_58769</td>\n",
              "      <td>ing_z</td>\n",
              "      <td>41696846</td>\n",
              "    </tr>\n",
              "    <tr>\n",
              "      <th>20848797</th>\n",
              "      <td>2017-12-25 07:00:00</td>\n",
              "      <td>fid_117010</td>\n",
              "      <td>ing_w</td>\n",
              "      <td>41696847</td>\n",
              "    </tr>\n",
              "    <tr>\n",
              "      <th>20848798</th>\n",
              "      <td>2017-12-25 07:00:00</td>\n",
              "      <td>fid_117010</td>\n",
              "      <td>ing_x</td>\n",
              "      <td>41696848</td>\n",
              "    </tr>\n",
              "    <tr>\n",
              "      <th>20848799</th>\n",
              "      <td>2017-12-25 07:00:00</td>\n",
              "      <td>fid_117010</td>\n",
              "      <td>ing_z</td>\n",
              "      <td>41696849</td>\n",
              "    </tr>\n",
              "  </tbody>\n",
              "</table>\n",
              "<p>20848800 rows × 4 columns</p>\n",
              "</div>"
            ],
            "text/plain": [
              "                         date     farm_id ingredient_type        id\n",
              "0         2017-01-01 00:00:00  fid_110884           ing_w         0\n",
              "1         2017-01-01 00:00:00   fid_90053           ing_w         1\n",
              "2         2017-01-01 00:00:00   fid_17537           ing_w         2\n",
              "3         2017-01-01 00:00:00  fid_110392           ing_w         3\n",
              "4         2017-01-01 00:00:00   fid_62402           ing_w         4\n",
              "...                       ...         ...             ...       ...\n",
              "20848795  2017-12-25 07:00:00   fid_58769           ing_x  41696845\n",
              "20848796  2017-12-25 07:00:00   fid_58769           ing_z  41696846\n",
              "20848797  2017-12-25 07:00:00  fid_117010           ing_w  41696847\n",
              "20848798  2017-12-25 07:00:00  fid_117010           ing_x  41696848\n",
              "20848799  2017-12-25 07:00:00  fid_117010           ing_z  41696849\n",
              "\n",
              "[20848800 rows x 4 columns]"
            ]
          },
          "metadata": {
            "tags": []
          },
          "execution_count": 3
        }
      ]
    },
    {
      "cell_type": "code",
      "metadata": {
        "id": "XGjeUgRRw-o3",
        "colab_type": "code",
        "colab": {}
      },
      "source": [
        ""
      ],
      "execution_count": 0,
      "outputs": []
    },
    {
      "cell_type": "code",
      "metadata": {
        "id": "Qq4fWtmlwqF9",
        "colab_type": "code",
        "colab": {
          "base_uri": "https://localhost:8080/",
          "height": 419
        },
        "outputId": "51998d0c-5004-457c-d1d4-803f7faa94ed"
      },
      "source": [
        "pd.read_csv('/content/drive/My Drive/Sudheer Projects/phd/sample_submission1-1578562773139.csv')"
      ],
      "execution_count": 4,
      "outputs": [
        {
          "output_type": "execute_result",
          "data": {
            "text/html": [
              "<div>\n",
              "<style scoped>\n",
              "    .dataframe tbody tr th:only-of-type {\n",
              "        vertical-align: middle;\n",
              "    }\n",
              "\n",
              "    .dataframe tbody tr th {\n",
              "        vertical-align: top;\n",
              "    }\n",
              "\n",
              "    .dataframe thead th {\n",
              "        text-align: right;\n",
              "    }\n",
              "</style>\n",
              "<table border=\"1\" class=\"dataframe\">\n",
              "  <thead>\n",
              "    <tr style=\"text-align: right;\">\n",
              "      <th></th>\n",
              "      <th>id</th>\n",
              "      <th>yield</th>\n",
              "    </tr>\n",
              "  </thead>\n",
              "  <tbody>\n",
              "    <tr>\n",
              "      <th>0</th>\n",
              "      <td>1</td>\n",
              "      <td>0</td>\n",
              "    </tr>\n",
              "    <tr>\n",
              "      <th>1</th>\n",
              "      <td>2</td>\n",
              "      <td>0</td>\n",
              "    </tr>\n",
              "    <tr>\n",
              "      <th>2</th>\n",
              "      <td>3</td>\n",
              "      <td>0</td>\n",
              "    </tr>\n",
              "    <tr>\n",
              "      <th>3</th>\n",
              "      <td>4</td>\n",
              "      <td>0</td>\n",
              "    </tr>\n",
              "    <tr>\n",
              "      <th>4</th>\n",
              "      <td>5</td>\n",
              "      <td>0</td>\n",
              "    </tr>\n",
              "    <tr>\n",
              "      <th>...</th>\n",
              "      <td>...</td>\n",
              "      <td>...</td>\n",
              "    </tr>\n",
              "    <tr>\n",
              "      <th>999994</th>\n",
              "      <td>999995</td>\n",
              "      <td>0</td>\n",
              "    </tr>\n",
              "    <tr>\n",
              "      <th>999995</th>\n",
              "      <td>999996</td>\n",
              "      <td>0</td>\n",
              "    </tr>\n",
              "    <tr>\n",
              "      <th>999996</th>\n",
              "      <td>999997</td>\n",
              "      <td>0</td>\n",
              "    </tr>\n",
              "    <tr>\n",
              "      <th>999997</th>\n",
              "      <td>999998</td>\n",
              "      <td>0</td>\n",
              "    </tr>\n",
              "    <tr>\n",
              "      <th>999998</th>\n",
              "      <td>999999</td>\n",
              "      <td>0</td>\n",
              "    </tr>\n",
              "  </tbody>\n",
              "</table>\n",
              "<p>999999 rows × 2 columns</p>\n",
              "</div>"
            ],
            "text/plain": [
              "            id  yield\n",
              "0            1      0\n",
              "1            2      0\n",
              "2            3      0\n",
              "3            4      0\n",
              "4            5      0\n",
              "...        ...    ...\n",
              "999994  999995      0\n",
              "999995  999996      0\n",
              "999996  999997      0\n",
              "999997  999998      0\n",
              "999998  999999      0\n",
              "\n",
              "[999999 rows x 2 columns]"
            ]
          },
          "metadata": {
            "tags": []
          },
          "execution_count": 4
        }
      ]
    },
    {
      "cell_type": "code",
      "metadata": {
        "id": "ROGXgDhkwv6D",
        "colab_type": "code",
        "colab": {}
      },
      "source": [
        "new_test=pd.merge(pd.read_csv('/content/drive/My Drive/Sudheer Projects/phd/sample_submission1-1578562773139.csv'),pd.read_csv('/content/drive/My Drive/Sudheer Projects/phd/test_data.csv'),on=['id'],how='left')"
      ],
      "execution_count": 0,
      "outputs": []
    },
    {
      "cell_type": "code",
      "metadata": {
        "id": "TlZjcuvixGt-",
        "colab_type": "code",
        "colab": {}
      },
      "source": [
        "new_test.drop('yield',axis=1,inplace=True)"
      ],
      "execution_count": 0,
      "outputs": []
    },
    {
      "cell_type": "code",
      "metadata": {
        "id": "vsTRhwYcyDFz",
        "colab_type": "code",
        "colab": {
          "base_uri": "https://localhost:8080/",
          "height": 34
        },
        "outputId": "991eebcb-4e51-4a8f-b2d6-dc46eadda8fd"
      },
      "source": [
        "dump(new_test,'/content/drive/My Drive/Sudheer Projects/phd/new_test_data.joblib')"
      ],
      "execution_count": 8,
      "outputs": [
        {
          "output_type": "execute_result",
          "data": {
            "text/plain": [
              "['/content/drive/My Drive/Sudheer Projects/phd/new_test_data.joblib']"
            ]
          },
          "metadata": {
            "tags": []
          },
          "execution_count": 8
        }
      ]
    },
    {
      "cell_type": "code",
      "metadata": {
        "id": "DmIfSTstybKY",
        "colab_type": "code",
        "colab": {}
      },
      "source": [
        ""
      ],
      "execution_count": 0,
      "outputs": []
    }
  ]
}