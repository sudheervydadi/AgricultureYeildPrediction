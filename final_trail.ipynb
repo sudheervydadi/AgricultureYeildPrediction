{
  "nbformat": 4,
  "nbformat_minor": 0,
  "metadata": {
    "colab": {
      "name": "final_trail.ipynb",
      "provenance": [],
      "machine_shape": "hm"
    },
    "kernelspec": {
      "name": "python3",
      "display_name": "Python 3"
    },
    "accelerator": "TPU"
  },
  "cells": [
    {
      "cell_type": "code",
      "metadata": {
        "id": "KneyONQkzeAS",
        "colab_type": "code",
        "colab": {}
      },
      "source": [
        ""
      ],
      "execution_count": 0,
      "outputs": []
    },
    {
      "cell_type": "code",
      "metadata": {
        "id": "7LvfbbMvzsAy",
        "colab_type": "code",
        "colab": {
          "base_uri": "https://localhost:8080/",
          "height": 122
        },
        "outputId": "6e6e9673-0e8f-472a-f709-58cabdbc4375"
      },
      "source": [
        "from google.colab import drive\n",
        "drive.mount('/content/drive')"
      ],
      "execution_count": 3,
      "outputs": [
        {
          "output_type": "stream",
          "text": [
            "Go to this URL in a browser: https://accounts.google.com/o/oauth2/auth?client_id=947318989803-6bn6qk8qdgf4n4g3pfee6491hc0brc4i.apps.googleusercontent.com&redirect_uri=urn%3aietf%3awg%3aoauth%3a2.0%3aoob&response_type=code&scope=email%20https%3a%2f%2fwww.googleapis.com%2fauth%2fdocs.test%20https%3a%2f%2fwww.googleapis.com%2fauth%2fdrive%20https%3a%2f%2fwww.googleapis.com%2fauth%2fdrive.photos.readonly%20https%3a%2f%2fwww.googleapis.com%2fauth%2fpeopleapi.readonly\n",
            "\n",
            "Enter your authorization code:\n",
            "··········\n",
            "Mounted at /content/drive\n"
          ],
          "name": "stdout"
        }
      ]
    },
    {
      "cell_type": "code",
      "metadata": {
        "id": "xvHhkzJ_22nR",
        "colab_type": "code",
        "colab": {}
      },
      "source": [
        "import pandas as pd\n",
        "import numpy as np\n",
        "from joblib import load,dump"
      ],
      "execution_count": 0,
      "outputs": []
    },
    {
      "cell_type": "code",
      "metadata": {
        "id": "Isct2YfQzxkz",
        "colab_type": "code",
        "colab": {}
      },
      "source": [
        "farm_data_master=pd.read_csv('/content/drive/My Drive/Phd/new_farm_data.csv')\n",
        "train_data_master=pd.read_csv('/content/drive/My Drive/Phd/train_data.csv')\n",
        "train_weather_master=pd.read_csv('/content/drive/My Drive/Phd/train_weather.csv')"
      ],
      "execution_count": 0,
      "outputs": []
    },
    {
      "cell_type": "code",
      "metadata": {
        "id": "tgFN9ugd20WT",
        "colab_type": "code",
        "colab": {}
      },
      "source": [
        "# We are creating an temperory dataframe 366*24 rows of timestamps across 16 locations and then we merge it with train_weather_master\n",
        "temp_location_list=[]\n",
        "temp_timestamp_list=[]\n",
        "for i in train_weather_master.deidentified_location.unique():\n",
        "    for j in pd.date_range('2016-01-01 00:00:00', periods=8784, freq='H'):\n",
        "        temp_timestamp_list.append(j)\n",
        "        temp_location_list.append(i)\n",
        "\n",
        "new_train_weather_master=pd.DataFrame(columns=['timestamp', 'deidentified_location'])\n",
        "new_train_weather_master.timestamp=pd.Series(temp_timestamp_list)\n",
        "new_train_weather_master.deidentified_location=pd.Series(temp_location_list)"
      ],
      "execution_count": 0,
      "outputs": []
    },
    {
      "cell_type": "code",
      "metadata": {
        "id": "dYkXbv-Y3BDy",
        "colab_type": "code",
        "colab": {}
      },
      "source": [
        "train_weather_master.timestamp=train_weather_master.timestamp.astype('datetime64[ns]')"
      ],
      "execution_count": 0,
      "outputs": []
    },
    {
      "cell_type": "code",
      "metadata": {
        "id": "9DO_Au9m3FfL",
        "colab_type": "code",
        "colab": {}
      },
      "source": [
        "weather_merge=pd.merge(train_weather_master, new_train_weather_master, on=['timestamp', 'deidentified_location'], how='outer')\n",
        "weather_merge=weather_merge.sort_values(by=['deidentified_location','timestamp']).reset_index(drop=True)"
      ],
      "execution_count": 0,
      "outputs": []
    },
    {
      "cell_type": "code",
      "metadata": {
        "id": "sc4mKRj93Hy-",
        "colab_type": "code",
        "colab": {}
      },
      "source": [
        "for location in weather_merge.deidentified_location.unique():\n",
        "  weather_merge[weather_merge.deidentified_location==location].to_csv((\"/content/drive/My Drive/Phd/weather_data_location_wise/\"+location+\".csv\"),index=False)\n"
      ],
      "execution_count": 0,
      "outputs": []
    },
    {
      "cell_type": "code",
      "metadata": {
        "id": "8DyUtsy33nJO",
        "colab_type": "code",
        "colab": {
          "base_uri": "https://localhost:8080/",
          "height": 102
        },
        "outputId": "82103ec6-829a-4c4f-dca4-c24c5363fb9b"
      },
      "source": [
        "for location in weather_merge.deidentified_location.unique():\n",
        "  temp_dataframe=pd.read_csv(('/content/drive/My Drive/Phd/weather_data_location_wise/'+location+'.csv'))\n",
        "  for column in ['temp_obs', 'cloudiness','wind_direction', 'dew_temp', 'pressure_sea_level', 'precipitation','wind_speed']:\n",
        "        for index,value in zip(temp_dataframe[column].isna().value_counts().index,temp_dataframe[column].isna().value_counts()):\n",
        "          if (index and value==365*24):\n",
        "            continue\n",
        "          else:\n",
        "            data1=temp_dataframe[column]\n",
        "            mask = np.isnan(data1)\n",
        "            data1[mask] = np.interp(np.flatnonzero(mask), np.flatnonzero(~mask), data1[~mask])\n",
        "            temp_dataframe[column]=data1\n",
        "  temp_dataframe.to_csv(('/content/drive/My Drive/Phd/weather_data_imputations/'+location+'.csv'),index=False)"
      ],
      "execution_count": 94,
      "outputs": [
        {
          "output_type": "stream",
          "text": [
            "/usr/local/lib/python3.6/dist-packages/ipykernel_launcher.py:10: SettingWithCopyWarning: \n",
            "A value is trying to be set on a copy of a slice from a DataFrame\n",
            "\n",
            "See the caveats in the documentation: http://pandas.pydata.org/pandas-docs/stable/user_guide/indexing.html#returning-a-view-versus-a-copy\n",
            "  # Remove the CWD from sys.path while we load stuff.\n"
          ],
          "name": "stderr"
        }
      ]
    },
    {
      "cell_type": "code",
      "metadata": {
        "id": "CBlpqsNJ4DtU",
        "colab_type": "code",
        "colab": {}
      },
      "source": [
        "weather_imputation_full=pd.DataFrame()\n",
        "for location in weather_merge.deidentified_location.unique():\n",
        "  temp_dataframe=pd.read_csv(('/content/drive/My Drive/Phd/weather_data_imputations/'+location+'.csv'))\n",
        "  if location==weather_merge.deidentified_location.unique()[0]:\n",
        "    weather_imputation_full=temp_dataframe\n",
        "  else:\n",
        "    weather_imputation_full=weather_imputation_full.append(temp_dataframe,ignore_index=True)"
      ],
      "execution_count": 0,
      "outputs": []
    },
    {
      "cell_type": "code",
      "metadata": {
        "id": "TSWKrobz4Zxw",
        "colab_type": "code",
        "colab": {}
      },
      "source": [
        "for column in ['temp_obs', 'cloudiness','wind_direction', 'dew_temp', 'pressure_sea_level', 'precipitation','wind_speed']:\n",
        "  weather_imputation_full[column].fillna(weather_imputation_full[column].mean(),inplace=True)"
      ],
      "execution_count": 0,
      "outputs": []
    },
    {
      "cell_type": "code",
      "metadata": {
        "id": "--inDwH84haN",
        "colab_type": "code",
        "colab": {
          "base_uri": "https://localhost:8080/",
          "height": 34
        },
        "outputId": "cf813349-cf65-41be-beb7-564d0e05754c"
      },
      "source": [
        "dump(weather_imputation_full,'/content/drive/My Drive/Phd/weather_data_Testfull.joblib')"
      ],
      "execution_count": 97,
      "outputs": [
        {
          "output_type": "execute_result",
          "data": {
            "text/plain": [
              "['/content/drive/My Drive/Phd/weather_data_Testfull.joblib']"
            ]
          },
          "metadata": {
            "tags": []
          },
          "execution_count": 97
        }
      ]
    },
    {
      "cell_type": "code",
      "metadata": {
        "id": "MiLLES_44yEW",
        "colab_type": "code",
        "colab": {}
      },
      "source": [
        "final_train=train_data_master.groupby(by=['date', 'farm_id', 'ingredient_type'],as_index=False).sum()"
      ],
      "execution_count": 0,
      "outputs": []
    },
    {
      "cell_type": "code",
      "metadata": {
        "id": "_NE2teUJ5DpL",
        "colab_type": "code",
        "colab": {}
      },
      "source": [
        "weather_imputation_full.timestamp=weather_imputation_full.timestamp.astype('datetime64[ns]')\n",
        "final_train.rename(columns={'date':'timestamp'},inplace=True)\n",
        "final_train.timestamp=final_train.timestamp.astype('datetime64[ns]')"
      ],
      "execution_count": 0,
      "outputs": []
    },
    {
      "cell_type": "code",
      "metadata": {
        "id": "ziLWhC8q5Law",
        "colab_type": "code",
        "colab": {
          "base_uri": "https://localhost:8080/",
          "height": 34
        },
        "outputId": "3a62585a-d566-4791-eb14-2b5c83fda43e"
      },
      "source": [
        "final_merge=pd.merge(pd.merge(final_train, farm_data_master, on=['farm_id'], how='left'), weather_imputation_full, on=['timestamp', 'deidentified_location'], how='left')\n",
        "dump(final_merge,'/content/drive/My Drive/Phd/train_data_raw.joblib')"
      ],
      "execution_count": 24,
      "outputs": [
        {
          "output_type": "execute_result",
          "data": {
            "text/plain": [
              "['/content/drive/My Drive/Phd/train_data_raw.joblib']"
            ]
          },
          "metadata": {
            "tags": []
          },
          "execution_count": 24
        }
      ]
    },
    {
      "cell_type": "code",
      "metadata": {
        "id": "eXmVnPIa5jJE",
        "colab_type": "code",
        "colab": {
          "base_uri": "https://localhost:8080/",
          "height": 34
        },
        "outputId": "c6423a90-ff1d-4f9e-870d-62e2c8335d8f"
      },
      "source": [
        "np.percentile(final_merge['yield'],97)"
      ],
      "execution_count": 27,
      "outputs": [
        {
          "output_type": "execute_result",
          "data": {
            "text/plain": [
              "2516.19"
            ]
          },
          "metadata": {
            "tags": []
          },
          "execution_count": 27
        }
      ]
    },
    {
      "cell_type": "code",
      "metadata": {
        "id": "sslyoTTL5wX3",
        "colab_type": "code",
        "colab": {}
      },
      "source": [
        "final_merge=final_merge[final_merge['yield']<=2516.19]"
      ],
      "execution_count": 0,
      "outputs": []
    },
    {
      "cell_type": "code",
      "metadata": {
        "id": "ZA7AGePD8pfa",
        "colab_type": "code",
        "colab": {
          "base_uri": "https://localhost:8080/",
          "height": 102
        },
        "outputId": "555ea6d5-295c-4b24-8cc2-4d6b7c393326"
      },
      "source": [
        "final_merge.drop(['operations_commencing_year', 'num_processing_plants'],axis=1,inplace=True)"
      ],
      "execution_count": 90,
      "outputs": [
        {
          "output_type": "stream",
          "text": [
            "/usr/local/lib/python3.6/dist-packages/pandas/core/frame.py:4117: SettingWithCopyWarning: \n",
            "A value is trying to be set on a copy of a slice from a DataFrame\n",
            "\n",
            "See the caveats in the documentation: http://pandas.pydata.org/pandas-docs/stable/user_guide/indexing.html#returning-a-view-versus-a-copy\n",
            "  errors=errors,\n"
          ],
          "name": "stderr"
        }
      ]
    },
    {
      "cell_type": "code",
      "metadata": {
        "id": "51si9D_76vXl",
        "colab_type": "code",
        "colab": {
          "base_uri": "https://localhost:8080/",
          "height": 34
        },
        "outputId": "7273844c-3189-42c4-e937-0159c54dd6f6"
      },
      "source": [
        "dump(final_merge,'/content/drive/My Drive/Phd/train_data_removied_outliers_raw.joblib')"
      ],
      "execution_count": 91,
      "outputs": [
        {
          "output_type": "execute_result",
          "data": {
            "text/plain": [
              "['/content/drive/My Drive/Phd/train_data_removied_outliers_raw.joblib']"
            ]
          },
          "metadata": {
            "tags": []
          },
          "execution_count": 91
        }
      ]
    },
    {
      "cell_type": "code",
      "metadata": {
        "id": "C2uGBthv7Tq2",
        "colab_type": "code",
        "colab": {
          "base_uri": "https://localhost:8080/",
          "height": 419
        },
        "outputId": "e8fba1d8-22e5-4459-c530-83d4073d0bfd"
      },
      "source": [
        "final_merge.groupby(by=['farm_id','ingredient_type'],as_index=False).sum()[['farm_id','ingredient_type','yield']]"
      ],
      "execution_count": 42,
      "outputs": [
        {
          "output_type": "execute_result",
          "data": {
            "text/html": [
              "<div>\n",
              "<style scoped>\n",
              "    .dataframe tbody tr th:only-of-type {\n",
              "        vertical-align: middle;\n",
              "    }\n",
              "\n",
              "    .dataframe tbody tr th {\n",
              "        vertical-align: top;\n",
              "    }\n",
              "\n",
              "    .dataframe thead th {\n",
              "        text-align: right;\n",
              "    }\n",
              "</style>\n",
              "<table border=\"1\" class=\"dataframe\">\n",
              "  <thead>\n",
              "    <tr style=\"text-align: right;\">\n",
              "      <th></th>\n",
              "      <th>farm_id</th>\n",
              "      <th>ingredient_type</th>\n",
              "      <th>yield</th>\n",
              "    </tr>\n",
              "  </thead>\n",
              "  <tbody>\n",
              "    <tr>\n",
              "      <th>0</th>\n",
              "      <td>fid_100053</td>\n",
              "      <td>ing_w</td>\n",
              "      <td>4.722934e+05</td>\n",
              "    </tr>\n",
              "    <tr>\n",
              "      <th>1</th>\n",
              "      <td>fid_100107</td>\n",
              "      <td>ing_w</td>\n",
              "      <td>4.773916e+06</td>\n",
              "    </tr>\n",
              "    <tr>\n",
              "      <th>2</th>\n",
              "      <td>fid_100107</td>\n",
              "      <td>ing_x</td>\n",
              "      <td>3.377998e+06</td>\n",
              "    </tr>\n",
              "    <tr>\n",
              "      <th>3</th>\n",
              "      <td>fid_100107</td>\n",
              "      <td>ing_y</td>\n",
              "      <td>2.678898e+06</td>\n",
              "    </tr>\n",
              "    <tr>\n",
              "      <th>4</th>\n",
              "      <td>fid_100135</td>\n",
              "      <td>ing_w</td>\n",
              "      <td>2.196656e+05</td>\n",
              "    </tr>\n",
              "    <tr>\n",
              "      <th>...</th>\n",
              "      <td>...</td>\n",
              "      <td>...</td>\n",
              "      <td>...</td>\n",
              "    </tr>\n",
              "    <tr>\n",
              "      <th>2358</th>\n",
              "      <td>fid_99921</td>\n",
              "      <td>ing_w</td>\n",
              "      <td>1.285013e+06</td>\n",
              "    </tr>\n",
              "    <tr>\n",
              "      <th>2359</th>\n",
              "      <td>fid_99921</td>\n",
              "      <td>ing_x</td>\n",
              "      <td>2.144410e+06</td>\n",
              "    </tr>\n",
              "    <tr>\n",
              "      <th>2360</th>\n",
              "      <td>fid_99942</td>\n",
              "      <td>ing_w</td>\n",
              "      <td>1.313502e+06</td>\n",
              "    </tr>\n",
              "    <tr>\n",
              "      <th>2361</th>\n",
              "      <td>fid_99942</td>\n",
              "      <td>ing_x</td>\n",
              "      <td>2.571440e+06</td>\n",
              "    </tr>\n",
              "    <tr>\n",
              "      <th>2362</th>\n",
              "      <td>fid_99942</td>\n",
              "      <td>ing_z</td>\n",
              "      <td>1.434553e+05</td>\n",
              "    </tr>\n",
              "  </tbody>\n",
              "</table>\n",
              "<p>2363 rows × 3 columns</p>\n",
              "</div>"
            ],
            "text/plain": [
              "         farm_id ingredient_type         yield\n",
              "0     fid_100053           ing_w  4.722934e+05\n",
              "1     fid_100107           ing_w  4.773916e+06\n",
              "2     fid_100107           ing_x  3.377998e+06\n",
              "3     fid_100107           ing_y  2.678898e+06\n",
              "4     fid_100135           ing_w  2.196656e+05\n",
              "...          ...             ...           ...\n",
              "2358   fid_99921           ing_w  1.285013e+06\n",
              "2359   fid_99921           ing_x  2.144410e+06\n",
              "2360   fid_99942           ing_w  1.313502e+06\n",
              "2361   fid_99942           ing_x  2.571440e+06\n",
              "2362   fid_99942           ing_z  1.434553e+05\n",
              "\n",
              "[2363 rows x 3 columns]"
            ]
          },
          "metadata": {
            "tags": []
          },
          "execution_count": 42
        }
      ]
    },
    {
      "cell_type": "code",
      "metadata": {
        "id": "b95ZHefL8IPa",
        "colab_type": "code",
        "colab": {
          "base_uri": "https://localhost:8080/",
          "height": 419
        },
        "outputId": "7e494454-f554-4eec-f95e-0b6bfbdc0e93"
      },
      "source": [
        "final_merge.groupby(by=['timestamp','ingredient_type'],as_index=False).sum()[['timestamp','ingredient_type','yield']]"
      ],
      "execution_count": 38,
      "outputs": [
        {
          "output_type": "execute_result",
          "data": {
            "text/html": [
              "<div>\n",
              "<style scoped>\n",
              "    .dataframe tbody tr th:only-of-type {\n",
              "        vertical-align: middle;\n",
              "    }\n",
              "\n",
              "    .dataframe tbody tr th {\n",
              "        vertical-align: top;\n",
              "    }\n",
              "\n",
              "    .dataframe thead th {\n",
              "        text-align: right;\n",
              "    }\n",
              "</style>\n",
              "<table border=\"1\" class=\"dataframe\">\n",
              "  <thead>\n",
              "    <tr style=\"text-align: right;\">\n",
              "      <th></th>\n",
              "      <th>timestamp</th>\n",
              "      <th>ingredient_type</th>\n",
              "      <th>yield</th>\n",
              "    </tr>\n",
              "  </thead>\n",
              "  <tbody>\n",
              "    <tr>\n",
              "      <th>0</th>\n",
              "      <td>2016-01-01 00:00:00</td>\n",
              "      <td>ing_w</td>\n",
              "      <td>135023.2208</td>\n",
              "    </tr>\n",
              "    <tr>\n",
              "      <th>1</th>\n",
              "      <td>2016-01-01 00:00:00</td>\n",
              "      <td>ing_x</td>\n",
              "      <td>40713.7369</td>\n",
              "    </tr>\n",
              "    <tr>\n",
              "      <th>2</th>\n",
              "      <td>2016-01-01 00:00:00</td>\n",
              "      <td>ing_y</td>\n",
              "      <td>136737.5590</td>\n",
              "    </tr>\n",
              "    <tr>\n",
              "      <th>3</th>\n",
              "      <td>2016-01-01 00:00:00</td>\n",
              "      <td>ing_z</td>\n",
              "      <td>42975.7381</td>\n",
              "    </tr>\n",
              "    <tr>\n",
              "      <th>4</th>\n",
              "      <td>2016-01-01 01:00:00</td>\n",
              "      <td>ing_w</td>\n",
              "      <td>154823.1326</td>\n",
              "    </tr>\n",
              "    <tr>\n",
              "      <th>...</th>\n",
              "      <td>...</td>\n",
              "      <td>...</td>\n",
              "      <td>...</td>\n",
              "    </tr>\n",
              "    <tr>\n",
              "      <th>35131</th>\n",
              "      <td>2016-12-31 22:00:00</td>\n",
              "      <td>ing_z</td>\n",
              "      <td>39119.0558</td>\n",
              "    </tr>\n",
              "    <tr>\n",
              "      <th>35132</th>\n",
              "      <td>2016-12-31 23:00:00</td>\n",
              "      <td>ing_w</td>\n",
              "      <td>186261.5612</td>\n",
              "    </tr>\n",
              "    <tr>\n",
              "      <th>35133</th>\n",
              "      <td>2016-12-31 23:00:00</td>\n",
              "      <td>ing_x</td>\n",
              "      <td>72540.8947</td>\n",
              "    </tr>\n",
              "    <tr>\n",
              "      <th>35134</th>\n",
              "      <td>2016-12-31 23:00:00</td>\n",
              "      <td>ing_y</td>\n",
              "      <td>166238.7432</td>\n",
              "    </tr>\n",
              "    <tr>\n",
              "      <th>35135</th>\n",
              "      <td>2016-12-31 23:00:00</td>\n",
              "      <td>ing_z</td>\n",
              "      <td>40820.8149</td>\n",
              "    </tr>\n",
              "  </tbody>\n",
              "</table>\n",
              "<p>35136 rows × 3 columns</p>\n",
              "</div>"
            ],
            "text/plain": [
              "                timestamp ingredient_type        yield\n",
              "0     2016-01-01 00:00:00           ing_w  135023.2208\n",
              "1     2016-01-01 00:00:00           ing_x   40713.7369\n",
              "2     2016-01-01 00:00:00           ing_y  136737.5590\n",
              "3     2016-01-01 00:00:00           ing_z   42975.7381\n",
              "4     2016-01-01 01:00:00           ing_w  154823.1326\n",
              "...                   ...             ...          ...\n",
              "35131 2016-12-31 22:00:00           ing_z   39119.0558\n",
              "35132 2016-12-31 23:00:00           ing_w  186261.5612\n",
              "35133 2016-12-31 23:00:00           ing_x   72540.8947\n",
              "35134 2016-12-31 23:00:00           ing_y  166238.7432\n",
              "35135 2016-12-31 23:00:00           ing_z   40820.8149\n",
              "\n",
              "[35136 rows x 3 columns]"
            ]
          },
          "metadata": {
            "tags": []
          },
          "execution_count": 38
        }
      ]
    },
    {
      "cell_type": "code",
      "metadata": {
        "id": "VCexr8588Saz",
        "colab_type": "code",
        "colab": {
          "base_uri": "https://localhost:8080/",
          "height": 34
        },
        "outputId": "16754e42-f947-4cac-a036-0c5fcf13b837"
      },
      "source": [
        "366*24*4"
      ],
      "execution_count": 39,
      "outputs": [
        {
          "output_type": "execute_result",
          "data": {
            "text/plain": [
              "35136"
            ]
          },
          "metadata": {
            "tags": []
          },
          "execution_count": 39
        }
      ]
    },
    {
      "cell_type": "code",
      "metadata": {
        "id": "o-erq0al9aRf",
        "colab_type": "code",
        "colab": {}
      },
      "source": [
        "file_paths_master=pd.read_csv('/content/drive/My Drive/Phd/file_paths.csv')"
      ],
      "execution_count": 0,
      "outputs": []
    },
    {
      "cell_type": "code",
      "metadata": {
        "id": "qpNybzc0CCbe",
        "colab_type": "code",
        "colab": {}
      },
      "source": [
        "file_paths_master.drop('file_paths',inplace=True,axis=1)"
      ],
      "execution_count": 0,
      "outputs": []
    },
    {
      "cell_type": "code",
      "metadata": {
        "id": "sjd3zCNHCD57",
        "colab_type": "code",
        "colab": {}
      },
      "source": [
        "fram_id_traget_encoding=pd.merge(file_paths_master,final_merge.groupby(by=['farm_id','ingredient_type'],as_index=False).sum()[['farm_id','ingredient_type','yield']],on=['farm_id','ingredient_type'],how='left').fillna(0)"
      ],
      "execution_count": 0,
      "outputs": []
    },
    {
      "cell_type": "code",
      "metadata": {
        "id": "Vb3Aqd_ZCPMc",
        "colab_type": "code",
        "colab": {
          "base_uri": "https://localhost:8080/",
          "height": 34
        },
        "outputId": "5ccf92ce-0a31-40ce-e5ba-cebacb97aa21"
      },
      "source": [
        "dump(farm_id_traget_encoding,'/content/drive/My Drive/Phd/farm_id_target_encoding.joblib')"
      ],
      "execution_count": 22,
      "outputs": [
        {
          "output_type": "execute_result",
          "data": {
            "text/plain": [
              "['/content/drive/My Drive/Phd/farm_id_target_encoding.joblib']"
            ]
          },
          "metadata": {
            "tags": []
          },
          "execution_count": 22
        }
      ]
    },
    {
      "cell_type": "code",
      "metadata": {
        "id": "SrbqA95TDWcp",
        "colab_type": "code",
        "colab": {
          "base_uri": "https://localhost:8080/",
          "height": 419
        },
        "outputId": "b5a4e5bf-2290-4fc5-ce4f-0a7126896bc0"
      },
      "source": [
        "fram_id_traget_encoding"
      ],
      "execution_count": 51,
      "outputs": [
        {
          "output_type": "execute_result",
          "data": {
            "text/html": [
              "<div>\n",
              "<style scoped>\n",
              "    .dataframe tbody tr th:only-of-type {\n",
              "        vertical-align: middle;\n",
              "    }\n",
              "\n",
              "    .dataframe tbody tr th {\n",
              "        vertical-align: top;\n",
              "    }\n",
              "\n",
              "    .dataframe thead th {\n",
              "        text-align: right;\n",
              "    }\n",
              "</style>\n",
              "<table border=\"1\" class=\"dataframe\">\n",
              "  <thead>\n",
              "    <tr style=\"text-align: right;\">\n",
              "      <th></th>\n",
              "      <th>farm_id</th>\n",
              "      <th>ingredient_type</th>\n",
              "      <th>yeild_nan_count</th>\n",
              "      <th>yield</th>\n",
              "    </tr>\n",
              "  </thead>\n",
              "  <tbody>\n",
              "    <tr>\n",
              "      <th>0</th>\n",
              "      <td>fid_110884</td>\n",
              "      <td>ing_w</td>\n",
              "      <td>0</td>\n",
              "      <td>1.286461e+06</td>\n",
              "    </tr>\n",
              "    <tr>\n",
              "      <th>1</th>\n",
              "      <td>fid_110884</td>\n",
              "      <td>ing_z</td>\n",
              "      <td>8784</td>\n",
              "      <td>0.000000e+00</td>\n",
              "    </tr>\n",
              "    <tr>\n",
              "      <th>2</th>\n",
              "      <td>fid_110884</td>\n",
              "      <td>ing_x</td>\n",
              "      <td>8784</td>\n",
              "      <td>0.000000e+00</td>\n",
              "    </tr>\n",
              "    <tr>\n",
              "      <th>3</th>\n",
              "      <td>fid_110884</td>\n",
              "      <td>ing_y</td>\n",
              "      <td>8784</td>\n",
              "      <td>0.000000e+00</td>\n",
              "    </tr>\n",
              "    <tr>\n",
              "      <th>4</th>\n",
              "      <td>fid_90053</td>\n",
              "      <td>ing_w</td>\n",
              "      <td>0</td>\n",
              "      <td>6.576176e+05</td>\n",
              "    </tr>\n",
              "    <tr>\n",
              "      <th>...</th>\n",
              "      <td>...</td>\n",
              "      <td>...</td>\n",
              "      <td>...</td>\n",
              "      <td>...</td>\n",
              "    </tr>\n",
              "    <tr>\n",
              "      <th>5731</th>\n",
              "      <td>fid_60652</td>\n",
              "      <td>ing_y</td>\n",
              "      <td>6127</td>\n",
              "      <td>7.696698e+05</td>\n",
              "    </tr>\n",
              "    <tr>\n",
              "      <th>5732</th>\n",
              "      <td>fid_19864</td>\n",
              "      <td>ing_w</td>\n",
              "      <td>8305</td>\n",
              "      <td>2.422705e+04</td>\n",
              "    </tr>\n",
              "    <tr>\n",
              "      <th>5733</th>\n",
              "      <td>fid_19864</td>\n",
              "      <td>ing_z</td>\n",
              "      <td>8784</td>\n",
              "      <td>0.000000e+00</td>\n",
              "    </tr>\n",
              "    <tr>\n",
              "      <th>5734</th>\n",
              "      <td>fid_19864</td>\n",
              "      <td>ing_x</td>\n",
              "      <td>8784</td>\n",
              "      <td>0.000000e+00</td>\n",
              "    </tr>\n",
              "    <tr>\n",
              "      <th>5735</th>\n",
              "      <td>fid_19864</td>\n",
              "      <td>ing_y</td>\n",
              "      <td>8784</td>\n",
              "      <td>0.000000e+00</td>\n",
              "    </tr>\n",
              "  </tbody>\n",
              "</table>\n",
              "<p>5736 rows × 4 columns</p>\n",
              "</div>"
            ],
            "text/plain": [
              "         farm_id ingredient_type  yeild_nan_count         yield\n",
              "0     fid_110884           ing_w                0  1.286461e+06\n",
              "1     fid_110884           ing_z             8784  0.000000e+00\n",
              "2     fid_110884           ing_x             8784  0.000000e+00\n",
              "3     fid_110884           ing_y             8784  0.000000e+00\n",
              "4      fid_90053           ing_w                0  6.576176e+05\n",
              "...          ...             ...              ...           ...\n",
              "5731   fid_60652           ing_y             6127  7.696698e+05\n",
              "5732   fid_19864           ing_w             8305  2.422705e+04\n",
              "5733   fid_19864           ing_z             8784  0.000000e+00\n",
              "5734   fid_19864           ing_x             8784  0.000000e+00\n",
              "5735   fid_19864           ing_y             8784  0.000000e+00\n",
              "\n",
              "[5736 rows x 4 columns]"
            ]
          },
          "metadata": {
            "tags": []
          },
          "execution_count": 51
        }
      ]
    },
    {
      "cell_type": "code",
      "metadata": {
        "id": "YYQBlnCiDcNu",
        "colab_type": "code",
        "colab": {
          "base_uri": "https://localhost:8080/",
          "height": 34
        },
        "outputId": "3ca15d1f-72f4-49d5-8008-303549c040fd"
      },
      "source": [
        "farming_company_weights=final_merge.groupby(by=['farming_company','ingredient_type'],as_index=False).sum()[['farming_company','ingredient_type','yield']].rename(columns={'yield':'farming_company_weights'})\n",
        "dump(farming_company_weights,'/content/drive/My Drive/Phd/farming_company_weights.joblib')"
      ],
      "execution_count": 56,
      "outputs": [
        {
          "output_type": "execute_result",
          "data": {
            "text/plain": [
              "['/content/drive/My Drive/Phd/farming_company_weights.joblib']"
            ]
          },
          "metadata": {
            "tags": []
          },
          "execution_count": 56
        }
      ]
    },
    {
      "cell_type": "code",
      "metadata": {
        "id": "kLU5Wn8-GW75",
        "colab_type": "code",
        "colab": {
          "base_uri": "https://localhost:8080/",
          "height": 119
        },
        "outputId": "f8c5c240-63a7-4f1f-bfcd-1dc4d8db71fd"
      },
      "source": [
        "final_merge.columns"
      ],
      "execution_count": 53,
      "outputs": [
        {
          "output_type": "execute_result",
          "data": {
            "text/plain": [
              "Index(['timestamp', 'farm_id', 'ingredient_type', 'yield',\n",
              "       'operations_commencing_year', 'num_processing_plants', 'farm_area',\n",
              "       'farming_company', 'deidentified_location', 'temp_obs', 'cloudiness',\n",
              "       'wind_direction', 'dew_temp', 'pressure_sea_level', 'precipitation',\n",
              "       'wind_speed'],\n",
              "      dtype='object')"
            ]
          },
          "metadata": {
            "tags": []
          },
          "execution_count": 53
        }
      ]
    },
    {
      "cell_type": "code",
      "metadata": {
        "id": "Dmj5At7GHstC",
        "colab_type": "code",
        "colab": {
          "base_uri": "https://localhost:8080/",
          "height": 34
        },
        "outputId": "30a3d9b0-d435-451d-82b1-f5d3447093f1"
      },
      "source": [
        "deidentified_location_weights=final_merge.groupby(by=['deidentified_location','ingredient_type'],as_index=False).sum()[['deidentified_location','ingredient_type','yield']].rename(columns={'yield':'deidentified_location_weights'})\n",
        "dump(deidentified_location_weights,'/content/drive/My Drive/Phd/deidentified_location_weights.joblib')"
      ],
      "execution_count": 21,
      "outputs": [
        {
          "output_type": "execute_result",
          "data": {
            "text/plain": [
              "['/content/drive/My Drive/Phd/deidentified_location_weights.joblib']"
            ]
          },
          "metadata": {
            "tags": []
          },
          "execution_count": 21
        }
      ]
    },
    {
      "cell_type": "code",
      "metadata": {
        "id": "T9M9MwDdJmT5",
        "colab_type": "code",
        "colab": {}
      },
      "source": [
        "global_time_series=final_merge.groupby(by=['timestamp','ingredient_type'],as_index=False).sum()[['timestamp','ingredient_type','yield']]"
      ],
      "execution_count": 0,
      "outputs": []
    },
    {
      "cell_type": "code",
      "metadata": {
        "id": "cL_Gz64CLHam",
        "colab_type": "code",
        "colab": {}
      },
      "source": [
        "for ingredient_type in ['ing_w','ing_x','ing_y','ing_z']:\n",
        "    global_time_series[global_time_series['ingredient_type']==ingredient_type].to_csv(('/content/drive/My Drive/Phd/global_time_series/'+ingredient_type+'.csv'),index=False)"
      ],
      "execution_count": 0,
      "outputs": []
    },
    {
      "cell_type": "code",
      "metadata": {
        "id": "ZewdaRxoNv6X",
        "colab_type": "code",
        "colab": {}
      },
      "source": [
        "for ingredient_type in ['ing_w','ing_x','ing_y','ing_z']:\n",
        "    temp=pd.read_csv(('/content/drive/My Drive/Phd/global_time_series/'+ingredient_type+'.csv'))\n",
        "    temp['month']=pd.DatetimeIndex(temp['timestamp']).month\n",
        "    temp['day']=pd.DatetimeIndex(temp['timestamp']).day\n",
        "    temp['hour']=pd.DatetimeIndex(temp['timestamp']).hour\n",
        "    temp['weekday']=pd.DatetimeIndex(temp['timestamp']).weekday\n",
        "    temp['quarter']=pd.DatetimeIndex(temp['timestamp']).quarter\n",
        "    temp['weekofyear']=pd.DatetimeIndex(temp['timestamp']).weekofyear\n",
        "    temp['month']=pd.merge(temp['month'],temp.groupby('month',as_index=False).sum()[['month','yield']],on=['month'],how='left')['yield']\n",
        "    temp['day']=pd.merge(temp['day'],temp.groupby('day',as_index=False).sum()[['day','yield']],on=['day'],how='left')['yield']\n",
        "    temp['hour']=pd.merge(temp['hour'],temp.groupby('hour',as_index=False).sum()[['hour','yield']],on=['hour'],how='left')['yield']\n",
        "    temp['weekday']=pd.merge(temp['weekday'],temp.groupby('weekday',as_index=False).sum()[['weekday','yield']],on=['weekday'],how='left')['yield']\n",
        "    temp['quarter']=pd.merge(temp['quarter'],temp.groupby('quarter',as_index=False).sum()[['quarter','yield']],on=['quarter'],how='left')['yield']\n",
        "    temp['weekofyear']=pd.merge(temp['weekofyear'],temp.groupby('weekofyear',as_index=False).sum()[['weekofyear','yield']],on=['weekofyear'],how='left')['yield']\n",
        "    temp.rename(columns={'yield':'globaltime_yield_ingredient_weights'},inplace=True)\n",
        "    temp.rename(columns={'month':'globaltime_month12_ingredient_weights'},inplace=True)\n",
        "    temp.rename(columns={'day':'globaltime_day31_ingredient_weights'},inplace=True)\n",
        "    temp.rename(columns={'hour':'globaltime_hour24_ingredient_weights'},inplace=True)\n",
        "    temp.rename(columns={'weekday':'globaltime_weekday7_ingredient_weights'},inplace=True)\n",
        "    temp.rename(columns={'quarter':'globaltime_quarter4_ingredient_weights'},inplace=True)\n",
        "    temp.rename(columns={'weekofyear':'globaltime_weekofyear53_ingredient_weights'},inplace=True)\n",
        "    temp.to_csv(('/content/drive/My Drive/Phd/global_time_series/'+ingredient_type+'.csv'),index=False)\n",
        "\n"
      ],
      "execution_count": 0,
      "outputs": []
    },
    {
      "cell_type": "code",
      "metadata": {
        "id": "daNgnM35PAJc",
        "colab_type": "code",
        "colab": {}
      },
      "source": [
        "global_time_series_full=pd.DataFrame()\n",
        "for ingredient_type in ['ing_w','ing_x','ing_y','ing_z']:\n",
        "  temp_dataframe=pd.read_csv(('/content/drive/My Drive/Phd/global_time_series/'+ingredient_type+'.csv'))\n",
        "  if ingredient_type=='ing_w':\n",
        "    global_time_series_full=temp_dataframe\n",
        "  else:\n",
        "    global_time_series_full=global_time_series_full.append(temp_dataframe,ignore_index=True)"
      ],
      "execution_count": 0,
      "outputs": []
    },
    {
      "cell_type": "code",
      "metadata": {
        "id": "ymQiBCEUVV-3",
        "colab_type": "code",
        "colab": {
          "base_uri": "https://localhost:8080/",
          "height": 34
        },
        "outputId": "f530be94-be6e-47a5-f032-dc89885e2afb"
      },
      "source": [
        "dump(global_time_series_full,'/content/drive/My Drive/Phd/global_time_series_full.joblib')"
      ],
      "execution_count": 88,
      "outputs": [
        {
          "output_type": "execute_result",
          "data": {
            "text/plain": [
              "['/content/drive/My Drive/Phd/global_time_series_full.joblib']"
            ]
          },
          "metadata": {
            "tags": []
          },
          "execution_count": 88
        }
      ]
    },
    {
      "cell_type": "code",
      "metadata": {
        "id": "03C81wvPVkRC",
        "colab_type": "code",
        "colab": {
          "base_uri": "https://localhost:8080/",
          "height": 779
        },
        "outputId": "31709288-2760-4fc3-93f5-842a66c97ed7"
      },
      "source": [
        "final_merge"
      ],
      "execution_count": 92,
      "outputs": [
        {
          "output_type": "execute_result",
          "data": {
            "text/html": [
              "<div>\n",
              "<style scoped>\n",
              "    .dataframe tbody tr th:only-of-type {\n",
              "        vertical-align: middle;\n",
              "    }\n",
              "\n",
              "    .dataframe tbody tr th {\n",
              "        vertical-align: top;\n",
              "    }\n",
              "\n",
              "    .dataframe thead th {\n",
              "        text-align: right;\n",
              "    }\n",
              "</style>\n",
              "<table border=\"1\" class=\"dataframe\">\n",
              "  <thead>\n",
              "    <tr style=\"text-align: right;\">\n",
              "      <th></th>\n",
              "      <th>timestamp</th>\n",
              "      <th>farm_id</th>\n",
              "      <th>ingredient_type</th>\n",
              "      <th>yield</th>\n",
              "      <th>farm_area</th>\n",
              "      <th>farming_company</th>\n",
              "      <th>deidentified_location</th>\n",
              "      <th>temp_obs</th>\n",
              "      <th>cloudiness</th>\n",
              "      <th>wind_direction</th>\n",
              "      <th>dew_temp</th>\n",
              "      <th>pressure_sea_level</th>\n",
              "      <th>precipitation</th>\n",
              "      <th>wind_speed</th>\n",
              "    </tr>\n",
              "  </thead>\n",
              "  <tbody>\n",
              "    <tr>\n",
              "      <th>0</th>\n",
              "      <td>2016-01-01 00:00:00</td>\n",
              "      <td>fid_100053</td>\n",
              "      <td>ing_w</td>\n",
              "      <td>37.0400</td>\n",
              "      <td>2043.866000</td>\n",
              "      <td>Del Monte Foods</td>\n",
              "      <td>location 5290</td>\n",
              "      <td>10.0</td>\n",
              "      <td>8.0</td>\n",
              "      <td>350.0</td>\n",
              "      <td>2.2</td>\n",
              "      <td>1021.1</td>\n",
              "      <td>0.0</td>\n",
              "      <td>4.1</td>\n",
              "    </tr>\n",
              "    <tr>\n",
              "      <th>1</th>\n",
              "      <td>2016-01-01 00:00:00</td>\n",
              "      <td>fid_100107</td>\n",
              "      <td>ing_w</td>\n",
              "      <td>291.8000</td>\n",
              "      <td>35416.574563</td>\n",
              "      <td>Del Monte Foods</td>\n",
              "      <td>location 2532</td>\n",
              "      <td>-8.3</td>\n",
              "      <td>8.0</td>\n",
              "      <td>250.0</td>\n",
              "      <td>-12.2</td>\n",
              "      <td>1023.3</td>\n",
              "      <td>-1.0</td>\n",
              "      <td>4.1</td>\n",
              "    </tr>\n",
              "    <tr>\n",
              "      <th>2</th>\n",
              "      <td>2016-01-01 00:00:00</td>\n",
              "      <td>fid_100107</td>\n",
              "      <td>ing_x</td>\n",
              "      <td>25.3232</td>\n",
              "      <td>35416.574563</td>\n",
              "      <td>Del Monte Foods</td>\n",
              "      <td>location 2532</td>\n",
              "      <td>-8.3</td>\n",
              "      <td>8.0</td>\n",
              "      <td>250.0</td>\n",
              "      <td>-12.2</td>\n",
              "      <td>1023.3</td>\n",
              "      <td>-1.0</td>\n",
              "      <td>4.1</td>\n",
              "    </tr>\n",
              "    <tr>\n",
              "      <th>4</th>\n",
              "      <td>2016-01-01 00:00:00</td>\n",
              "      <td>fid_100135</td>\n",
              "      <td>ing_w</td>\n",
              "      <td>15.6400</td>\n",
              "      <td>1432.564260</td>\n",
              "      <td>Dole Food Company</td>\n",
              "      <td>location 5290</td>\n",
              "      <td>10.0</td>\n",
              "      <td>8.0</td>\n",
              "      <td>350.0</td>\n",
              "      <td>2.2</td>\n",
              "      <td>1021.1</td>\n",
              "      <td>0.0</td>\n",
              "      <td>4.1</td>\n",
              "    </tr>\n",
              "    <tr>\n",
              "      <th>5</th>\n",
              "      <td>2016-01-01 00:00:00</td>\n",
              "      <td>fid_100249</td>\n",
              "      <td>ing_w</td>\n",
              "      <td>19.4900</td>\n",
              "      <td>941.571905</td>\n",
              "      <td>Wayne Farms</td>\n",
              "      <td>location 5489</td>\n",
              "      <td>15.6</td>\n",
              "      <td>6.0</td>\n",
              "      <td>270.0</td>\n",
              "      <td>-5.6</td>\n",
              "      <td>1015.3</td>\n",
              "      <td>0.0</td>\n",
              "      <td>3.6</td>\n",
              "    </tr>\n",
              "    <tr>\n",
              "      <th>...</th>\n",
              "      <td>...</td>\n",
              "      <td>...</td>\n",
              "      <td>...</td>\n",
              "      <td>...</td>\n",
              "      <td>...</td>\n",
              "      <td>...</td>\n",
              "      <td>...</td>\n",
              "      <td>...</td>\n",
              "      <td>...</td>\n",
              "      <td>...</td>\n",
              "      <td>...</td>\n",
              "      <td>...</td>\n",
              "      <td>...</td>\n",
              "      <td>...</td>\n",
              "    </tr>\n",
              "    <tr>\n",
              "      <th>20080527</th>\n",
              "      <td>2016-12-31 23:00:00</td>\n",
              "      <td>fid_99921</td>\n",
              "      <td>ing_w</td>\n",
              "      <td>142.3700</td>\n",
              "      <td>15232.282977</td>\n",
              "      <td>Wayne Farms</td>\n",
              "      <td>location 5489</td>\n",
              "      <td>16.7</td>\n",
              "      <td>4.0</td>\n",
              "      <td>250.0</td>\n",
              "      <td>10.0</td>\n",
              "      <td>1011.0</td>\n",
              "      <td>0.0</td>\n",
              "      <td>2.6</td>\n",
              "    </tr>\n",
              "    <tr>\n",
              "      <th>20080528</th>\n",
              "      <td>2016-12-31 23:00:00</td>\n",
              "      <td>fid_99921</td>\n",
              "      <td>ing_x</td>\n",
              "      <td>102.3400</td>\n",
              "      <td>15232.282977</td>\n",
              "      <td>Wayne Farms</td>\n",
              "      <td>location 5489</td>\n",
              "      <td>16.7</td>\n",
              "      <td>4.0</td>\n",
              "      <td>250.0</td>\n",
              "      <td>10.0</td>\n",
              "      <td>1011.0</td>\n",
              "      <td>0.0</td>\n",
              "      <td>2.6</td>\n",
              "    </tr>\n",
              "    <tr>\n",
              "      <th>20080529</th>\n",
              "      <td>2016-12-31 23:00:00</td>\n",
              "      <td>fid_99942</td>\n",
              "      <td>ing_w</td>\n",
              "      <td>79.3100</td>\n",
              "      <td>12733.749695</td>\n",
              "      <td>Obery Farms</td>\n",
              "      <td>location 5489</td>\n",
              "      <td>16.7</td>\n",
              "      <td>4.0</td>\n",
              "      <td>250.0</td>\n",
              "      <td>10.0</td>\n",
              "      <td>1011.0</td>\n",
              "      <td>0.0</td>\n",
              "      <td>2.6</td>\n",
              "    </tr>\n",
              "    <tr>\n",
              "      <th>20080530</th>\n",
              "      <td>2016-12-31 23:00:00</td>\n",
              "      <td>fid_99942</td>\n",
              "      <td>ing_x</td>\n",
              "      <td>72.6230</td>\n",
              "      <td>12733.749695</td>\n",
              "      <td>Obery Farms</td>\n",
              "      <td>location 5489</td>\n",
              "      <td>16.7</td>\n",
              "      <td>4.0</td>\n",
              "      <td>250.0</td>\n",
              "      <td>10.0</td>\n",
              "      <td>1011.0</td>\n",
              "      <td>0.0</td>\n",
              "      <td>2.6</td>\n",
              "    </tr>\n",
              "    <tr>\n",
              "      <th>20080531</th>\n",
              "      <td>2016-12-31 23:00:00</td>\n",
              "      <td>fid_99942</td>\n",
              "      <td>ing_z</td>\n",
              "      <td>11.7228</td>\n",
              "      <td>12733.749695</td>\n",
              "      <td>Obery Farms</td>\n",
              "      <td>location 5489</td>\n",
              "      <td>16.7</td>\n",
              "      <td>4.0</td>\n",
              "      <td>250.0</td>\n",
              "      <td>10.0</td>\n",
              "      <td>1011.0</td>\n",
              "      <td>0.0</td>\n",
              "      <td>2.6</td>\n",
              "    </tr>\n",
              "  </tbody>\n",
              "</table>\n",
              "<p>19478117 rows × 14 columns</p>\n",
              "</div>"
            ],
            "text/plain": [
              "                   timestamp     farm_id  ... precipitation  wind_speed\n",
              "0        2016-01-01 00:00:00  fid_100053  ...           0.0         4.1\n",
              "1        2016-01-01 00:00:00  fid_100107  ...          -1.0         4.1\n",
              "2        2016-01-01 00:00:00  fid_100107  ...          -1.0         4.1\n",
              "4        2016-01-01 00:00:00  fid_100135  ...           0.0         4.1\n",
              "5        2016-01-01 00:00:00  fid_100249  ...           0.0         3.6\n",
              "...                      ...         ...  ...           ...         ...\n",
              "20080527 2016-12-31 23:00:00   fid_99921  ...           0.0         2.6\n",
              "20080528 2016-12-31 23:00:00   fid_99921  ...           0.0         2.6\n",
              "20080529 2016-12-31 23:00:00   fid_99942  ...           0.0         2.6\n",
              "20080530 2016-12-31 23:00:00   fid_99942  ...           0.0         2.6\n",
              "20080531 2016-12-31 23:00:00   fid_99942  ...           0.0         2.6\n",
              "\n",
              "[19478117 rows x 14 columns]"
            ]
          },
          "metadata": {
            "tags": []
          },
          "execution_count": 92
        }
      ]
    },
    {
      "cell_type": "code",
      "metadata": {
        "id": "CapxHrV0ZWji",
        "colab_type": "code",
        "colab": {}
      },
      "source": [
        "final_merge=load('/content/drive/My Drive/Phd/train_data_removied_outliers_raw.joblib')\n",
        "farm_id_traget_encoding=load('/content/drive/My Drive/Phd/farm_id_target_encoding.joblib')\n",
        "farming_company_weights=load('/content/drive/My Drive/Phd/farming_company_weights.joblib')\n",
        "deidentified_location_weights=load('/content/drive/My Drive/Phd/deidentified_location_weights.joblib')\n",
        "global_time_series_full=load('/content/drive/My Drive/Phd/global_time_series_full.joblib')"
      ],
      "execution_count": 0,
      "outputs": []
    },
    {
      "cell_type": "code",
      "metadata": {
        "id": "r2pm89UOXbxr",
        "colab_type": "code",
        "colab": {}
      },
      "source": [
        "final_merge=pd.merge(final_merge,farm_id_traget_encoding,on=['farm_id','ingredient_type'],how='left')"
      ],
      "execution_count": 0,
      "outputs": []
    },
    {
      "cell_type": "code",
      "metadata": {
        "id": "gIiybGLFYTvh",
        "colab_type": "code",
        "colab": {}
      },
      "source": [
        "final_merge=pd.merge(final_merge,farming_company_weights,on=['farming_company','ingredient_type'],how='left')"
      ],
      "execution_count": 0,
      "outputs": []
    },
    {
      "cell_type": "code",
      "metadata": {
        "id": "LLFC6YJiYq-D",
        "colab_type": "code",
        "colab": {}
      },
      "source": [
        "final_merge=pd.merge(final_merge,deidentified_location_weights,on=['deidentified_location','ingredient_type'],how='left')"
      ],
      "execution_count": 0,
      "outputs": []
    },
    {
      "cell_type": "code",
      "metadata": {
        "id": "p1IWSZbeamkb",
        "colab_type": "code",
        "colab": {}
      },
      "source": [
        "final_merge['timestamp']=final_merge['timestamp'].astype('datetime64[ns]')\n",
        "global_time_series_full['timestamp']=global_time_series_full['timestamp'].astype('datetime64[ns]')\n",
        "final_merge=pd.merge(final_merge,global_time_series_full,on=['timestamp','ingredient_type'],how='left')"
      ],
      "execution_count": 0,
      "outputs": []
    },
    {
      "cell_type": "code",
      "metadata": {
        "id": "obEpvh5HeDgm",
        "colab_type": "code",
        "colab": {
          "base_uri": "https://localhost:8080/",
          "height": 779
        },
        "outputId": "67a0afab-aec2-4699-bdf0-020e23400753"
      },
      "source": [
        "final_merge"
      ],
      "execution_count": 75,
      "outputs": [
        {
          "output_type": "execute_result",
          "data": {
            "text/html": [
              "<div>\n",
              "<style scoped>\n",
              "    .dataframe tbody tr th:only-of-type {\n",
              "        vertical-align: middle;\n",
              "    }\n",
              "\n",
              "    .dataframe tbody tr th {\n",
              "        vertical-align: top;\n",
              "    }\n",
              "\n",
              "    .dataframe thead th {\n",
              "        text-align: right;\n",
              "    }\n",
              "</style>\n",
              "<table border=\"1\" class=\"dataframe\">\n",
              "  <thead>\n",
              "    <tr style=\"text-align: right;\">\n",
              "      <th></th>\n",
              "      <th>timestamp</th>\n",
              "      <th>farm_id</th>\n",
              "      <th>ingredient_type</th>\n",
              "      <th>yield</th>\n",
              "      <th>farm_area</th>\n",
              "      <th>farming_company</th>\n",
              "      <th>deidentified_location</th>\n",
              "      <th>temp_obs</th>\n",
              "      <th>cloudiness</th>\n",
              "      <th>wind_direction</th>\n",
              "      <th>dew_temp</th>\n",
              "      <th>pressure_sea_level</th>\n",
              "      <th>precipitation</th>\n",
              "      <th>wind_speed</th>\n",
              "      <th>yeild_nan_count</th>\n",
              "      <th>farm_id_ingredient_type_traget_encoding</th>\n",
              "      <th>farming_company_weights</th>\n",
              "      <th>deidentified_location_weights</th>\n",
              "      <th>globaltime_yield_ingredient_weights</th>\n",
              "      <th>globaltime_month12_ingredient_weights</th>\n",
              "      <th>globaltime_day31_ingredient_weights</th>\n",
              "      <th>globaltime_hour24_ingredient_weights</th>\n",
              "      <th>globaltime_weekday7_ingredient_weights</th>\n",
              "      <th>globaltime_quarter4_ingredient_weights</th>\n",
              "      <th>globaltime_weekofyear53_ingredient_weights</th>\n",
              "    </tr>\n",
              "  </thead>\n",
              "  <tbody>\n",
              "    <tr>\n",
              "      <th>0</th>\n",
              "      <td>2016-01-01 00:00:00</td>\n",
              "      <td>fid_100053</td>\n",
              "      <td>ing_w</td>\n",
              "      <td>37.0400</td>\n",
              "      <td>2043.866000</td>\n",
              "      <td>Del Monte Foods</td>\n",
              "      <td>location 5290</td>\n",
              "      <td>10.0</td>\n",
              "      <td>8.0</td>\n",
              "      <td>350.0</td>\n",
              "      <td>2.2</td>\n",
              "      <td>1021.1</td>\n",
              "      <td>0.0</td>\n",
              "      <td>4.1</td>\n",
              "      <td>346</td>\n",
              "      <td>4.722934e+05</td>\n",
              "      <td>1.294046e+08</td>\n",
              "      <td>2.545410e+12</td>\n",
              "      <td>135023.2208</td>\n",
              "      <td>1.391212e+08</td>\n",
              "      <td>6.027066e+07</td>\n",
              "      <td>6.955550e+07</td>\n",
              "      <td>2.719701e+08</td>\n",
              "      <td>3.942612e+08</td>\n",
              "      <td>1.182668e+07</td>\n",
              "    </tr>\n",
              "    <tr>\n",
              "      <th>1</th>\n",
              "      <td>2016-01-01 00:00:00</td>\n",
              "      <td>fid_100107</td>\n",
              "      <td>ing_w</td>\n",
              "      <td>291.8000</td>\n",
              "      <td>35416.574563</td>\n",
              "      <td>Del Monte Foods</td>\n",
              "      <td>location 2532</td>\n",
              "      <td>-8.3</td>\n",
              "      <td>8.0</td>\n",
              "      <td>250.0</td>\n",
              "      <td>-12.2</td>\n",
              "      <td>1023.3</td>\n",
              "      <td>-1.0</td>\n",
              "      <td>4.1</td>\n",
              "      <td>0</td>\n",
              "      <td>4.773916e+06</td>\n",
              "      <td>1.294046e+08</td>\n",
              "      <td>2.228210e+12</td>\n",
              "      <td>135023.2208</td>\n",
              "      <td>1.391212e+08</td>\n",
              "      <td>6.027066e+07</td>\n",
              "      <td>6.955550e+07</td>\n",
              "      <td>2.719701e+08</td>\n",
              "      <td>3.942612e+08</td>\n",
              "      <td>1.182668e+07</td>\n",
              "    </tr>\n",
              "    <tr>\n",
              "      <th>2</th>\n",
              "      <td>2016-01-01 00:00:00</td>\n",
              "      <td>fid_100107</td>\n",
              "      <td>ing_x</td>\n",
              "      <td>25.3232</td>\n",
              "      <td>35416.574563</td>\n",
              "      <td>Del Monte Foods</td>\n",
              "      <td>location 2532</td>\n",
              "      <td>-8.3</td>\n",
              "      <td>8.0</td>\n",
              "      <td>250.0</td>\n",
              "      <td>-12.2</td>\n",
              "      <td>1023.3</td>\n",
              "      <td>-1.0</td>\n",
              "      <td>4.1</td>\n",
              "      <td>4</td>\n",
              "      <td>3.377998e+06</td>\n",
              "      <td>7.034721e+07</td>\n",
              "      <td>9.909914e+11</td>\n",
              "      <td>40713.7369</td>\n",
              "      <td>4.316221e+07</td>\n",
              "      <td>3.940342e+07</td>\n",
              "      <td>4.595626e+07</td>\n",
              "      <td>1.783589e+08</td>\n",
              "      <td>1.775693e+08</td>\n",
              "      <td>3.754670e+06</td>\n",
              "    </tr>\n",
              "    <tr>\n",
              "      <th>3</th>\n",
              "      <td>2016-01-01 00:00:00</td>\n",
              "      <td>fid_100135</td>\n",
              "      <td>ing_w</td>\n",
              "      <td>15.6400</td>\n",
              "      <td>1432.564260</td>\n",
              "      <td>Dole Food Company</td>\n",
              "      <td>location 5290</td>\n",
              "      <td>10.0</td>\n",
              "      <td>8.0</td>\n",
              "      <td>350.0</td>\n",
              "      <td>2.2</td>\n",
              "      <td>1021.1</td>\n",
              "      <td>0.0</td>\n",
              "      <td>4.1</td>\n",
              "      <td>3</td>\n",
              "      <td>2.196656e+05</td>\n",
              "      <td>1.330725e+08</td>\n",
              "      <td>2.545410e+12</td>\n",
              "      <td>135023.2208</td>\n",
              "      <td>1.391212e+08</td>\n",
              "      <td>6.027066e+07</td>\n",
              "      <td>6.955550e+07</td>\n",
              "      <td>2.719701e+08</td>\n",
              "      <td>3.942612e+08</td>\n",
              "      <td>1.182668e+07</td>\n",
              "    </tr>\n",
              "    <tr>\n",
              "      <th>4</th>\n",
              "      <td>2016-01-01 00:00:00</td>\n",
              "      <td>fid_100249</td>\n",
              "      <td>ing_w</td>\n",
              "      <td>19.4900</td>\n",
              "      <td>941.571905</td>\n",
              "      <td>Wayne Farms</td>\n",
              "      <td>location 5489</td>\n",
              "      <td>15.6</td>\n",
              "      <td>6.0</td>\n",
              "      <td>270.0</td>\n",
              "      <td>-5.6</td>\n",
              "      <td>1015.3</td>\n",
              "      <td>0.0</td>\n",
              "      <td>3.6</td>\n",
              "      <td>1</td>\n",
              "      <td>1.574181e+05</td>\n",
              "      <td>3.514528e+08</td>\n",
              "      <td>1.456943e+12</td>\n",
              "      <td>135023.2208</td>\n",
              "      <td>1.391212e+08</td>\n",
              "      <td>6.027066e+07</td>\n",
              "      <td>6.955550e+07</td>\n",
              "      <td>2.719701e+08</td>\n",
              "      <td>3.942612e+08</td>\n",
              "      <td>1.182668e+07</td>\n",
              "    </tr>\n",
              "    <tr>\n",
              "      <th>...</th>\n",
              "      <td>...</td>\n",
              "      <td>...</td>\n",
              "      <td>...</td>\n",
              "      <td>...</td>\n",
              "      <td>...</td>\n",
              "      <td>...</td>\n",
              "      <td>...</td>\n",
              "      <td>...</td>\n",
              "      <td>...</td>\n",
              "      <td>...</td>\n",
              "      <td>...</td>\n",
              "      <td>...</td>\n",
              "      <td>...</td>\n",
              "      <td>...</td>\n",
              "      <td>...</td>\n",
              "      <td>...</td>\n",
              "      <td>...</td>\n",
              "      <td>...</td>\n",
              "      <td>...</td>\n",
              "      <td>...</td>\n",
              "      <td>...</td>\n",
              "      <td>...</td>\n",
              "      <td>...</td>\n",
              "      <td>...</td>\n",
              "      <td>...</td>\n",
              "    </tr>\n",
              "    <tr>\n",
              "      <th>19478112</th>\n",
              "      <td>2016-12-31 23:00:00</td>\n",
              "      <td>fid_99921</td>\n",
              "      <td>ing_w</td>\n",
              "      <td>142.3700</td>\n",
              "      <td>15232.282977</td>\n",
              "      <td>Wayne Farms</td>\n",
              "      <td>location 5489</td>\n",
              "      <td>16.7</td>\n",
              "      <td>4.0</td>\n",
              "      <td>250.0</td>\n",
              "      <td>10.0</td>\n",
              "      <td>1011.0</td>\n",
              "      <td>0.0</td>\n",
              "      <td>2.6</td>\n",
              "      <td>3</td>\n",
              "      <td>1.285013e+06</td>\n",
              "      <td>3.514528e+08</td>\n",
              "      <td>1.456943e+12</td>\n",
              "      <td>186261.5612</td>\n",
              "      <td>1.600926e+08</td>\n",
              "      <td>3.573786e+07</td>\n",
              "      <td>7.122608e+07</td>\n",
              "      <td>2.500238e+08</td>\n",
              "      <td>4.893477e+08</td>\n",
              "      <td>2.899149e+07</td>\n",
              "    </tr>\n",
              "    <tr>\n",
              "      <th>19478113</th>\n",
              "      <td>2016-12-31 23:00:00</td>\n",
              "      <td>fid_99921</td>\n",
              "      <td>ing_x</td>\n",
              "      <td>102.3400</td>\n",
              "      <td>15232.282977</td>\n",
              "      <td>Wayne Farms</td>\n",
              "      <td>location 5489</td>\n",
              "      <td>16.7</td>\n",
              "      <td>4.0</td>\n",
              "      <td>250.0</td>\n",
              "      <td>10.0</td>\n",
              "      <td>1011.0</td>\n",
              "      <td>0.0</td>\n",
              "      <td>2.6</td>\n",
              "      <td>3</td>\n",
              "      <td>2.144410e+06</td>\n",
              "      <td>2.548563e+08</td>\n",
              "      <td>2.043693e+12</td>\n",
              "      <td>72540.8947</td>\n",
              "      <td>6.060628e+07</td>\n",
              "      <td>2.421878e+07</td>\n",
              "      <td>4.718487e+07</td>\n",
              "      <td>1.667514e+08</td>\n",
              "      <td>2.431905e+08</td>\n",
              "      <td>1.227002e+07</td>\n",
              "    </tr>\n",
              "    <tr>\n",
              "      <th>19478114</th>\n",
              "      <td>2016-12-31 23:00:00</td>\n",
              "      <td>fid_99942</td>\n",
              "      <td>ing_w</td>\n",
              "      <td>79.3100</td>\n",
              "      <td>12733.749695</td>\n",
              "      <td>Obery Farms</td>\n",
              "      <td>location 5489</td>\n",
              "      <td>16.7</td>\n",
              "      <td>4.0</td>\n",
              "      <td>250.0</td>\n",
              "      <td>10.0</td>\n",
              "      <td>1011.0</td>\n",
              "      <td>0.0</td>\n",
              "      <td>2.6</td>\n",
              "      <td>2</td>\n",
              "      <td>1.313502e+06</td>\n",
              "      <td>9.308472e+08</td>\n",
              "      <td>1.456943e+12</td>\n",
              "      <td>186261.5612</td>\n",
              "      <td>1.600926e+08</td>\n",
              "      <td>3.573786e+07</td>\n",
              "      <td>7.122608e+07</td>\n",
              "      <td>2.500238e+08</td>\n",
              "      <td>4.893477e+08</td>\n",
              "      <td>2.899149e+07</td>\n",
              "    </tr>\n",
              "    <tr>\n",
              "      <th>19478115</th>\n",
              "      <td>2016-12-31 23:00:00</td>\n",
              "      <td>fid_99942</td>\n",
              "      <td>ing_x</td>\n",
              "      <td>72.6230</td>\n",
              "      <td>12733.749695</td>\n",
              "      <td>Obery Farms</td>\n",
              "      <td>location 5489</td>\n",
              "      <td>16.7</td>\n",
              "      <td>4.0</td>\n",
              "      <td>250.0</td>\n",
              "      <td>10.0</td>\n",
              "      <td>1011.0</td>\n",
              "      <td>0.0</td>\n",
              "      <td>2.6</td>\n",
              "      <td>1</td>\n",
              "      <td>2.571440e+06</td>\n",
              "      <td>5.942729e+08</td>\n",
              "      <td>2.043693e+12</td>\n",
              "      <td>72540.8947</td>\n",
              "      <td>6.060628e+07</td>\n",
              "      <td>2.421878e+07</td>\n",
              "      <td>4.718487e+07</td>\n",
              "      <td>1.667514e+08</td>\n",
              "      <td>2.431905e+08</td>\n",
              "      <td>1.227002e+07</td>\n",
              "    </tr>\n",
              "    <tr>\n",
              "      <th>19478116</th>\n",
              "      <td>2016-12-31 23:00:00</td>\n",
              "      <td>fid_99942</td>\n",
              "      <td>ing_z</td>\n",
              "      <td>11.7228</td>\n",
              "      <td>12733.749695</td>\n",
              "      <td>Obery Farms</td>\n",
              "      <td>location 5489</td>\n",
              "      <td>16.7</td>\n",
              "      <td>4.0</td>\n",
              "      <td>250.0</td>\n",
              "      <td>10.0</td>\n",
              "      <td>1011.0</td>\n",
              "      <td>0.0</td>\n",
              "      <td>2.6</td>\n",
              "      <td>2</td>\n",
              "      <td>1.434553e+05</td>\n",
              "      <td>1.051129e+08</td>\n",
              "      <td>1.662712e+11</td>\n",
              "      <td>40820.8149</td>\n",
              "      <td>2.993657e+07</td>\n",
              "      <td>4.813706e+06</td>\n",
              "      <td>1.042860e+07</td>\n",
              "      <td>3.737245e+07</td>\n",
              "      <td>6.996550e+07</td>\n",
              "      <td>5.635746e+06</td>\n",
              "    </tr>\n",
              "  </tbody>\n",
              "</table>\n",
              "<p>19478117 rows × 25 columns</p>\n",
              "</div>"
            ],
            "text/plain": [
              "                   timestamp  ... globaltime_weekofyear53_ingredient_weights\n",
              "0        2016-01-01 00:00:00  ...                               1.182668e+07\n",
              "1        2016-01-01 00:00:00  ...                               1.182668e+07\n",
              "2        2016-01-01 00:00:00  ...                               3.754670e+06\n",
              "3        2016-01-01 00:00:00  ...                               1.182668e+07\n",
              "4        2016-01-01 00:00:00  ...                               1.182668e+07\n",
              "...                      ...  ...                                        ...\n",
              "19478112 2016-12-31 23:00:00  ...                               2.899149e+07\n",
              "19478113 2016-12-31 23:00:00  ...                               1.227002e+07\n",
              "19478114 2016-12-31 23:00:00  ...                               2.899149e+07\n",
              "19478115 2016-12-31 23:00:00  ...                               1.227002e+07\n",
              "19478116 2016-12-31 23:00:00  ...                               5.635746e+06\n",
              "\n",
              "[19478117 rows x 25 columns]"
            ]
          },
          "metadata": {
            "tags": []
          },
          "execution_count": 75
        }
      ]
    },
    {
      "cell_type": "code",
      "metadata": {
        "id": "8VoIwBZKe052",
        "colab_type": "code",
        "colab": {}
      },
      "source": [
        "cat_cols=['ingredient_type','farming_company','deidentified_location']\n",
        "final_merge[cat_cols] = final_merge[cat_cols].astype(\"category\")"
      ],
      "execution_count": 0,
      "outputs": []
    },
    {
      "cell_type": "code",
      "metadata": {
        "id": "OpGF6gArij_J",
        "colab_type": "code",
        "colab": {
          "base_uri": "https://localhost:8080/",
          "height": 34
        },
        "outputId": "ecae7fad-a8dd-45e3-e394-a5fc9a4f3488"
      },
      "source": [
        "\n",
        "from sklearn.preprocessing import LabelEncoder\n",
        "label_encoder=LabelEncoder()\n",
        "le_ingredient_type=label_encoder.fit(final_merge['ingredient_type'])\n",
        "final_merge['ingredient_type']=le_ingredient_type.transform(final_merge['ingredient_type'])\n",
        "dump(le_ingredient_type,'/content/drive/My Drive/Phd/le_ingredient_type.joblib')"
      ],
      "execution_count": 77,
      "outputs": [
        {
          "output_type": "execute_result",
          "data": {
            "text/plain": [
              "['/content/drive/My Drive/Phd/le_ingredient_type.joblib']"
            ]
          },
          "metadata": {
            "tags": []
          },
          "execution_count": 77
        }
      ]
    },
    {
      "cell_type": "code",
      "metadata": {
        "id": "-P0h6I0WjJEn",
        "colab_type": "code",
        "colab": {
          "base_uri": "https://localhost:8080/",
          "height": 34
        },
        "outputId": "49762a50-b4a9-461b-e0df-e44b307e9573"
      },
      "source": [
        "\n",
        "from sklearn.preprocessing import LabelEncoder\n",
        "label_encoder=LabelEncoder()\n",
        "le_deidentified_location=label_encoder.fit(final_merge['deidentified_location'])\n",
        "final_merge['deidentified_location']=le_deidentified_location.transform(final_merge['deidentified_location'])\n",
        "dump(le_deidentified_location,'/content/drive/My Drive/Phd/le_deidentified_location.joblib')"
      ],
      "execution_count": 78,
      "outputs": [
        {
          "output_type": "execute_result",
          "data": {
            "text/plain": [
              "['/content/drive/My Drive/Phd/le_deidentified_location.joblib']"
            ]
          },
          "metadata": {
            "tags": []
          },
          "execution_count": 78
        }
      ]
    },
    {
      "cell_type": "code",
      "metadata": {
        "id": "QcOPtqjRjoTN",
        "colab_type": "code",
        "colab": {
          "base_uri": "https://localhost:8080/",
          "height": 34
        },
        "outputId": "52382ec4-615f-4363-8b37-28ee848d5951"
      },
      "source": [
        "\n",
        "from sklearn.preprocessing import LabelEncoder\n",
        "label_encoder=LabelEncoder()\n",
        "le_farming_company=label_encoder.fit(final_merge['farming_company'])\n",
        "final_merge['farming_company']=le_farming_company.transform(final_merge['farming_company'])\n",
        "dump(le_farming_company,'/content/drive/My Drive/Phd/le_farming_company.joblib')"
      ],
      "execution_count": 79,
      "outputs": [
        {
          "output_type": "execute_result",
          "data": {
            "text/plain": [
              "['/content/drive/My Drive/Phd/le_farming_company.joblib']"
            ]
          },
          "metadata": {
            "tags": []
          },
          "execution_count": 79
        }
      ]
    },
    {
      "cell_type": "code",
      "metadata": {
        "id": "ydoxYOfkjz-u",
        "colab_type": "code",
        "colab": {
          "base_uri": "https://localhost:8080/",
          "height": 34
        },
        "outputId": "f7093d0e-a4c3-4b3d-86b7-b638b9db2919"
      },
      "source": [
        "dump(final_merge,'/content/drive/My Drive/Phd/train_data_without_standarderization.joblib')"
      ],
      "execution_count": 80,
      "outputs": [
        {
          "output_type": "execute_result",
          "data": {
            "text/plain": [
              "['/content/drive/My Drive/Phd/train_data_without_standarderization.joblib']"
            ]
          },
          "metadata": {
            "tags": []
          },
          "execution_count": 80
        }
      ]
    },
    {
      "cell_type": "code",
      "metadata": {
        "id": "auiENRKJlmES",
        "colab_type": "code",
        "colab": {}
      },
      "source": [
        "final_merge.drop(['timestamp','farm_id'],inplace=True,axis=1)"
      ],
      "execution_count": 0,
      "outputs": []
    },
    {
      "cell_type": "code",
      "metadata": {
        "id": "VcAEqyj8m9TK",
        "colab_type": "code",
        "colab": {
          "base_uri": "https://localhost:8080/",
          "height": 762
        },
        "outputId": "8e2b8016-cecd-469b-eeeb-3c8502a02801"
      },
      "source": [
        "def inspect_data(data) :\n",
        "      return pd.DataFrame({\"Data type\": data.dtypes,\"NUll Values\": data.isnull().sum(),\n",
        "                           \"No of Levels\": data.apply(lambda x: str(x.nunique()),axis=0),\n",
        "                          \"Levels\": data.apply(lambda x: str(x.unique()),axis=0)})\n",
        "inspect_data(final_merge)"
      ],
      "execution_count": 82,
      "outputs": [
        {
          "output_type": "execute_result",
          "data": {
            "text/html": [
              "<div>\n",
              "<style scoped>\n",
              "    .dataframe tbody tr th:only-of-type {\n",
              "        vertical-align: middle;\n",
              "    }\n",
              "\n",
              "    .dataframe tbody tr th {\n",
              "        vertical-align: top;\n",
              "    }\n",
              "\n",
              "    .dataframe thead th {\n",
              "        text-align: right;\n",
              "    }\n",
              "</style>\n",
              "<table border=\"1\" class=\"dataframe\">\n",
              "  <thead>\n",
              "    <tr style=\"text-align: right;\">\n",
              "      <th></th>\n",
              "      <th>Data type</th>\n",
              "      <th>NUll Values</th>\n",
              "      <th>No of Levels</th>\n",
              "      <th>Levels</th>\n",
              "    </tr>\n",
              "  </thead>\n",
              "  <tbody>\n",
              "    <tr>\n",
              "      <th>ingredient_type</th>\n",
              "      <td>int64</td>\n",
              "      <td>0</td>\n",
              "      <td>4</td>\n",
              "      <td>[0. 1. 3. 2.]</td>\n",
              "    </tr>\n",
              "    <tr>\n",
              "      <th>yield</th>\n",
              "      <td>float64</td>\n",
              "      <td>0</td>\n",
              "      <td>1508801</td>\n",
              "      <td>[ 37.04   291.8     25.3232 ...  48.3261 578.7...</td>\n",
              "    </tr>\n",
              "    <tr>\n",
              "      <th>farm_area</th>\n",
              "      <td>float64</td>\n",
              "      <td>0</td>\n",
              "      <td>1385</td>\n",
              "      <td>[ 2043.866    35416.574563  1432.56426  ...  5...</td>\n",
              "    </tr>\n",
              "    <tr>\n",
              "      <th>farming_company</th>\n",
              "      <td>int64</td>\n",
              "      <td>0</td>\n",
              "      <td>16</td>\n",
              "      <td>[ 0.  1. 14. 11.  8. 13.  2.  6.  3.  4.  9.  ...</td>\n",
              "    </tr>\n",
              "    <tr>\n",
              "      <th>deidentified_location</th>\n",
              "      <td>int64</td>\n",
              "      <td>0</td>\n",
              "      <td>16</td>\n",
              "      <td>[ 4.  1.  6.  8. 15. 12.  5. 13.  3. 10.  7.  ...</td>\n",
              "    </tr>\n",
              "    <tr>\n",
              "      <th>temp_obs</th>\n",
              "      <td>float64</td>\n",
              "      <td>0</td>\n",
              "      <td>1012</td>\n",
              "      <td>[ 10.    -8.3   15.6  ... -11.45 -10.95  -5.85]</td>\n",
              "    </tr>\n",
              "    <tr>\n",
              "      <th>cloudiness</th>\n",
              "      <td>float64</td>\n",
              "      <td>0</td>\n",
              "      <td>3909</td>\n",
              "      <td>[8.         6.         0.         ... 8.259259...</td>\n",
              "    </tr>\n",
              "    <tr>\n",
              "      <th>wind_direction</th>\n",
              "      <td>float64</td>\n",
              "      <td>0</td>\n",
              "      <td>686</td>\n",
              "      <td>[350.         250.         270.           0.  ...</td>\n",
              "    </tr>\n",
              "    <tr>\n",
              "      <th>dew_temp</th>\n",
              "      <td>float64</td>\n",
              "      <td>0</td>\n",
              "      <td>919</td>\n",
              "      <td>[  2.2        -12.2         -5.6         20.  ...</td>\n",
              "    </tr>\n",
              "    <tr>\n",
              "      <th>pressure_sea_level</th>\n",
              "      <td>float64</td>\n",
              "      <td>0</td>\n",
              "      <td>1651</td>\n",
              "      <td>[1021.1  1023.3  1015.3  ... 1043.9  1043.4  1...</td>\n",
              "    </tr>\n",
              "    <tr>\n",
              "      <th>precipitation</th>\n",
              "      <td>float64</td>\n",
              "      <td>0</td>\n",
              "      <td>8868</td>\n",
              "      <td>[ 0.         -1.          2.59187158 ...  2.90...</td>\n",
              "    </tr>\n",
              "    <tr>\n",
              "      <th>wind_speed</th>\n",
              "      <td>float64</td>\n",
              "      <td>0</td>\n",
              "      <td>343</td>\n",
              "      <td>[ 4.1         3.6         0.          3.1     ...</td>\n",
              "    </tr>\n",
              "    <tr>\n",
              "      <th>yeild_nan_count</th>\n",
              "      <td>int64</td>\n",
              "      <td>0</td>\n",
              "      <td>292</td>\n",
              "      <td>[3.460e+02 0.000e+00 4.000e+00 3.000e+00 1.000...</td>\n",
              "    </tr>\n",
              "    <tr>\n",
              "      <th>farm_id_ingredient_type_traget_encoding</th>\n",
              "      <td>float64</td>\n",
              "      <td>0</td>\n",
              "      <td>2363</td>\n",
              "      <td>[4.72293390e+05 4.77391608e+06 3.37799769e+06 ...</td>\n",
              "    </tr>\n",
              "    <tr>\n",
              "      <th>farming_company_weights</th>\n",
              "      <td>float64</td>\n",
              "      <td>0</td>\n",
              "      <td>52</td>\n",
              "      <td>[1.29404611e+08 7.03472075e+07 1.33072496e+08 ...</td>\n",
              "    </tr>\n",
              "    <tr>\n",
              "      <th>deidentified_location_weights</th>\n",
              "      <td>float64</td>\n",
              "      <td>0</td>\n",
              "      <td>41</td>\n",
              "      <td>[2.54540966e+12 2.22820956e+12 9.90991434e+11 ...</td>\n",
              "    </tr>\n",
              "    <tr>\n",
              "      <th>globaltime_yield_ingredient_weights</th>\n",
              "      <td>float64</td>\n",
              "      <td>0</td>\n",
              "      <td>35136</td>\n",
              "      <td>[135023.2208  40713.7369  42975.7381 ...  7254...</td>\n",
              "    </tr>\n",
              "    <tr>\n",
              "      <th>globaltime_month12_ingredient_weights</th>\n",
              "      <td>float64</td>\n",
              "      <td>0</td>\n",
              "      <td>48</td>\n",
              "      <td>[1.39121178e+08 4.31622093e+07 3.69698859e+07 ...</td>\n",
              "    </tr>\n",
              "    <tr>\n",
              "      <th>globaltime_day31_ingredient_weights</th>\n",
              "      <td>float64</td>\n",
              "      <td>0</td>\n",
              "      <td>124</td>\n",
              "      <td>[60270664.2495     39403420.91209996  8088440....</td>\n",
              "    </tr>\n",
              "    <tr>\n",
              "      <th>globaltime_hour24_ingredient_weights</th>\n",
              "      <td>float64</td>\n",
              "      <td>0</td>\n",
              "      <td>96</td>\n",
              "      <td>[69555499.65689999 45956256.24320001 10704955....</td>\n",
              "    </tr>\n",
              "    <tr>\n",
              "      <th>globaltime_weekday7_ingredient_weights</th>\n",
              "      <td>float64</td>\n",
              "      <td>0</td>\n",
              "      <td>28</td>\n",
              "      <td>[2.71970109e+08 1.78358907e+08 3.73267891e+07 ...</td>\n",
              "    </tr>\n",
              "    <tr>\n",
              "      <th>globaltime_quarter4_ingredient_weights</th>\n",
              "      <td>float64</td>\n",
              "      <td>0</td>\n",
              "      <td>16</td>\n",
              "      <td>[3.94261177e+08 1.77569310e+08 9.56445137e+07 ...</td>\n",
              "    </tr>\n",
              "    <tr>\n",
              "      <th>globaltime_weekofyear53_ingredient_weights</th>\n",
              "      <td>float64</td>\n",
              "      <td>0</td>\n",
              "      <td>212</td>\n",
              "      <td>[11826676.0643      3754669.7216      3170169....</td>\n",
              "    </tr>\n",
              "  </tbody>\n",
              "</table>\n",
              "</div>"
            ],
            "text/plain": [
              "                                           Data type  ...                                             Levels\n",
              "ingredient_type                                int64  ...                                      [0. 1. 3. 2.]\n",
              "yield                                        float64  ...  [ 37.04   291.8     25.3232 ...  48.3261 578.7...\n",
              "farm_area                                    float64  ...  [ 2043.866    35416.574563  1432.56426  ...  5...\n",
              "farming_company                                int64  ...  [ 0.  1. 14. 11.  8. 13.  2.  6.  3.  4.  9.  ...\n",
              "deidentified_location                          int64  ...  [ 4.  1.  6.  8. 15. 12.  5. 13.  3. 10.  7.  ...\n",
              "temp_obs                                     float64  ...    [ 10.    -8.3   15.6  ... -11.45 -10.95  -5.85]\n",
              "cloudiness                                   float64  ...  [8.         6.         0.         ... 8.259259...\n",
              "wind_direction                               float64  ...  [350.         250.         270.           0.  ...\n",
              "dew_temp                                     float64  ...  [  2.2        -12.2         -5.6         20.  ...\n",
              "pressure_sea_level                           float64  ...  [1021.1  1023.3  1015.3  ... 1043.9  1043.4  1...\n",
              "precipitation                                float64  ...  [ 0.         -1.          2.59187158 ...  2.90...\n",
              "wind_speed                                   float64  ...  [ 4.1         3.6         0.          3.1     ...\n",
              "yeild_nan_count                                int64  ...  [3.460e+02 0.000e+00 4.000e+00 3.000e+00 1.000...\n",
              "farm_id_ingredient_type_traget_encoding      float64  ...  [4.72293390e+05 4.77391608e+06 3.37799769e+06 ...\n",
              "farming_company_weights                      float64  ...  [1.29404611e+08 7.03472075e+07 1.33072496e+08 ...\n",
              "deidentified_location_weights                float64  ...  [2.54540966e+12 2.22820956e+12 9.90991434e+11 ...\n",
              "globaltime_yield_ingredient_weights          float64  ...  [135023.2208  40713.7369  42975.7381 ...  7254...\n",
              "globaltime_month12_ingredient_weights        float64  ...  [1.39121178e+08 4.31622093e+07 3.69698859e+07 ...\n",
              "globaltime_day31_ingredient_weights          float64  ...  [60270664.2495     39403420.91209996  8088440....\n",
              "globaltime_hour24_ingredient_weights         float64  ...  [69555499.65689999 45956256.24320001 10704955....\n",
              "globaltime_weekday7_ingredient_weights       float64  ...  [2.71970109e+08 1.78358907e+08 3.73267891e+07 ...\n",
              "globaltime_quarter4_ingredient_weights       float64  ...  [3.94261177e+08 1.77569310e+08 9.56445137e+07 ...\n",
              "globaltime_weekofyear53_ingredient_weights   float64  ...  [11826676.0643      3754669.7216      3170169....\n",
              "\n",
              "[23 rows x 4 columns]"
            ]
          },
          "metadata": {
            "tags": []
          },
          "execution_count": 82
        }
      ]
    },
    {
      "cell_type": "code",
      "metadata": {
        "id": "mlqJPxUbMLVb",
        "colab_type": "code",
        "colab": {
          "base_uri": "https://localhost:8080/",
          "height": 238
        },
        "outputId": "a8bc3c75-d861-42a2-ae94-cdb6e7a7838e"
      },
      "source": [
        ""
      ],
      "execution_count": 123,
      "outputs": [
        {
          "output_type": "execute_result",
          "data": {
            "text/plain": [
              "Index(['timestamp', 'farm_id', 'ingredient_type', 'yield', 'farm_area',\n",
              "       'farming_company', 'deidentified_location', 'temp_obs', 'cloudiness',\n",
              "       'wind_direction', 'dew_temp', 'pressure_sea_level', 'precipitation',\n",
              "       'wind_speed', 'yeild_nan_count',\n",
              "       'farm_id_ingredient_type_traget_encoding', 'farming_company_weights',\n",
              "       'deidentified_location_weights', 'globaltime_yield_ingredient_weights',\n",
              "       'globaltime_month12_ingredient_weights',\n",
              "       'globaltime_day31_ingredient_weights',\n",
              "       'globaltime_hour24_ingredient_weights',\n",
              "       'globaltime_weekday7_ingredient_weights',\n",
              "       'globaltime_quarter4_ingredient_weights',\n",
              "       'globaltime_weekofyear53_ingredient_weights'],\n",
              "      dtype='object')"
            ]
          },
          "metadata": {
            "tags": []
          },
          "execution_count": 123
        }
      ]
    },
    {
      "cell_type": "code",
      "metadata": {
        "id": "Mhxl1_0CnApC",
        "colab_type": "code",
        "colab": {
          "base_uri": "https://localhost:8080/",
          "height": 102
        },
        "outputId": "cc990a2f-f1b0-406a-e037-45b33903a295"
      },
      "source": [
        "import time\n",
        "start = time.time()\n",
        "from joblib import dump,load\n",
        "Training_data=load('/content/drive/My Drive/Phd/train_data_without_standarderization.joblib')\n",
        "\n",
        "from sklearn import model_selection\n",
        "\n",
        "X_train,X_test,Y_train,Y_test=model_selection.train_test_split(Training_data.copy().drop(['timestamp','yield','farm_id'],axis=1),Training_data['yield'],test_size=0.3,random_state=4)\n",
        "\n",
        "\n",
        "from sklearn.tree import DecisionTreeRegressor\n",
        "params={'max_depth': 5, 'min_samples_leaf': 100, 'min_samples_split': 4}\n",
        "regressor = DecisionTreeRegressor(**params)\n",
        "#regressor = DecisionTreeRegressor()\n",
        "decision_tree_model=regressor.fit(X_train, Y_train)\n",
        "\n",
        "Y_pred_train = decision_tree_model.predict(X_train)\n",
        "Y_pred_test=decision_tree_model.predict(X_test)\n",
        "from sklearn.metrics import mean_squared_error\n",
        "mse_train=mean_squared_error(Y_train,Y_pred_train)\n",
        "mse_test=mean_squared_error(Y_test,Y_pred_test)\n",
        "\n",
        "import numpy as np \n",
        "rmse_test=np.sqrt(mse_test)\n",
        "rmse_train=np.sqrt(mse_train)\n",
        "print(\"Train RMSE\")\n",
        "print(np.sqrt(mse_train))\n",
        "print(\"Test RMSE\")\n",
        "print(np.sqrt(mse_test))\n",
        "\n",
        "done = time.time()\n",
        "elapsed = done - start\n",
        "print(elapsed)\n",
        "\n",
        "\n"
      ],
      "execution_count": 124,
      "outputs": [
        {
          "output_type": "stream",
          "text": [
            "Train RMSE\n",
            "223.42144666955642\n",
            "Test RMSE\n",
            "223.75851760459727\n",
            "137.2316653728485\n"
          ],
          "name": "stdout"
        }
      ]
    },
    {
      "cell_type": "code",
      "metadata": {
        "id": "0n0FxtZ9nyKz",
        "colab_type": "code",
        "colab": {}
      },
      "source": [
        "farm_data_master=pd.read_csv('/content/drive/My Drive/Phd/new_farm_data.csv')\n",
        "train_data_master=load('/content/drive/My Drive/Phd/new_test_data.joblib')\n",
        "train_weather_master=pd.read_csv('/content/drive/My Drive/Phd/test_weather.csv')"
      ],
      "execution_count": 0,
      "outputs": []
    },
    {
      "cell_type": "code",
      "metadata": {
        "id": "-foQFB7o2h_6",
        "colab_type": "code",
        "colab": {
          "base_uri": "https://localhost:8080/",
          "height": 419
        },
        "outputId": "959efdcb-7887-4394-e1fe-55ec07a7848e"
      },
      "source": [
        ""
      ],
      "execution_count": 98,
      "outputs": [
        {
          "output_type": "execute_result",
          "data": {
            "text/html": [
              "<div>\n",
              "<style scoped>\n",
              "    .dataframe tbody tr th:only-of-type {\n",
              "        vertical-align: middle;\n",
              "    }\n",
              "\n",
              "    .dataframe tbody tr th {\n",
              "        vertical-align: top;\n",
              "    }\n",
              "\n",
              "    .dataframe thead th {\n",
              "        text-align: right;\n",
              "    }\n",
              "</style>\n",
              "<table border=\"1\" class=\"dataframe\">\n",
              "  <thead>\n",
              "    <tr style=\"text-align: right;\">\n",
              "      <th></th>\n",
              "      <th>timestamp</th>\n",
              "      <th>deidentified_location</th>\n",
              "      <th>temp_obs</th>\n",
              "      <th>cloudiness</th>\n",
              "      <th>wind_direction</th>\n",
              "      <th>dew_temp</th>\n",
              "      <th>pressure_sea_level</th>\n",
              "      <th>precipitation</th>\n",
              "      <th>wind_speed</th>\n",
              "    </tr>\n",
              "  </thead>\n",
              "  <tbody>\n",
              "    <tr>\n",
              "      <th>0</th>\n",
              "      <td>2017-01-01 00:00:00</td>\n",
              "      <td>location 1784</td>\n",
              "      <td>-6.1</td>\n",
              "      <td>9.0</td>\n",
              "      <td>200.0</td>\n",
              "      <td>-7.8</td>\n",
              "      <td>1017.1</td>\n",
              "      <td>0.000000</td>\n",
              "      <td>1.5</td>\n",
              "    </tr>\n",
              "    <tr>\n",
              "      <th>1</th>\n",
              "      <td>2017-01-01 01:00:00</td>\n",
              "      <td>location 1784</td>\n",
              "      <td>-6.1</td>\n",
              "      <td>9.0</td>\n",
              "      <td>200.0</td>\n",
              "      <td>-7.8</td>\n",
              "      <td>1017.1</td>\n",
              "      <td>0.000000</td>\n",
              "      <td>1.5</td>\n",
              "    </tr>\n",
              "    <tr>\n",
              "      <th>2</th>\n",
              "      <td>2017-01-01 02:00:00</td>\n",
              "      <td>location 1784</td>\n",
              "      <td>-6.7</td>\n",
              "      <td>9.0</td>\n",
              "      <td>0.0</td>\n",
              "      <td>-7.2</td>\n",
              "      <td>1017.1</td>\n",
              "      <td>0.000000</td>\n",
              "      <td>0.0</td>\n",
              "    </tr>\n",
              "    <tr>\n",
              "      <th>3</th>\n",
              "      <td>2017-01-01 03:00:00</td>\n",
              "      <td>location 1784</td>\n",
              "      <td>-6.7</td>\n",
              "      <td>9.0</td>\n",
              "      <td>0.0</td>\n",
              "      <td>-7.8</td>\n",
              "      <td>1016.7</td>\n",
              "      <td>0.000000</td>\n",
              "      <td>0.0</td>\n",
              "    </tr>\n",
              "    <tr>\n",
              "      <th>4</th>\n",
              "      <td>2017-01-01 04:00:00</td>\n",
              "      <td>location 1784</td>\n",
              "      <td>-6.1</td>\n",
              "      <td>9.0</td>\n",
              "      <td>0.0</td>\n",
              "      <td>-7.8</td>\n",
              "      <td>1016.6</td>\n",
              "      <td>0.000000</td>\n",
              "      <td>0.0</td>\n",
              "    </tr>\n",
              "    <tr>\n",
              "      <th>...</th>\n",
              "      <td>...</td>\n",
              "      <td>...</td>\n",
              "      <td>...</td>\n",
              "      <td>...</td>\n",
              "      <td>...</td>\n",
              "      <td>...</td>\n",
              "      <td>...</td>\n",
              "      <td>...</td>\n",
              "      <td>...</td>\n",
              "    </tr>\n",
              "    <tr>\n",
              "      <th>140155</th>\n",
              "      <td>2017-12-31 19:00:00</td>\n",
              "      <td>location 959</td>\n",
              "      <td>8.5</td>\n",
              "      <td>0.0</td>\n",
              "      <td>210.0</td>\n",
              "      <td>4.8</td>\n",
              "      <td>992.3</td>\n",
              "      <td>2.632517</td>\n",
              "      <td>8.2</td>\n",
              "    </tr>\n",
              "    <tr>\n",
              "      <th>140156</th>\n",
              "      <td>2017-12-31 20:00:00</td>\n",
              "      <td>location 959</td>\n",
              "      <td>8.5</td>\n",
              "      <td>0.0</td>\n",
              "      <td>210.0</td>\n",
              "      <td>4.5</td>\n",
              "      <td>992.1</td>\n",
              "      <td>2.632517</td>\n",
              "      <td>7.2</td>\n",
              "    </tr>\n",
              "    <tr>\n",
              "      <th>140157</th>\n",
              "      <td>2017-12-31 21:00:00</td>\n",
              "      <td>location 959</td>\n",
              "      <td>8.2</td>\n",
              "      <td>0.0</td>\n",
              "      <td>230.0</td>\n",
              "      <td>4.0</td>\n",
              "      <td>992.1</td>\n",
              "      <td>2.632517</td>\n",
              "      <td>10.3</td>\n",
              "    </tr>\n",
              "    <tr>\n",
              "      <th>140158</th>\n",
              "      <td>2017-12-31 22:00:00</td>\n",
              "      <td>location 959</td>\n",
              "      <td>7.5</td>\n",
              "      <td>0.0</td>\n",
              "      <td>260.0</td>\n",
              "      <td>4.3</td>\n",
              "      <td>993.7</td>\n",
              "      <td>2.632517</td>\n",
              "      <td>12.9</td>\n",
              "    </tr>\n",
              "    <tr>\n",
              "      <th>140159</th>\n",
              "      <td>2017-12-31 23:00:00</td>\n",
              "      <td>location 959</td>\n",
              "      <td>7.2</td>\n",
              "      <td>0.0</td>\n",
              "      <td>260.0</td>\n",
              "      <td>3.7</td>\n",
              "      <td>995.7</td>\n",
              "      <td>2.632517</td>\n",
              "      <td>10.3</td>\n",
              "    </tr>\n",
              "  </tbody>\n",
              "</table>\n",
              "<p>140160 rows × 9 columns</p>\n",
              "</div>"
            ],
            "text/plain": [
              "                  timestamp deidentified_location  ...  precipitation  wind_speed\n",
              "0       2017-01-01 00:00:00         location 1784  ...       0.000000         1.5\n",
              "1       2017-01-01 01:00:00         location 1784  ...       0.000000         1.5\n",
              "2       2017-01-01 02:00:00         location 1784  ...       0.000000         0.0\n",
              "3       2017-01-01 03:00:00         location 1784  ...       0.000000         0.0\n",
              "4       2017-01-01 04:00:00         location 1784  ...       0.000000         0.0\n",
              "...                     ...                   ...  ...            ...         ...\n",
              "140155  2017-12-31 19:00:00          location 959  ...       2.632517         8.2\n",
              "140156  2017-12-31 20:00:00          location 959  ...       2.632517         7.2\n",
              "140157  2017-12-31 21:00:00          location 959  ...       2.632517        10.3\n",
              "140158  2017-12-31 22:00:00          location 959  ...       2.632517        12.9\n",
              "140159  2017-12-31 23:00:00          location 959  ...       2.632517        10.3\n",
              "\n",
              "[140160 rows x 9 columns]"
            ]
          },
          "metadata": {
            "tags": []
          },
          "execution_count": 98
        }
      ]
    },
    {
      "cell_type": "code",
      "metadata": {
        "id": "KU0tYkYw2i-l",
        "colab_type": "code",
        "colab": {}
      },
      "source": [
        "farm_data_master=pd.read_csv('/content/drive/My Drive/Phd/new_farm_data.csv')\n",
        "test_data_master=load('/content/drive/My Drive/Phd/new_test_data.joblib')\n",
        "test_weather_master=load('/content/drive/My Drive/Phd/weather_data_Testfull.joblib')"
      ],
      "execution_count": 0,
      "outputs": []
    },
    {
      "cell_type": "code",
      "metadata": {
        "id": "YMN6gOrc3tAP",
        "colab_type": "code",
        "colab": {}
      },
      "source": [
        "test_weather_master.timestamp=test_weather_master.timestamp.astype('datetime64[ns]')\n",
        "test_data_master.rename(columns={'date':'timestamp'},inplace=True)\n",
        "test_data_master.timestamp=test_data_master.timestamp.astype('datetime64[ns]')"
      ],
      "execution_count": 0,
      "outputs": []
    },
    {
      "cell_type": "code",
      "metadata": {
        "id": "Us4Ex9iv4c6d",
        "colab_type": "code",
        "colab": {
          "base_uri": "https://localhost:8080/",
          "height": 34
        },
        "outputId": "113c0baa-5393-4428-b85e-c966ac83a9a9"
      },
      "source": [
        "final_merge=pd.merge(pd.merge(test_data_master, farm_data_master, on=['farm_id'], how='left'), test_weather_master, on=['timestamp', 'deidentified_location'], how='left')\n",
        "dump(final_merge,'/content/drive/My Drive/Phd/test_data_raw.joblib')"
      ],
      "execution_count": 8,
      "outputs": [
        {
          "output_type": "execute_result",
          "data": {
            "text/plain": [
              "['/content/drive/My Drive/Phd/test_data_raw.joblib']"
            ]
          },
          "metadata": {
            "tags": []
          },
          "execution_count": 8
        }
      ]
    },
    {
      "cell_type": "code",
      "metadata": {
        "id": "uGJ5AMeo5vOi",
        "colab_type": "code",
        "colab": {
          "base_uri": "https://localhost:8080/",
          "height": 119
        },
        "outputId": "536196a6-4ece-4092-eed5-53292c0aebd6"
      },
      "source": [
        "final_merge.columns"
      ],
      "execution_count": 10,
      "outputs": [
        {
          "output_type": "execute_result",
          "data": {
            "text/plain": [
              "Index(['id', 'timestamp', 'farm_id', 'ingredient_type', 'Unnamed: 0',\n",
              "       'operations_commencing_year', 'num_processing_plants', 'farm_area',\n",
              "       'farming_company', 'deidentified_location', 'temp_obs', 'cloudiness',\n",
              "       'wind_direction', 'dew_temp', 'pressure_sea_level', 'precipitation',\n",
              "       'wind_speed'],\n",
              "      dtype='object')"
            ]
          },
          "metadata": {
            "tags": []
          },
          "execution_count": 10
        }
      ]
    },
    {
      "cell_type": "code",
      "metadata": {
        "id": "q_hRoyO15fzG",
        "colab_type": "code",
        "colab": {}
      },
      "source": [
        "final_merge.drop('Unnamed: 0',axis=1,inplace=True)"
      ],
      "execution_count": 0,
      "outputs": []
    },
    {
      "cell_type": "code",
      "metadata": {
        "id": "Dv-dnvjN5ne2",
        "colab_type": "code",
        "colab": {
          "base_uri": "https://localhost:8080/",
          "height": 34
        },
        "outputId": "e3cce4fc-37c5-4c4c-ce0a-82a1bfe4e255"
      },
      "source": [
        "dump(final_merge,'/content/drive/My Drive/Phd/test_data_raw.joblib')"
      ],
      "execution_count": 17,
      "outputs": [
        {
          "output_type": "execute_result",
          "data": {
            "text/plain": [
              "['/content/drive/My Drive/Phd/test_data_raw.joblib']"
            ]
          },
          "metadata": {
            "tags": []
          },
          "execution_count": 17
        }
      ]
    },
    {
      "cell_type": "code",
      "metadata": {
        "id": "56Qrj2gY59h1",
        "colab_type": "code",
        "colab": {}
      },
      "source": [
        "final_merge.drop(['operations_commencing_year','num_processing_plants'],axis=1,inplace=True)"
      ],
      "execution_count": 0,
      "outputs": []
    },
    {
      "cell_type": "code",
      "metadata": {
        "id": "lRJDegW-6ZUI",
        "colab_type": "code",
        "colab": {}
      },
      "source": [
        "final_merge.rename(columns={'timestamp':'timestamp2017'},inplace=True)"
      ],
      "execution_count": 0,
      "outputs": []
    },
    {
      "cell_type": "code",
      "metadata": {
        "id": "2XfPPrwQ7ydB",
        "colab_type": "code",
        "colab": {}
      },
      "source": [
        "global_time_series_full=load('/content/drive/My Drive/Phd/global_time_series_full.joblib')"
      ],
      "execution_count": 0,
      "outputs": []
    },
    {
      "cell_type": "code",
      "metadata": {
        "id": "wt7bo1Ur72US",
        "colab_type": "code",
        "colab": {}
      },
      "source": [
        "temp_timestamp_list_2017=[]\n",
        "for row_number in range(global_time_series_full.shape[0]):\n",
        "  temp_timestamp_list_2017.append(global_time_series_full['timestamp'].iloc[row_number][0:3]+\"7\"+global_time_series_full['timestamp'].iloc[row_number][4:])"
      ],
      "execution_count": 0,
      "outputs": []
    },
    {
      "cell_type": "code",
      "metadata": {
        "id": "clXauwAr9RD9",
        "colab_type": "code",
        "colab": {}
      },
      "source": [
        "global_time_series_full['timestamp2017']=pd.Series(temp_timestamp_list_2017)"
      ],
      "execution_count": 0,
      "outputs": []
    },
    {
      "cell_type": "code",
      "metadata": {
        "id": "R9hAIY559VsJ",
        "colab_type": "code",
        "colab": {
          "base_uri": "https://localhost:8080/",
          "height": 779
        },
        "outputId": "63d62b23-2e40-4a0d-f567-f59f82a34501"
      },
      "source": [
        "global_time_series_full"
      ],
      "execution_count": 24,
      "outputs": [
        {
          "output_type": "execute_result",
          "data": {
            "text/html": [
              "<div>\n",
              "<style scoped>\n",
              "    .dataframe tbody tr th:only-of-type {\n",
              "        vertical-align: middle;\n",
              "    }\n",
              "\n",
              "    .dataframe tbody tr th {\n",
              "        vertical-align: top;\n",
              "    }\n",
              "\n",
              "    .dataframe thead th {\n",
              "        text-align: right;\n",
              "    }\n",
              "</style>\n",
              "<table border=\"1\" class=\"dataframe\">\n",
              "  <thead>\n",
              "    <tr style=\"text-align: right;\">\n",
              "      <th></th>\n",
              "      <th>timestamp</th>\n",
              "      <th>ingredient_type</th>\n",
              "      <th>globaltime_yield_ingredient_weights</th>\n",
              "      <th>globaltime_month12_ingredient_weights</th>\n",
              "      <th>globaltime_day31_ingredient_weights</th>\n",
              "      <th>globaltime_hour24_ingredient_weights</th>\n",
              "      <th>globaltime_weekday7_ingredient_weights</th>\n",
              "      <th>globaltime_quarter4_ingredient_weights</th>\n",
              "      <th>globaltime_weekofyear53_ingredient_weights</th>\n",
              "      <th>timestamp2017</th>\n",
              "    </tr>\n",
              "  </thead>\n",
              "  <tbody>\n",
              "    <tr>\n",
              "      <th>0</th>\n",
              "      <td>2016-01-01 00:00:00</td>\n",
              "      <td>ing_w</td>\n",
              "      <td>135023.2208</td>\n",
              "      <td>1.391212e+08</td>\n",
              "      <td>6.027066e+07</td>\n",
              "      <td>6.955550e+07</td>\n",
              "      <td>2.719701e+08</td>\n",
              "      <td>3.942612e+08</td>\n",
              "      <td>1.182668e+07</td>\n",
              "      <td>2017-01-01 00:00:00</td>\n",
              "    </tr>\n",
              "    <tr>\n",
              "      <th>1</th>\n",
              "      <td>2016-01-01 01:00:00</td>\n",
              "      <td>ing_w</td>\n",
              "      <td>154823.1326</td>\n",
              "      <td>1.391212e+08</td>\n",
              "      <td>6.027066e+07</td>\n",
              "      <td>6.858095e+07</td>\n",
              "      <td>2.719701e+08</td>\n",
              "      <td>3.942612e+08</td>\n",
              "      <td>1.182668e+07</td>\n",
              "      <td>2017-01-01 01:00:00</td>\n",
              "    </tr>\n",
              "    <tr>\n",
              "      <th>2</th>\n",
              "      <td>2016-01-01 02:00:00</td>\n",
              "      <td>ing_w</td>\n",
              "      <td>154960.5384</td>\n",
              "      <td>1.391212e+08</td>\n",
              "      <td>6.027066e+07</td>\n",
              "      <td>6.773713e+07</td>\n",
              "      <td>2.719701e+08</td>\n",
              "      <td>3.942612e+08</td>\n",
              "      <td>1.182668e+07</td>\n",
              "      <td>2017-01-01 02:00:00</td>\n",
              "    </tr>\n",
              "    <tr>\n",
              "      <th>3</th>\n",
              "      <td>2016-01-01 03:00:00</td>\n",
              "      <td>ing_w</td>\n",
              "      <td>155335.7508</td>\n",
              "      <td>1.391212e+08</td>\n",
              "      <td>6.027066e+07</td>\n",
              "      <td>6.727785e+07</td>\n",
              "      <td>2.719701e+08</td>\n",
              "      <td>3.942612e+08</td>\n",
              "      <td>1.182668e+07</td>\n",
              "      <td>2017-01-01 03:00:00</td>\n",
              "    </tr>\n",
              "    <tr>\n",
              "      <th>4</th>\n",
              "      <td>2016-01-01 04:00:00</td>\n",
              "      <td>ing_w</td>\n",
              "      <td>155747.4570</td>\n",
              "      <td>1.391212e+08</td>\n",
              "      <td>6.027066e+07</td>\n",
              "      <td>6.716471e+07</td>\n",
              "      <td>2.719701e+08</td>\n",
              "      <td>3.942612e+08</td>\n",
              "      <td>1.182668e+07</td>\n",
              "      <td>2017-01-01 04:00:00</td>\n",
              "    </tr>\n",
              "    <tr>\n",
              "      <th>...</th>\n",
              "      <td>...</td>\n",
              "      <td>...</td>\n",
              "      <td>...</td>\n",
              "      <td>...</td>\n",
              "      <td>...</td>\n",
              "      <td>...</td>\n",
              "      <td>...</td>\n",
              "      <td>...</td>\n",
              "      <td>...</td>\n",
              "      <td>...</td>\n",
              "    </tr>\n",
              "    <tr>\n",
              "      <th>35131</th>\n",
              "      <td>2016-12-31 19:00:00</td>\n",
              "      <td>ing_z</td>\n",
              "      <td>38584.3909</td>\n",
              "      <td>2.993657e+07</td>\n",
              "      <td>4.813706e+06</td>\n",
              "      <td>1.018745e+07</td>\n",
              "      <td>3.737245e+07</td>\n",
              "      <td>6.996550e+07</td>\n",
              "      <td>5.635746e+06</td>\n",
              "      <td>2017-12-31 19:00:00</td>\n",
              "    </tr>\n",
              "    <tr>\n",
              "      <th>35132</th>\n",
              "      <td>2016-12-31 20:00:00</td>\n",
              "      <td>ing_z</td>\n",
              "      <td>33645.3734</td>\n",
              "      <td>2.993657e+07</td>\n",
              "      <td>4.813706e+06</td>\n",
              "      <td>1.012459e+07</td>\n",
              "      <td>3.737245e+07</td>\n",
              "      <td>6.996550e+07</td>\n",
              "      <td>5.635746e+06</td>\n",
              "      <td>2017-12-31 20:00:00</td>\n",
              "    </tr>\n",
              "    <tr>\n",
              "      <th>35133</th>\n",
              "      <td>2016-12-31 21:00:00</td>\n",
              "      <td>ing_z</td>\n",
              "      <td>40044.3898</td>\n",
              "      <td>2.993657e+07</td>\n",
              "      <td>4.813706e+06</td>\n",
              "      <td>1.016599e+07</td>\n",
              "      <td>3.737245e+07</td>\n",
              "      <td>6.996550e+07</td>\n",
              "      <td>5.635746e+06</td>\n",
              "      <td>2017-12-31 21:00:00</td>\n",
              "    </tr>\n",
              "    <tr>\n",
              "      <th>35134</th>\n",
              "      <td>2016-12-31 22:00:00</td>\n",
              "      <td>ing_z</td>\n",
              "      <td>39119.0558</td>\n",
              "      <td>2.993657e+07</td>\n",
              "      <td>4.813706e+06</td>\n",
              "      <td>1.030854e+07</td>\n",
              "      <td>3.737245e+07</td>\n",
              "      <td>6.996550e+07</td>\n",
              "      <td>5.635746e+06</td>\n",
              "      <td>2017-12-31 22:00:00</td>\n",
              "    </tr>\n",
              "    <tr>\n",
              "      <th>35135</th>\n",
              "      <td>2016-12-31 23:00:00</td>\n",
              "      <td>ing_z</td>\n",
              "      <td>40820.8149</td>\n",
              "      <td>2.993657e+07</td>\n",
              "      <td>4.813706e+06</td>\n",
              "      <td>1.042860e+07</td>\n",
              "      <td>3.737245e+07</td>\n",
              "      <td>6.996550e+07</td>\n",
              "      <td>5.635746e+06</td>\n",
              "      <td>2017-12-31 23:00:00</td>\n",
              "    </tr>\n",
              "  </tbody>\n",
              "</table>\n",
              "<p>35136 rows × 10 columns</p>\n",
              "</div>"
            ],
            "text/plain": [
              "                 timestamp  ...        timestamp2017\n",
              "0      2016-01-01 00:00:00  ...  2017-01-01 00:00:00\n",
              "1      2016-01-01 01:00:00  ...  2017-01-01 01:00:00\n",
              "2      2016-01-01 02:00:00  ...  2017-01-01 02:00:00\n",
              "3      2016-01-01 03:00:00  ...  2017-01-01 03:00:00\n",
              "4      2016-01-01 04:00:00  ...  2017-01-01 04:00:00\n",
              "...                    ...  ...                  ...\n",
              "35131  2016-12-31 19:00:00  ...  2017-12-31 19:00:00\n",
              "35132  2016-12-31 20:00:00  ...  2017-12-31 20:00:00\n",
              "35133  2016-12-31 21:00:00  ...  2017-12-31 21:00:00\n",
              "35134  2016-12-31 22:00:00  ...  2017-12-31 22:00:00\n",
              "35135  2016-12-31 23:00:00  ...  2017-12-31 23:00:00\n",
              "\n",
              "[35136 rows x 10 columns]"
            ]
          },
          "metadata": {
            "tags": []
          },
          "execution_count": 24
        }
      ]
    },
    {
      "cell_type": "code",
      "metadata": {
        "id": "cWSlLJTW-PNA",
        "colab_type": "code",
        "colab": {}
      },
      "source": [
        "farm_id_traget_encoding=load('/content/drive/My Drive/Phd/farm_id_target_encoding.joblib')\n",
        "farming_company_weights=load('/content/drive/My Drive/Phd/farming_company_weights.joblib')\n",
        "deidentified_location_weights=load('/content/drive/My Drive/Phd/deidentified_location_weights.joblib')"
      ],
      "execution_count": 0,
      "outputs": []
    },
    {
      "cell_type": "code",
      "metadata": {
        "id": "7K5vt7tL-hSc",
        "colab_type": "code",
        "colab": {
          "base_uri": "https://localhost:8080/",
          "height": 204
        },
        "outputId": "d8d71c08-c116-457b-e9c9-2c5e079cc1b7"
      },
      "source": [
        "global_time_series_full"
      ],
      "execution_count": 29,
      "outputs": [
        {
          "output_type": "execute_result",
          "data": {
            "text/plain": [
              "timestamp                                      object\n",
              "ingredient_type                                object\n",
              "globaltime_yield_ingredient_weights           float64\n",
              "globaltime_month12_ingredient_weights         float64\n",
              "globaltime_day31_ingredient_weights           float64\n",
              "globaltime_hour24_ingredient_weights          float64\n",
              "globaltime_weekday7_ingredient_weights        float64\n",
              "globaltime_quarter4_ingredient_weights        float64\n",
              "globaltime_weekofyear53_ingredient_weights    float64\n",
              "timestamp2017                                  object\n",
              "dtype: object"
            ]
          },
          "metadata": {
            "tags": []
          },
          "execution_count": 29
        }
      ]
    },
    {
      "cell_type": "code",
      "metadata": {
        "id": "MZ8c9pC7-7Cj",
        "colab_type": "code",
        "colab": {}
      },
      "source": [
        "global_time_series_full['timestamp2017']=global_time_series_full['timestamp2017'].astype('datetime64[ns]')"
      ],
      "execution_count": 0,
      "outputs": []
    },
    {
      "cell_type": "code",
      "metadata": {
        "id": "3DIRVc-_--tW",
        "colab_type": "code",
        "colab": {}
      },
      "source": [
        "final_merge['timestamp2017']=final_merge['timestamp2017'].astype('datetime64[ns]')"
      ],
      "execution_count": 0,
      "outputs": []
    },
    {
      "cell_type": "code",
      "metadata": {
        "id": "VkCYx_hB_hkj",
        "colab_type": "code",
        "colab": {}
      },
      "source": [
        "final_merge=pd.merge(final_merge,global_time_series_full,on=['timestamp2017','ingredient_type'])"
      ],
      "execution_count": 0,
      "outputs": []
    },
    {
      "cell_type": "code",
      "metadata": {
        "id": "7M-99YfrBOur",
        "colab_type": "code",
        "colab": {
          "base_uri": "https://localhost:8080/",
          "height": 204
        },
        "outputId": "777f0ca9-1ecb-461f-d478-25e87bac4d03"
      },
      "source": [
        ""
      ],
      "execution_count": 104,
      "outputs": [
        {
          "output_type": "execute_result",
          "data": {
            "text/plain": [
              "Index(['id', 'timestamp2017', 'farm_id', 'ingredient_type', 'farm_area',\n",
              "       'farming_company', 'deidentified_location', 'temp_obs', 'cloudiness',\n",
              "       'wind_direction', 'dew_temp', 'pressure_sea_level', 'precipitation',\n",
              "       'wind_speed', 'timestamp', 'globaltime_yield_ingredient_weights',\n",
              "       'globaltime_month12_ingredient_weights',\n",
              "       'globaltime_day31_ingredient_weights',\n",
              "       'globaltime_hour24_ingredient_weights',\n",
              "       'globaltime_weekday7_ingredient_weights',\n",
              "       'globaltime_quarter4_ingredient_weights',\n",
              "       'globaltime_weekofyear53_ingredient_weights'],\n",
              "      dtype='object')"
            ]
          },
          "metadata": {
            "tags": []
          },
          "execution_count": 104
        }
      ]
    },
    {
      "cell_type": "code",
      "metadata": {
        "id": "wSiAG5WlFUti",
        "colab_type": "code",
        "colab": {}
      },
      "source": [
        "final_merge=pd.merge(final_merge,farm_id_traget_encoding,on=['farm_id','ingredient_type'],how='left')"
      ],
      "execution_count": 0,
      "outputs": []
    },
    {
      "cell_type": "code",
      "metadata": {
        "id": "Z_zvuh4UGAqH",
        "colab_type": "code",
        "colab": {
          "base_uri": "https://localhost:8080/",
          "height": 221
        },
        "outputId": "ccd6e0d9-9343-45b2-f21c-2b359e522746"
      },
      "source": [
        "final_merge.columns"
      ],
      "execution_count": 106,
      "outputs": [
        {
          "output_type": "execute_result",
          "data": {
            "text/plain": [
              "Index(['id', 'timestamp2017', 'farm_id', 'ingredient_type', 'farm_area',\n",
              "       'farming_company', 'deidentified_location', 'temp_obs', 'cloudiness',\n",
              "       'wind_direction', 'dew_temp', 'pressure_sea_level', 'precipitation',\n",
              "       'wind_speed', 'timestamp', 'globaltime_yield_ingredient_weights',\n",
              "       'globaltime_month12_ingredient_weights',\n",
              "       'globaltime_day31_ingredient_weights',\n",
              "       'globaltime_hour24_ingredient_weights',\n",
              "       'globaltime_weekday7_ingredient_weights',\n",
              "       'globaltime_quarter4_ingredient_weights',\n",
              "       'globaltime_weekofyear53_ingredient_weights', 'yeild_nan_count',\n",
              "       'farm_id_ingredient_type_traget_encoding'],\n",
              "      dtype='object')"
            ]
          },
          "metadata": {
            "tags": []
          },
          "execution_count": 106
        }
      ]
    },
    {
      "cell_type": "code",
      "metadata": {
        "id": "rGcxvRpQGCki",
        "colab_type": "code",
        "colab": {}
      },
      "source": [
        "final_merge=pd.merge(final_merge,farming_company_weights,on=['farming_company','ingredient_type'],how='left')"
      ],
      "execution_count": 0,
      "outputs": []
    },
    {
      "cell_type": "code",
      "metadata": {
        "id": "AZUe7YD2GvoH",
        "colab_type": "code",
        "colab": {}
      },
      "source": [
        "final_merge=pd.merge(final_merge,deidentified_location_weights,on=['deidentified_location','ingredient_type'],how='left')"
      ],
      "execution_count": 0,
      "outputs": []
    },
    {
      "cell_type": "code",
      "metadata": {
        "id": "jhpDw8jZG1J4",
        "colab_type": "code",
        "colab": {
          "base_uri": "https://localhost:8080/",
          "height": 238
        },
        "outputId": "6812a1c1-b4da-4d17-a4d5-9c47f5e39cfa"
      },
      "source": [
        "final_merge.columns"
      ],
      "execution_count": 111,
      "outputs": [
        {
          "output_type": "execute_result",
          "data": {
            "text/plain": [
              "Index(['id', 'timestamp2017', 'farm_id', 'ingredient_type', 'farm_area',\n",
              "       'farming_company', 'deidentified_location', 'temp_obs', 'cloudiness',\n",
              "       'wind_direction', 'dew_temp', 'pressure_sea_level', 'precipitation',\n",
              "       'wind_speed', 'timestamp', 'globaltime_yield_ingredient_weights',\n",
              "       'globaltime_month12_ingredient_weights',\n",
              "       'globaltime_day31_ingredient_weights',\n",
              "       'globaltime_hour24_ingredient_weights',\n",
              "       'globaltime_weekday7_ingredient_weights',\n",
              "       'globaltime_quarter4_ingredient_weights',\n",
              "       'globaltime_weekofyear53_ingredient_weights', 'yeild_nan_count',\n",
              "       'farm_id_ingredient_type_traget_encoding', 'farming_company_weights',\n",
              "       'deidentified_location_weights'],\n",
              "      dtype='object')"
            ]
          },
          "metadata": {
            "tags": []
          },
          "execution_count": 111
        }
      ]
    },
    {
      "cell_type": "code",
      "metadata": {
        "id": "-S52sfZkG3Tz",
        "colab_type": "code",
        "colab": {}
      },
      "source": [
        "final_merge.drop(['timestamp','timestamp2017'],inplace=True,axis=1)"
      ],
      "execution_count": 0,
      "outputs": []
    },
    {
      "cell_type": "code",
      "metadata": {
        "id": "Eq81rtXuHj0D",
        "colab_type": "code",
        "colab": {}
      },
      "source": [
        "final_merge.drop(['farm_id'],inplace=True,axis=1)"
      ],
      "execution_count": 0,
      "outputs": []
    },
    {
      "cell_type": "code",
      "metadata": {
        "id": "cPEBW3W8INrp",
        "colab_type": "code",
        "colab": {
          "base_uri": "https://localhost:8080/",
          "height": 34
        },
        "outputId": "59f7e992-f81d-481a-afa5-2a299b3160c9"
      },
      "source": [
        "dump(final_merge,'/content/drive/My Drive/Phd/test_data_final_model.joblib')"
      ],
      "execution_count": 116,
      "outputs": [
        {
          "output_type": "execute_result",
          "data": {
            "text/plain": [
              "['/content/drive/My Drive/Phd/test_data_final_model.joblib']"
            ]
          },
          "metadata": {
            "tags": []
          },
          "execution_count": 116
        }
      ]
    },
    {
      "cell_type": "code",
      "metadata": {
        "id": "OrJ7Sjr1Ilbk",
        "colab_type": "code",
        "colab": {
          "base_uri": "https://localhost:8080/",
          "height": 490
        },
        "outputId": "28b95e7c-e9a4-4ee8-8941-51cae1782645"
      },
      "source": [
        "final_merge"
      ],
      "execution_count": 117,
      "outputs": [
        {
          "output_type": "execute_result",
          "data": {
            "text/html": [
              "<div>\n",
              "<style scoped>\n",
              "    .dataframe tbody tr th:only-of-type {\n",
              "        vertical-align: middle;\n",
              "    }\n",
              "\n",
              "    .dataframe tbody tr th {\n",
              "        vertical-align: top;\n",
              "    }\n",
              "\n",
              "    .dataframe thead th {\n",
              "        text-align: right;\n",
              "    }\n",
              "</style>\n",
              "<table border=\"1\" class=\"dataframe\">\n",
              "  <thead>\n",
              "    <tr style=\"text-align: right;\">\n",
              "      <th></th>\n",
              "      <th>id</th>\n",
              "      <th>ingredient_type</th>\n",
              "      <th>farm_area</th>\n",
              "      <th>farming_company</th>\n",
              "      <th>deidentified_location</th>\n",
              "      <th>temp_obs</th>\n",
              "      <th>cloudiness</th>\n",
              "      <th>wind_direction</th>\n",
              "      <th>dew_temp</th>\n",
              "      <th>pressure_sea_level</th>\n",
              "      <th>precipitation</th>\n",
              "      <th>wind_speed</th>\n",
              "      <th>globaltime_yield_ingredient_weights</th>\n",
              "      <th>globaltime_month12_ingredient_weights</th>\n",
              "      <th>globaltime_day31_ingredient_weights</th>\n",
              "      <th>globaltime_hour24_ingredient_weights</th>\n",
              "      <th>globaltime_weekday7_ingredient_weights</th>\n",
              "      <th>globaltime_quarter4_ingredient_weights</th>\n",
              "      <th>globaltime_weekofyear53_ingredient_weights</th>\n",
              "      <th>yeild_nan_count</th>\n",
              "      <th>farm_id_ingredient_type_traget_encoding</th>\n",
              "      <th>farming_company_weights</th>\n",
              "      <th>deidentified_location_weights</th>\n",
              "    </tr>\n",
              "  </thead>\n",
              "  <tbody>\n",
              "    <tr>\n",
              "      <th>0</th>\n",
              "      <td>1</td>\n",
              "      <td>ing_w</td>\n",
              "      <td>252.696160</td>\n",
              "      <td>Obery Farms</td>\n",
              "      <td>location 7369</td>\n",
              "      <td>17.8</td>\n",
              "      <td>4.000000</td>\n",
              "      <td>100.0</td>\n",
              "      <td>11.7</td>\n",
              "      <td>1021.4</td>\n",
              "      <td>0.0</td>\n",
              "      <td>3.6</td>\n",
              "      <td>135023.2208</td>\n",
              "      <td>1.391212e+08</td>\n",
              "      <td>6.027066e+07</td>\n",
              "      <td>6.955550e+07</td>\n",
              "      <td>2.719701e+08</td>\n",
              "      <td>3.942612e+08</td>\n",
              "      <td>1.182668e+07</td>\n",
              "      <td>0</td>\n",
              "      <td>6.576176e+05</td>\n",
              "      <td>9.308472e+08</td>\n",
              "      <td>1.787181e+12</td>\n",
              "    </tr>\n",
              "    <tr>\n",
              "      <th>1</th>\n",
              "      <td>2</td>\n",
              "      <td>ing_w</td>\n",
              "      <td>499.446528</td>\n",
              "      <td>Obery Farms</td>\n",
              "      <td>location 7369</td>\n",
              "      <td>17.8</td>\n",
              "      <td>4.000000</td>\n",
              "      <td>100.0</td>\n",
              "      <td>11.7</td>\n",
              "      <td>1021.4</td>\n",
              "      <td>0.0</td>\n",
              "      <td>3.6</td>\n",
              "      <td>135023.2208</td>\n",
              "      <td>1.391212e+08</td>\n",
              "      <td>6.027066e+07</td>\n",
              "      <td>6.955550e+07</td>\n",
              "      <td>2.719701e+08</td>\n",
              "      <td>3.942612e+08</td>\n",
              "      <td>1.182668e+07</td>\n",
              "      <td>0</td>\n",
              "      <td>1.278194e+05</td>\n",
              "      <td>9.308472e+08</td>\n",
              "      <td>1.787181e+12</td>\n",
              "    </tr>\n",
              "    <tr>\n",
              "      <th>2</th>\n",
              "      <td>3</td>\n",
              "      <td>ing_w</td>\n",
              "      <td>2200.407555</td>\n",
              "      <td>Obery Farms</td>\n",
              "      <td>location 7369</td>\n",
              "      <td>17.8</td>\n",
              "      <td>4.000000</td>\n",
              "      <td>100.0</td>\n",
              "      <td>11.7</td>\n",
              "      <td>1021.4</td>\n",
              "      <td>0.0</td>\n",
              "      <td>3.6</td>\n",
              "      <td>135023.2208</td>\n",
              "      <td>1.391212e+08</td>\n",
              "      <td>6.027066e+07</td>\n",
              "      <td>6.955550e+07</td>\n",
              "      <td>2.719701e+08</td>\n",
              "      <td>3.942612e+08</td>\n",
              "      <td>1.182668e+07</td>\n",
              "      <td>0</td>\n",
              "      <td>2.069071e+06</td>\n",
              "      <td>9.308472e+08</td>\n",
              "      <td>1.787181e+12</td>\n",
              "    </tr>\n",
              "    <tr>\n",
              "      <th>3</th>\n",
              "      <td>4</td>\n",
              "      <td>ing_w</td>\n",
              "      <td>10833.140121</td>\n",
              "      <td>Obery Farms</td>\n",
              "      <td>location 7369</td>\n",
              "      <td>17.8</td>\n",
              "      <td>4.000000</td>\n",
              "      <td>100.0</td>\n",
              "      <td>11.7</td>\n",
              "      <td>1021.4</td>\n",
              "      <td>0.0</td>\n",
              "      <td>3.6</td>\n",
              "      <td>135023.2208</td>\n",
              "      <td>1.391212e+08</td>\n",
              "      <td>6.027066e+07</td>\n",
              "      <td>6.955550e+07</td>\n",
              "      <td>2.719701e+08</td>\n",
              "      <td>3.942612e+08</td>\n",
              "      <td>1.182668e+07</td>\n",
              "      <td>0</td>\n",
              "      <td>8.574482e+06</td>\n",
              "      <td>9.308472e+08</td>\n",
              "      <td>1.787181e+12</td>\n",
              "    </tr>\n",
              "    <tr>\n",
              "      <th>4</th>\n",
              "      <td>5</td>\n",
              "      <td>ing_w</td>\n",
              "      <td>743.224000</td>\n",
              "      <td>Obery Farms</td>\n",
              "      <td>location 7369</td>\n",
              "      <td>17.8</td>\n",
              "      <td>4.000000</td>\n",
              "      <td>100.0</td>\n",
              "      <td>11.7</td>\n",
              "      <td>1021.4</td>\n",
              "      <td>0.0</td>\n",
              "      <td>3.6</td>\n",
              "      <td>135023.2208</td>\n",
              "      <td>1.391212e+08</td>\n",
              "      <td>6.027066e+07</td>\n",
              "      <td>6.955550e+07</td>\n",
              "      <td>2.719701e+08</td>\n",
              "      <td>3.942612e+08</td>\n",
              "      <td>1.182668e+07</td>\n",
              "      <td>0</td>\n",
              "      <td>1.571848e+05</td>\n",
              "      <td>9.308472e+08</td>\n",
              "      <td>1.787181e+12</td>\n",
              "    </tr>\n",
              "    <tr>\n",
              "      <th>...</th>\n",
              "      <td>...</td>\n",
              "      <td>...</td>\n",
              "      <td>...</td>\n",
              "      <td>...</td>\n",
              "      <td>...</td>\n",
              "      <td>...</td>\n",
              "      <td>...</td>\n",
              "      <td>...</td>\n",
              "      <td>...</td>\n",
              "      <td>...</td>\n",
              "      <td>...</td>\n",
              "      <td>...</td>\n",
              "      <td>...</td>\n",
              "      <td>...</td>\n",
              "      <td>...</td>\n",
              "      <td>...</td>\n",
              "      <td>...</td>\n",
              "      <td>...</td>\n",
              "      <td>...</td>\n",
              "      <td>...</td>\n",
              "      <td>...</td>\n",
              "      <td>...</td>\n",
              "      <td>...</td>\n",
              "    </tr>\n",
              "    <tr>\n",
              "      <th>999994</th>\n",
              "      <td>999988</td>\n",
              "      <td>ing_x</td>\n",
              "      <td>6326.136882</td>\n",
              "      <td>Obery Farms</td>\n",
              "      <td>location 7369</td>\n",
              "      <td>21.7</td>\n",
              "      <td>4.333333</td>\n",
              "      <td>260.0</td>\n",
              "      <td>18.9</td>\n",
              "      <td>1012.6</td>\n",
              "      <td>0.0</td>\n",
              "      <td>2.1</td>\n",
              "      <td>76716.0832</td>\n",
              "      <td>8.011052e+07</td>\n",
              "      <td>4.100505e+07</td>\n",
              "      <td>4.718487e+07</td>\n",
              "      <td>1.667514e+08</td>\n",
              "      <td>2.431905e+08</td>\n",
              "      <td>1.785528e+07</td>\n",
              "      <td>1516</td>\n",
              "      <td>3.389704e+06</td>\n",
              "      <td>5.942729e+08</td>\n",
              "      <td>4.216557e+11</td>\n",
              "    </tr>\n",
              "    <tr>\n",
              "      <th>999995</th>\n",
              "      <td>999990</td>\n",
              "      <td>ing_x</td>\n",
              "      <td>1001.401437</td>\n",
              "      <td>Wayne Farms</td>\n",
              "      <td>location 7369</td>\n",
              "      <td>21.7</td>\n",
              "      <td>4.333333</td>\n",
              "      <td>260.0</td>\n",
              "      <td>18.9</td>\n",
              "      <td>1012.6</td>\n",
              "      <td>0.0</td>\n",
              "      <td>2.1</td>\n",
              "      <td>76716.0832</td>\n",
              "      <td>8.011052e+07</td>\n",
              "      <td>4.100505e+07</td>\n",
              "      <td>4.718487e+07</td>\n",
              "      <td>1.667514e+08</td>\n",
              "      <td>2.431905e+08</td>\n",
              "      <td>1.785528e+07</td>\n",
              "      <td>1515</td>\n",
              "      <td>1.042423e+06</td>\n",
              "      <td>2.548563e+08</td>\n",
              "      <td>4.216557e+11</td>\n",
              "    </tr>\n",
              "    <tr>\n",
              "      <th>999996</th>\n",
              "      <td>999994</td>\n",
              "      <td>ing_x</td>\n",
              "      <td>18667.278499</td>\n",
              "      <td>Dole Food Company</td>\n",
              "      <td>location 7369</td>\n",
              "      <td>21.7</td>\n",
              "      <td>4.333333</td>\n",
              "      <td>260.0</td>\n",
              "      <td>18.9</td>\n",
              "      <td>1012.6</td>\n",
              "      <td>0.0</td>\n",
              "      <td>2.1</td>\n",
              "      <td>76716.0832</td>\n",
              "      <td>8.011052e+07</td>\n",
              "      <td>4.100505e+07</td>\n",
              "      <td>4.718487e+07</td>\n",
              "      <td>1.667514e+08</td>\n",
              "      <td>2.431905e+08</td>\n",
              "      <td>1.785528e+07</td>\n",
              "      <td>1540</td>\n",
              "      <td>4.431793e+06</td>\n",
              "      <td>1.131742e+08</td>\n",
              "      <td>4.216557e+11</td>\n",
              "    </tr>\n",
              "    <tr>\n",
              "      <th>999997</th>\n",
              "      <td>999996</td>\n",
              "      <td>ing_x</td>\n",
              "      <td>18667.278499</td>\n",
              "      <td>Dole Food Company</td>\n",
              "      <td>location 7369</td>\n",
              "      <td>21.7</td>\n",
              "      <td>4.333333</td>\n",
              "      <td>260.0</td>\n",
              "      <td>18.9</td>\n",
              "      <td>1012.6</td>\n",
              "      <td>0.0</td>\n",
              "      <td>2.1</td>\n",
              "      <td>76716.0832</td>\n",
              "      <td>8.011052e+07</td>\n",
              "      <td>4.100505e+07</td>\n",
              "      <td>4.718487e+07</td>\n",
              "      <td>1.667514e+08</td>\n",
              "      <td>2.431905e+08</td>\n",
              "      <td>1.785528e+07</td>\n",
              "      <td>1851</td>\n",
              "      <td>2.613581e+06</td>\n",
              "      <td>1.131742e+08</td>\n",
              "      <td>4.216557e+11</td>\n",
              "    </tr>\n",
              "    <tr>\n",
              "      <th>999998</th>\n",
              "      <td>999999</td>\n",
              "      <td>ing_x</td>\n",
              "      <td>18667.278499</td>\n",
              "      <td>Dole Food Company</td>\n",
              "      <td>location 7369</td>\n",
              "      <td>21.7</td>\n",
              "      <td>4.333333</td>\n",
              "      <td>260.0</td>\n",
              "      <td>18.9</td>\n",
              "      <td>1012.6</td>\n",
              "      <td>0.0</td>\n",
              "      <td>2.1</td>\n",
              "      <td>76716.0832</td>\n",
              "      <td>8.011052e+07</td>\n",
              "      <td>4.100505e+07</td>\n",
              "      <td>4.718487e+07</td>\n",
              "      <td>1.667514e+08</td>\n",
              "      <td>2.431905e+08</td>\n",
              "      <td>1.785528e+07</td>\n",
              "      <td>3505</td>\n",
              "      <td>1.456469e+06</td>\n",
              "      <td>1.131742e+08</td>\n",
              "      <td>4.216557e+11</td>\n",
              "    </tr>\n",
              "  </tbody>\n",
              "</table>\n",
              "<p>999999 rows × 23 columns</p>\n",
              "</div>"
            ],
            "text/plain": [
              "            id  ... deidentified_location_weights\n",
              "0            1  ...                  1.787181e+12\n",
              "1            2  ...                  1.787181e+12\n",
              "2            3  ...                  1.787181e+12\n",
              "3            4  ...                  1.787181e+12\n",
              "4            5  ...                  1.787181e+12\n",
              "...        ...  ...                           ...\n",
              "999994  999988  ...                  4.216557e+11\n",
              "999995  999990  ...                  4.216557e+11\n",
              "999996  999994  ...                  4.216557e+11\n",
              "999997  999996  ...                  4.216557e+11\n",
              "999998  999999  ...                  4.216557e+11\n",
              "\n",
              "[999999 rows x 23 columns]"
            ]
          },
          "metadata": {
            "tags": []
          },
          "execution_count": 117
        }
      ]
    },
    {
      "cell_type": "code",
      "metadata": {
        "id": "dYEeowauIoC7",
        "colab_type": "code",
        "colab": {
          "base_uri": "https://localhost:8080/",
          "height": 238
        },
        "outputId": "1f3bb1ea-5532-47d7-ee18-c2ca36d10479"
      },
      "source": [
        "X_test.columns"
      ],
      "execution_count": 126,
      "outputs": [
        {
          "output_type": "execute_result",
          "data": {
            "text/plain": [
              "Index(['ingredient_type', 'farm_area', 'farming_company',\n",
              "       'deidentified_location', 'temp_obs', 'cloudiness', 'wind_direction',\n",
              "       'dew_temp', 'pressure_sea_level', 'precipitation', 'wind_speed',\n",
              "       'yeild_nan_count', 'farm_id_ingredient_type_traget_encoding',\n",
              "       'farming_company_weights', 'deidentified_location_weights',\n",
              "       'globaltime_yield_ingredient_weights',\n",
              "       'globaltime_month12_ingredient_weights',\n",
              "       'globaltime_day31_ingredient_weights',\n",
              "       'globaltime_hour24_ingredient_weights',\n",
              "       'globaltime_weekday7_ingredient_weights',\n",
              "       'globaltime_quarter4_ingredient_weights',\n",
              "       'globaltime_weekofyear53_ingredient_weights'],\n",
              "      dtype='object')"
            ]
          },
          "metadata": {
            "tags": []
          },
          "execution_count": 126
        }
      ]
    },
    {
      "cell_type": "code",
      "metadata": {
        "id": "iLhPuBt6I43V",
        "colab_type": "code",
        "colab": {
          "base_uri": "https://localhost:8080/",
          "height": 238
        },
        "outputId": "614fecbf-a8b6-4b08-c3fa-d99e976ff857"
      },
      "source": [
        "final_merge.columns"
      ],
      "execution_count": 127,
      "outputs": [
        {
          "output_type": "execute_result",
          "data": {
            "text/plain": [
              "Index(['id', 'ingredient_type', 'farm_area', 'farming_company',\n",
              "       'deidentified_location', 'temp_obs', 'cloudiness', 'wind_direction',\n",
              "       'dew_temp', 'pressure_sea_level', 'precipitation', 'wind_speed',\n",
              "       'globaltime_yield_ingredient_weights',\n",
              "       'globaltime_month12_ingredient_weights',\n",
              "       'globaltime_day31_ingredient_weights',\n",
              "       'globaltime_hour24_ingredient_weights',\n",
              "       'globaltime_weekday7_ingredient_weights',\n",
              "       'globaltime_quarter4_ingredient_weights',\n",
              "       'globaltime_weekofyear53_ingredient_weights', 'yeild_nan_count',\n",
              "       'farm_id_ingredient_type_traget_encoding', 'farming_company_weights',\n",
              "       'deidentified_location_weights'],\n",
              "      dtype='object')"
            ]
          },
          "metadata": {
            "tags": []
          },
          "execution_count": 127
        }
      ]
    },
    {
      "cell_type": "code",
      "metadata": {
        "id": "-Y5846dkNggS",
        "colab_type": "code",
        "colab": {}
      },
      "source": [
        "final_merge=final_merge.reindex(['ingredient_type', 'farm_area', 'farming_company',\n",
        "       'deidentified_location', 'temp_obs', 'cloudiness', 'wind_direction',\n",
        "       'dew_temp', 'pressure_sea_level', 'precipitation', 'wind_speed',\n",
        "       'yeild_nan_count', 'farm_id_ingredient_type_traget_encoding',\n",
        "       'farming_company_weights', 'deidentified_location_weights',\n",
        "       'globaltime_yield_ingredient_weights',\n",
        "       'globaltime_month12_ingredient_weights',\n",
        "       'globaltime_day31_ingredient_weights',\n",
        "       'globaltime_hour24_ingredient_weights',\n",
        "       'globaltime_weekday7_ingredient_weights',\n",
        "       'globaltime_quarter4_ingredient_weights',\n",
        "       'globaltime_weekofyear53_ingredient_weights','id'],axis=1)"
      ],
      "execution_count": 0,
      "outputs": []
    },
    {
      "cell_type": "code",
      "metadata": {
        "id": "7o_9BUNlNttC",
        "colab_type": "code",
        "colab": {}
      },
      "source": [
        "final_merge.drop('id',inplace=True,axis=1)"
      ],
      "execution_count": 0,
      "outputs": []
    },
    {
      "cell_type": "code",
      "metadata": {
        "id": "pt7Yk6_xOKbW",
        "colab_type": "code",
        "colab": {
          "base_uri": "https://localhost:8080/",
          "height": 490
        },
        "outputId": "94a952c0-55b9-4861-8281-b380193557a9"
      },
      "source": [
        ""
      ],
      "execution_count": 133,
      "outputs": [
        {
          "output_type": "execute_result",
          "data": {
            "text/html": [
              "<div>\n",
              "<style scoped>\n",
              "    .dataframe tbody tr th:only-of-type {\n",
              "        vertical-align: middle;\n",
              "    }\n",
              "\n",
              "    .dataframe tbody tr th {\n",
              "        vertical-align: top;\n",
              "    }\n",
              "\n",
              "    .dataframe thead th {\n",
              "        text-align: right;\n",
              "    }\n",
              "</style>\n",
              "<table border=\"1\" class=\"dataframe\">\n",
              "  <thead>\n",
              "    <tr style=\"text-align: right;\">\n",
              "      <th></th>\n",
              "      <th>ingredient_type</th>\n",
              "      <th>farm_area</th>\n",
              "      <th>farming_company</th>\n",
              "      <th>deidentified_location</th>\n",
              "      <th>temp_obs</th>\n",
              "      <th>cloudiness</th>\n",
              "      <th>wind_direction</th>\n",
              "      <th>dew_temp</th>\n",
              "      <th>pressure_sea_level</th>\n",
              "      <th>precipitation</th>\n",
              "      <th>wind_speed</th>\n",
              "      <th>yeild_nan_count</th>\n",
              "      <th>farm_id_ingredient_type_traget_encoding</th>\n",
              "      <th>farming_company_weights</th>\n",
              "      <th>deidentified_location_weights</th>\n",
              "      <th>globaltime_yield_ingredient_weights</th>\n",
              "      <th>globaltime_month12_ingredient_weights</th>\n",
              "      <th>globaltime_day31_ingredient_weights</th>\n",
              "      <th>globaltime_hour24_ingredient_weights</th>\n",
              "      <th>globaltime_weekday7_ingredient_weights</th>\n",
              "      <th>globaltime_quarter4_ingredient_weights</th>\n",
              "      <th>globaltime_weekofyear53_ingredient_weights</th>\n",
              "    </tr>\n",
              "  </thead>\n",
              "  <tbody>\n",
              "    <tr>\n",
              "      <th>0</th>\n",
              "      <td>ing_w</td>\n",
              "      <td>252.696160</td>\n",
              "      <td>Obery Farms</td>\n",
              "      <td>location 7369</td>\n",
              "      <td>17.8</td>\n",
              "      <td>4.000000</td>\n",
              "      <td>100.0</td>\n",
              "      <td>11.7</td>\n",
              "      <td>1021.4</td>\n",
              "      <td>0.0</td>\n",
              "      <td>3.6</td>\n",
              "      <td>0</td>\n",
              "      <td>6.576176e+05</td>\n",
              "      <td>9.308472e+08</td>\n",
              "      <td>1.787181e+12</td>\n",
              "      <td>135023.2208</td>\n",
              "      <td>1.391212e+08</td>\n",
              "      <td>6.027066e+07</td>\n",
              "      <td>6.955550e+07</td>\n",
              "      <td>2.719701e+08</td>\n",
              "      <td>3.942612e+08</td>\n",
              "      <td>1.182668e+07</td>\n",
              "    </tr>\n",
              "    <tr>\n",
              "      <th>1</th>\n",
              "      <td>ing_w</td>\n",
              "      <td>499.446528</td>\n",
              "      <td>Obery Farms</td>\n",
              "      <td>location 7369</td>\n",
              "      <td>17.8</td>\n",
              "      <td>4.000000</td>\n",
              "      <td>100.0</td>\n",
              "      <td>11.7</td>\n",
              "      <td>1021.4</td>\n",
              "      <td>0.0</td>\n",
              "      <td>3.6</td>\n",
              "      <td>0</td>\n",
              "      <td>1.278194e+05</td>\n",
              "      <td>9.308472e+08</td>\n",
              "      <td>1.787181e+12</td>\n",
              "      <td>135023.2208</td>\n",
              "      <td>1.391212e+08</td>\n",
              "      <td>6.027066e+07</td>\n",
              "      <td>6.955550e+07</td>\n",
              "      <td>2.719701e+08</td>\n",
              "      <td>3.942612e+08</td>\n",
              "      <td>1.182668e+07</td>\n",
              "    </tr>\n",
              "    <tr>\n",
              "      <th>2</th>\n",
              "      <td>ing_w</td>\n",
              "      <td>2200.407555</td>\n",
              "      <td>Obery Farms</td>\n",
              "      <td>location 7369</td>\n",
              "      <td>17.8</td>\n",
              "      <td>4.000000</td>\n",
              "      <td>100.0</td>\n",
              "      <td>11.7</td>\n",
              "      <td>1021.4</td>\n",
              "      <td>0.0</td>\n",
              "      <td>3.6</td>\n",
              "      <td>0</td>\n",
              "      <td>2.069071e+06</td>\n",
              "      <td>9.308472e+08</td>\n",
              "      <td>1.787181e+12</td>\n",
              "      <td>135023.2208</td>\n",
              "      <td>1.391212e+08</td>\n",
              "      <td>6.027066e+07</td>\n",
              "      <td>6.955550e+07</td>\n",
              "      <td>2.719701e+08</td>\n",
              "      <td>3.942612e+08</td>\n",
              "      <td>1.182668e+07</td>\n",
              "    </tr>\n",
              "    <tr>\n",
              "      <th>3</th>\n",
              "      <td>ing_w</td>\n",
              "      <td>10833.140121</td>\n",
              "      <td>Obery Farms</td>\n",
              "      <td>location 7369</td>\n",
              "      <td>17.8</td>\n",
              "      <td>4.000000</td>\n",
              "      <td>100.0</td>\n",
              "      <td>11.7</td>\n",
              "      <td>1021.4</td>\n",
              "      <td>0.0</td>\n",
              "      <td>3.6</td>\n",
              "      <td>0</td>\n",
              "      <td>8.574482e+06</td>\n",
              "      <td>9.308472e+08</td>\n",
              "      <td>1.787181e+12</td>\n",
              "      <td>135023.2208</td>\n",
              "      <td>1.391212e+08</td>\n",
              "      <td>6.027066e+07</td>\n",
              "      <td>6.955550e+07</td>\n",
              "      <td>2.719701e+08</td>\n",
              "      <td>3.942612e+08</td>\n",
              "      <td>1.182668e+07</td>\n",
              "    </tr>\n",
              "    <tr>\n",
              "      <th>4</th>\n",
              "      <td>ing_w</td>\n",
              "      <td>743.224000</td>\n",
              "      <td>Obery Farms</td>\n",
              "      <td>location 7369</td>\n",
              "      <td>17.8</td>\n",
              "      <td>4.000000</td>\n",
              "      <td>100.0</td>\n",
              "      <td>11.7</td>\n",
              "      <td>1021.4</td>\n",
              "      <td>0.0</td>\n",
              "      <td>3.6</td>\n",
              "      <td>0</td>\n",
              "      <td>1.571848e+05</td>\n",
              "      <td>9.308472e+08</td>\n",
              "      <td>1.787181e+12</td>\n",
              "      <td>135023.2208</td>\n",
              "      <td>1.391212e+08</td>\n",
              "      <td>6.027066e+07</td>\n",
              "      <td>6.955550e+07</td>\n",
              "      <td>2.719701e+08</td>\n",
              "      <td>3.942612e+08</td>\n",
              "      <td>1.182668e+07</td>\n",
              "    </tr>\n",
              "    <tr>\n",
              "      <th>...</th>\n",
              "      <td>...</td>\n",
              "      <td>...</td>\n",
              "      <td>...</td>\n",
              "      <td>...</td>\n",
              "      <td>...</td>\n",
              "      <td>...</td>\n",
              "      <td>...</td>\n",
              "      <td>...</td>\n",
              "      <td>...</td>\n",
              "      <td>...</td>\n",
              "      <td>...</td>\n",
              "      <td>...</td>\n",
              "      <td>...</td>\n",
              "      <td>...</td>\n",
              "      <td>...</td>\n",
              "      <td>...</td>\n",
              "      <td>...</td>\n",
              "      <td>...</td>\n",
              "      <td>...</td>\n",
              "      <td>...</td>\n",
              "      <td>...</td>\n",
              "      <td>...</td>\n",
              "    </tr>\n",
              "    <tr>\n",
              "      <th>999994</th>\n",
              "      <td>ing_x</td>\n",
              "      <td>6326.136882</td>\n",
              "      <td>Obery Farms</td>\n",
              "      <td>location 7369</td>\n",
              "      <td>21.7</td>\n",
              "      <td>4.333333</td>\n",
              "      <td>260.0</td>\n",
              "      <td>18.9</td>\n",
              "      <td>1012.6</td>\n",
              "      <td>0.0</td>\n",
              "      <td>2.1</td>\n",
              "      <td>1516</td>\n",
              "      <td>3.389704e+06</td>\n",
              "      <td>5.942729e+08</td>\n",
              "      <td>4.216557e+11</td>\n",
              "      <td>76716.0832</td>\n",
              "      <td>8.011052e+07</td>\n",
              "      <td>4.100505e+07</td>\n",
              "      <td>4.718487e+07</td>\n",
              "      <td>1.667514e+08</td>\n",
              "      <td>2.431905e+08</td>\n",
              "      <td>1.785528e+07</td>\n",
              "    </tr>\n",
              "    <tr>\n",
              "      <th>999995</th>\n",
              "      <td>ing_x</td>\n",
              "      <td>1001.401437</td>\n",
              "      <td>Wayne Farms</td>\n",
              "      <td>location 7369</td>\n",
              "      <td>21.7</td>\n",
              "      <td>4.333333</td>\n",
              "      <td>260.0</td>\n",
              "      <td>18.9</td>\n",
              "      <td>1012.6</td>\n",
              "      <td>0.0</td>\n",
              "      <td>2.1</td>\n",
              "      <td>1515</td>\n",
              "      <td>1.042423e+06</td>\n",
              "      <td>2.548563e+08</td>\n",
              "      <td>4.216557e+11</td>\n",
              "      <td>76716.0832</td>\n",
              "      <td>8.011052e+07</td>\n",
              "      <td>4.100505e+07</td>\n",
              "      <td>4.718487e+07</td>\n",
              "      <td>1.667514e+08</td>\n",
              "      <td>2.431905e+08</td>\n",
              "      <td>1.785528e+07</td>\n",
              "    </tr>\n",
              "    <tr>\n",
              "      <th>999996</th>\n",
              "      <td>ing_x</td>\n",
              "      <td>18667.278499</td>\n",
              "      <td>Dole Food Company</td>\n",
              "      <td>location 7369</td>\n",
              "      <td>21.7</td>\n",
              "      <td>4.333333</td>\n",
              "      <td>260.0</td>\n",
              "      <td>18.9</td>\n",
              "      <td>1012.6</td>\n",
              "      <td>0.0</td>\n",
              "      <td>2.1</td>\n",
              "      <td>1540</td>\n",
              "      <td>4.431793e+06</td>\n",
              "      <td>1.131742e+08</td>\n",
              "      <td>4.216557e+11</td>\n",
              "      <td>76716.0832</td>\n",
              "      <td>8.011052e+07</td>\n",
              "      <td>4.100505e+07</td>\n",
              "      <td>4.718487e+07</td>\n",
              "      <td>1.667514e+08</td>\n",
              "      <td>2.431905e+08</td>\n",
              "      <td>1.785528e+07</td>\n",
              "    </tr>\n",
              "    <tr>\n",
              "      <th>999997</th>\n",
              "      <td>ing_x</td>\n",
              "      <td>18667.278499</td>\n",
              "      <td>Dole Food Company</td>\n",
              "      <td>location 7369</td>\n",
              "      <td>21.7</td>\n",
              "      <td>4.333333</td>\n",
              "      <td>260.0</td>\n",
              "      <td>18.9</td>\n",
              "      <td>1012.6</td>\n",
              "      <td>0.0</td>\n",
              "      <td>2.1</td>\n",
              "      <td>1851</td>\n",
              "      <td>2.613581e+06</td>\n",
              "      <td>1.131742e+08</td>\n",
              "      <td>4.216557e+11</td>\n",
              "      <td>76716.0832</td>\n",
              "      <td>8.011052e+07</td>\n",
              "      <td>4.100505e+07</td>\n",
              "      <td>4.718487e+07</td>\n",
              "      <td>1.667514e+08</td>\n",
              "      <td>2.431905e+08</td>\n",
              "      <td>1.785528e+07</td>\n",
              "    </tr>\n",
              "    <tr>\n",
              "      <th>999998</th>\n",
              "      <td>ing_x</td>\n",
              "      <td>18667.278499</td>\n",
              "      <td>Dole Food Company</td>\n",
              "      <td>location 7369</td>\n",
              "      <td>21.7</td>\n",
              "      <td>4.333333</td>\n",
              "      <td>260.0</td>\n",
              "      <td>18.9</td>\n",
              "      <td>1012.6</td>\n",
              "      <td>0.0</td>\n",
              "      <td>2.1</td>\n",
              "      <td>3505</td>\n",
              "      <td>1.456469e+06</td>\n",
              "      <td>1.131742e+08</td>\n",
              "      <td>4.216557e+11</td>\n",
              "      <td>76716.0832</td>\n",
              "      <td>8.011052e+07</td>\n",
              "      <td>4.100505e+07</td>\n",
              "      <td>4.718487e+07</td>\n",
              "      <td>1.667514e+08</td>\n",
              "      <td>2.431905e+08</td>\n",
              "      <td>1.785528e+07</td>\n",
              "    </tr>\n",
              "  </tbody>\n",
              "</table>\n",
              "<p>999999 rows × 22 columns</p>\n",
              "</div>"
            ],
            "text/plain": [
              "       ingredient_type  ...  globaltime_weekofyear53_ingredient_weights\n",
              "0                ing_w  ...                                1.182668e+07\n",
              "1                ing_w  ...                                1.182668e+07\n",
              "2                ing_w  ...                                1.182668e+07\n",
              "3                ing_w  ...                                1.182668e+07\n",
              "4                ing_w  ...                                1.182668e+07\n",
              "...                ...  ...                                         ...\n",
              "999994           ing_x  ...                                1.785528e+07\n",
              "999995           ing_x  ...                                1.785528e+07\n",
              "999996           ing_x  ...                                1.785528e+07\n",
              "999997           ing_x  ...                                1.785528e+07\n",
              "999998           ing_x  ...                                1.785528e+07\n",
              "\n",
              "[999999 rows x 22 columns]"
            ]
          },
          "metadata": {
            "tags": []
          },
          "execution_count": 133
        }
      ]
    },
    {
      "cell_type": "code",
      "metadata": {
        "id": "iuZ-5AcjPluk",
        "colab_type": "code",
        "colab": {}
      },
      "source": [
        "le_deidentified_location=load('/content/drive/My Drive/Phd/le_deidentified_location.joblib')\n",
        "le_farming_company=load('/content/drive/My Drive/Phd/le_farming_company.joblib')\n",
        "le_ingredient_type=load('/content/drive/My Drive/Phd/le_ingredient_type.joblib')"
      ],
      "execution_count": 0,
      "outputs": []
    },
    {
      "cell_type": "code",
      "metadata": {
        "id": "aXn_iz-FOZvs",
        "colab_type": "code",
        "colab": {}
      },
      "source": [
        "final_merge['deidentified_location']=le_deidentified_location.transform(final_merge['deidentified_location'])\n",
        "final_merge['farming_company']=le_farming_company.transform(final_merge['farming_company'])\n",
        "final_merge['ingredient_type']=le_ingredient_type.transform(final_merge['ingredient_type'])"
      ],
      "execution_count": 0,
      "outputs": []
    },
    {
      "cell_type": "code",
      "metadata": {
        "id": "5V86b_1JQQPS",
        "colab_type": "code",
        "colab": {
          "base_uri": "https://localhost:8080/",
          "height": 34
        },
        "outputId": "e010f06e-b9b2-4145-f38a-aae536b15560"
      },
      "source": [
        "dump(final_merge,'/content/drive/My Drive/Phd/test_data_final_model.joblib')"
      ],
      "execution_count": 136,
      "outputs": [
        {
          "output_type": "execute_result",
          "data": {
            "text/plain": [
              "['/content/drive/My Drive/Phd/test_data_final_model.joblib']"
            ]
          },
          "metadata": {
            "tags": []
          },
          "execution_count": 136
        }
      ]
    },
    {
      "cell_type": "code",
      "metadata": {
        "id": "gmThvVp-QZbZ",
        "colab_type": "code",
        "colab": {
          "base_uri": "https://localhost:8080/",
          "height": 51
        },
        "outputId": "ea788a4f-5203-4e23-aa8f-b13bcbafe400"
      },
      "source": [
        "decision_tree_model.predict(final_merge)"
      ],
      "execution_count": 137,
      "outputs": [
        {
          "output_type": "execute_result",
          "data": {
            "text/plain": [
              "array([ 91.43483036,   8.61124043, 218.04090095, ..., 819.33736019,\n",
              "       616.11095985, 127.47258201])"
            ]
          },
          "metadata": {
            "tags": []
          },
          "execution_count": 137
        }
      ]
    },
    {
      "cell_type": "code",
      "metadata": {
        "id": "RbaqvpMgSPNB",
        "colab_type": "code",
        "colab": {
          "base_uri": "https://localhost:8080/",
          "height": 136
        },
        "outputId": "75595df0-7413-4572-ad93-fe9a56caa39b"
      },
      "source": [
        "import time\n",
        "start = time.time()\n",
        "from joblib import dump,load\n",
        "Training_data=load('/content/drive/My Drive/Phd/train_data_without_standarderization.joblib')\n",
        "\n",
        "from sklearn import model_selection\n",
        "\n",
        "X_train,X_test,Y_train,Y_test=model_selection.train_test_split(Training_data.copy().drop(['timestamp','yield','farm_id'],axis=1),Training_data['yield'],test_size=0.3,random_state=4)\n",
        "\n",
        "from sklearn.ensemble import RandomForestRegressor\n",
        "\n",
        "print(\"Train validation split successful\")\n",
        "params={'n_estimators': 8, 'min_samples_split': 4 , 'n_jobs' : -1 ,'min_samples_leaf': 3}\n",
        "regressor = RandomForestRegressor(**params)\n",
        "#regressor = RandomForestRegressor(n_jobs=-1)\n",
        "\n",
        "random_forest_tree_model=regressor.fit(X_train, Y_train)\n",
        "\n",
        "print(\"Model fit complete\")\n",
        "\n",
        "Y_pred_train = random_forest_tree_model.predict(X_train)\n",
        "Y_pred_test=random_forest_tree_model.predict(X_test)\n",
        "\n",
        "from sklearn.metrics import mean_squared_error\n",
        "mse_train=mean_squared_error(Y_train,Y_pred_train)\n",
        "mse_test=mean_squared_error(Y_test,Y_pred_test)\n",
        "\n",
        "import numpy as np \n",
        "rmse_test=np.sqrt(mse_test)\n",
        "rmse_train=np.sqrt(mse_train)\n",
        "print(\"Train RMSE\")\n",
        "print(np.sqrt(mse_train))\n",
        "print(\"Validation RMSE\")\n",
        "print(np.sqrt(mse_test))\n",
        "\n",
        "done = time.time()\n",
        "elapsed = done - start\n",
        "print(elapsed)\n",
        "\n"
      ],
      "execution_count": 1,
      "outputs": [
        {
          "output_type": "stream",
          "text": [
            "Train validation split successful\n",
            "Model fit complete\n",
            "Train RMSE\n",
            "36.98652512669104\n",
            "Validation RMSE\n",
            "85.9151935525982\n",
            "586.8037106990814\n"
          ],
          "name": "stdout"
        }
      ]
    },
    {
      "cell_type": "code",
      "metadata": {
        "id": "oYKNVxt9Q9P3",
        "colab_type": "code",
        "colab": {}
      },
      "source": [
        "Training_data=load('/content/drive/My Drive/Phd/train_data_without_standarderization.joblib')\n",
        "\n",
        "from sklearn.ensemble import RandomForestRegressor\n",
        "params={'n_estimators': 8, 'min_samples_split': 4 , 'n_jobs' : -1 ,'min_samples_leaf': 3}\n",
        "regressor = RandomForestRegressor(**params)\n",
        "\n",
        "randomforest_model=regressor.fit(Training_data.copy().drop(['timestamp','yield','farm_id'],axis=1),Training_data['yield'])\n",
        "final_merge=load('/content/drive/My Drive/Phd/test_data_final_model.joblib')\n",
        "decision_tree_model_df=pd.DataFrame(columns=['id','yield'])\n",
        "decision_tree_model_df['id']=pd.read_csv('/content/drive/My Drive/Phd/sample_submission1-1578562773139.csv')['id']\n",
        "decision_tree_model_df['yield']=pd.Series(randomforest_model.predict(final_merge))\n",
        "decision_tree_model_df.to_csv('/content/drive/My Drive/Phd/last.csv',index=False)"
      ],
      "execution_count": 0,
      "outputs": []
    },
    {
      "cell_type": "code",
      "metadata": {
        "id": "LtzFR5fJTtrn",
        "colab_type": "code",
        "colab": {}
      },
      "source": [
        "decision_tree_model_df=pd.DataFrame(columns=['id','yield'])\n",
        "decision_tree_model_df['id']=pd.read_csv('/content/drive/My Drive/Phd/sample_submission1-1578562773139.csv')['id']\n",
        "decision_tree_model_df['yield']=pd.Series(randomforest_model.predict(final_merge))\n",
        "decision_tree_model_df.to_csv('/content/drive/My Drive/Phd/mom_and_dad.csv',index=False)"
      ],
      "execution_count": 0,
      "outputs": []
    },
    {
      "cell_type": "code",
      "metadata": {
        "id": "vtYFN9AeVYHb",
        "colab_type": "code",
        "colab": {
          "base_uri": "https://localhost:8080/",
          "height": 419
        },
        "outputId": "66ecb6fb-edd4-4d89-f05f-0de056f7100d"
      },
      "source": [
        "decision_tree_model_df"
      ],
      "execution_count": 12,
      "outputs": [
        {
          "output_type": "execute_result",
          "data": {
            "text/html": [
              "<div>\n",
              "<style scoped>\n",
              "    .dataframe tbody tr th:only-of-type {\n",
              "        vertical-align: middle;\n",
              "    }\n",
              "\n",
              "    .dataframe tbody tr th {\n",
              "        vertical-align: top;\n",
              "    }\n",
              "\n",
              "    .dataframe thead th {\n",
              "        text-align: right;\n",
              "    }\n",
              "</style>\n",
              "<table border=\"1\" class=\"dataframe\">\n",
              "  <thead>\n",
              "    <tr style=\"text-align: right;\">\n",
              "      <th></th>\n",
              "      <th>id</th>\n",
              "      <th>yield</th>\n",
              "    </tr>\n",
              "  </thead>\n",
              "  <tbody>\n",
              "    <tr>\n",
              "      <th>0</th>\n",
              "      <td>1</td>\n",
              "      <td>9.936648</td>\n",
              "    </tr>\n",
              "    <tr>\n",
              "      <th>1</th>\n",
              "      <td>2</td>\n",
              "      <td>16.227296</td>\n",
              "    </tr>\n",
              "    <tr>\n",
              "      <th>2</th>\n",
              "      <td>3</td>\n",
              "      <td>0.000000</td>\n",
              "    </tr>\n",
              "    <tr>\n",
              "      <th>3</th>\n",
              "      <td>4</td>\n",
              "      <td>0.000000</td>\n",
              "    </tr>\n",
              "    <tr>\n",
              "      <th>4</th>\n",
              "      <td>5</td>\n",
              "      <td>2.402887</td>\n",
              "    </tr>\n",
              "    <tr>\n",
              "      <th>...</th>\n",
              "      <td>...</td>\n",
              "      <td>...</td>\n",
              "    </tr>\n",
              "    <tr>\n",
              "      <th>999994</th>\n",
              "      <td>999995</td>\n",
              "      <td>308.980043</td>\n",
              "    </tr>\n",
              "    <tr>\n",
              "      <th>999995</th>\n",
              "      <td>999996</td>\n",
              "      <td>98.913800</td>\n",
              "    </tr>\n",
              "    <tr>\n",
              "      <th>999996</th>\n",
              "      <td>999997</td>\n",
              "      <td>1942.823367</td>\n",
              "    </tr>\n",
              "    <tr>\n",
              "      <th>999997</th>\n",
              "      <td>999998</td>\n",
              "      <td>1373.946875</td>\n",
              "    </tr>\n",
              "    <tr>\n",
              "      <th>999998</th>\n",
              "      <td>999999</td>\n",
              "      <td>1917.939400</td>\n",
              "    </tr>\n",
              "  </tbody>\n",
              "</table>\n",
              "<p>999999 rows × 2 columns</p>\n",
              "</div>"
            ],
            "text/plain": [
              "            id        yield\n",
              "0            1     9.936648\n",
              "1            2    16.227296\n",
              "2            3     0.000000\n",
              "3            4     0.000000\n",
              "4            5     2.402887\n",
              "...        ...          ...\n",
              "999994  999995   308.980043\n",
              "999995  999996    98.913800\n",
              "999996  999997  1942.823367\n",
              "999997  999998  1373.946875\n",
              "999998  999999  1917.939400\n",
              "\n",
              "[999999 rows x 2 columns]"
            ]
          },
          "metadata": {
            "tags": []
          },
          "execution_count": 12
        }
      ]
    },
    {
      "cell_type": "code",
      "metadata": {
        "id": "YUu9-eYC3PFY",
        "colab_type": "code",
        "colab": {}
      },
      "source": [
        ""
      ],
      "execution_count": 0,
      "outputs": []
    }
  ]
}