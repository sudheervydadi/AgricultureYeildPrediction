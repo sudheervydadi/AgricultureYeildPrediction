{
  "nbformat": 4,
  "nbformat_minor": 0,
  "metadata": {
    "colab": {
      "name": "Untitled1.ipynb",
      "provenance": [],
      "machine_shape": "hm"
    },
    "kernelspec": {
      "name": "python3",
      "display_name": "Python 3"
    },
    "accelerator": "TPU"
  },
  "cells": [
    {
      "cell_type": "code",
      "metadata": {
        "id": "ARGDFisBbVB0",
        "colab_type": "code",
        "colab": {}
      },
      "source": [
        ""
      ],
      "execution_count": 0,
      "outputs": []
    },
    {
      "cell_type": "code",
      "metadata": {
        "id": "Xdeg4f1qbfOK",
        "colab_type": "code",
        "outputId": "cdeed03b-6205-4944-d0ef-3f640f1bd151",
        "colab": {
          "base_uri": "https://localhost:8080/",
          "height": 122
        }
      },
      "source": [
        "from google.colab import drive\n",
        "drive.mount('/content/drive')"
      ],
      "execution_count": 0,
      "outputs": [
        {
          "output_type": "stream",
          "text": [
            "Go to this URL in a browser: https://accounts.google.com/o/oauth2/auth?client_id=947318989803-6bn6qk8qdgf4n4g3pfee6491hc0brc4i.apps.googleusercontent.com&redirect_uri=urn%3aietf%3awg%3aoauth%3a2.0%3aoob&response_type=code&scope=email%20https%3a%2f%2fwww.googleapis.com%2fauth%2fdocs.test%20https%3a%2f%2fwww.googleapis.com%2fauth%2fdrive%20https%3a%2f%2fwww.googleapis.com%2fauth%2fdrive.photos.readonly%20https%3a%2f%2fwww.googleapis.com%2fauth%2fpeopleapi.readonly\n",
            "\n",
            "Enter your authorization code:\n",
            "··········\n",
            "Mounted at /content/drive\n"
          ],
          "name": "stdout"
        }
      ]
    },
    {
      "cell_type": "code",
      "metadata": {
        "id": "raWO8FvpbgfZ",
        "colab_type": "code",
        "outputId": "92a03bcb-7be0-4a08-e9b8-c5000663271f",
        "colab": {
          "base_uri": "https://localhost:8080/",
          "height": 1000
        }
      },
      "source": [
        "import time\n",
        "start = time.time()\n",
        "import pandas as pd\n",
        "import numpy as np\n",
        "\n",
        "from joblib import  dump, load\n",
        "Training_data=load('/content/drive/My Drive/train_data_model_building.joblib')\n",
        "\n",
        "\n",
        "from keras.models import Sequential\n",
        "from keras.layers import Dense,Input\n",
        "neural_network = Sequential()\n",
        "\n",
        "neural_network.add(Dense(32, input_dim=21, activation = 'relu',\n",
        "                         kernel_initializer = 'RandomUniform', bias_initializer = 'zeros'))\n",
        "\n",
        "neural_network.add(Dense(10, activation = 'relu', kernel_initializer = 'zeros',\n",
        "                         bias_initializer = 'RandomUniform'))\n",
        "\n",
        "\n",
        "neural_network.add(Dense(4, activation = 'relu', kernel_initializer = 'zeros',\n",
        "                         bias_initializer = 'RandomUniform'))\n",
        "\n",
        "neural_network.add(Dense(1, activation = 'linear', kernel_initializer = 'zeros',\n",
        "                         bias_initializer = 'RandomUniform'))\n",
        "neural_network.summary()\n",
        "\n",
        "from keras.optimizers import Adam\n",
        "\n",
        "customized_optimizer = Adam(lr = 0.0001)\n",
        "\n",
        "neural_network.compile(optimizer=customized_optimizer,\n",
        "              loss='mean_squared_error',\n",
        "              metrics=['mae'])\n",
        "\n",
        "training_history = neural_network.fit(Training_data.copy().drop(['yield'],axis=1), Training_data['yield'], epochs=25, batch_size=1000000)\n",
        "\n",
        "from joblib import dump,load\n",
        "dump(training_history,'/content/drive/My Drive/neural_net_model.joblib')\n",
        "\n",
        "done = time.time()\n",
        "elapsed = done - start\n",
        "print(elapsed)\n",
        "\n",
        "\n"
      ],
      "execution_count": 0,
      "outputs": [
        {
          "output_type": "stream",
          "text": [
            "Using TensorFlow backend.\n"
          ],
          "name": "stderr"
        },
        {
          "output_type": "stream",
          "text": [
            "WARNING:tensorflow:From /usr/local/lib/python3.6/dist-packages/keras/backend/tensorflow_backend.py:66: The name tf.get_default_graph is deprecated. Please use tf.compat.v1.get_default_graph instead.\n",
            "\n",
            "WARNING:tensorflow:From /usr/local/lib/python3.6/dist-packages/keras/backend/tensorflow_backend.py:541: The name tf.placeholder is deprecated. Please use tf.compat.v1.placeholder instead.\n",
            "\n",
            "WARNING:tensorflow:From /usr/local/lib/python3.6/dist-packages/keras/backend/tensorflow_backend.py:4432: The name tf.random_uniform is deprecated. Please use tf.random.uniform instead.\n",
            "\n",
            "Model: \"sequential_1\"\n",
            "_________________________________________________________________\n",
            "Layer (type)                 Output Shape              Param #   \n",
            "=================================================================\n",
            "dense_1 (Dense)              (None, 32)                704       \n",
            "_________________________________________________________________\n",
            "dense_2 (Dense)              (None, 10)                330       \n",
            "_________________________________________________________________\n",
            "dense_3 (Dense)              (None, 4)                 44        \n",
            "_________________________________________________________________\n",
            "dense_4 (Dense)              (None, 1)                 5         \n",
            "=================================================================\n",
            "Total params: 1,083\n",
            "Trainable params: 1,083\n",
            "Non-trainable params: 0\n",
            "_________________________________________________________________\n",
            "WARNING:tensorflow:From /usr/local/lib/python3.6/dist-packages/keras/optimizers.py:793: The name tf.train.Optimizer is deprecated. Please use tf.compat.v1.train.Optimizer instead.\n",
            "\n",
            "WARNING:tensorflow:From /usr/local/lib/python3.6/dist-packages/keras/backend/tensorflow_backend.py:1033: The name tf.assign_add is deprecated. Please use tf.compat.v1.assign_add instead.\n",
            "\n",
            "WARNING:tensorflow:From /usr/local/lib/python3.6/dist-packages/keras/backend/tensorflow_backend.py:1020: The name tf.assign is deprecated. Please use tf.compat.v1.assign instead.\n",
            "\n",
            "WARNING:tensorflow:From /usr/local/lib/python3.6/dist-packages/keras/backend/tensorflow_backend.py:3005: The name tf.Session is deprecated. Please use tf.compat.v1.Session instead.\n",
            "\n",
            "Epoch 1/35\n",
            "WARNING:tensorflow:From /usr/local/lib/python3.6/dist-packages/keras/backend/tensorflow_backend.py:190: The name tf.get_default_session is deprecated. Please use tf.compat.v1.get_default_session instead.\n",
            "\n",
            "WARNING:tensorflow:From /usr/local/lib/python3.6/dist-packages/keras/backend/tensorflow_backend.py:197: The name tf.ConfigProto is deprecated. Please use tf.compat.v1.ConfigProto instead.\n",
            "\n",
            "WARNING:tensorflow:From /usr/local/lib/python3.6/dist-packages/keras/backend/tensorflow_backend.py:207: The name tf.global_variables is deprecated. Please use tf.compat.v1.global_variables instead.\n",
            "\n",
            "WARNING:tensorflow:From /usr/local/lib/python3.6/dist-packages/keras/backend/tensorflow_backend.py:216: The name tf.is_variable_initialized is deprecated. Please use tf.compat.v1.is_variable_initialized instead.\n",
            "\n",
            "WARNING:tensorflow:From /usr/local/lib/python3.6/dist-packages/keras/backend/tensorflow_backend.py:223: The name tf.variables_initializer is deprecated. Please use tf.compat.v1.variables_initializer instead.\n",
            "\n",
            "19478117/19478117 [==============================] - 298s 15us/step - loss: 193891.8418 - mean_absolute_error: 223.0208\n",
            "Epoch 2/35\n",
            "19478117/19478117 [==============================] - 297s 15us/step - loss: 193682.7033 - mean_absolute_error: 222.7900\n",
            "Epoch 3/35\n",
            "19478117/19478117 [==============================] - 297s 15us/step - loss: 192056.8634 - mean_absolute_error: 221.0722\n",
            "Epoch 4/35\n",
            "19478117/19478117 [==============================] - 294s 15us/step - loss: 185473.7712 - mean_absolute_error: 214.2276\n",
            "Epoch 5/35\n",
            "19478117/19478117 [==============================] - 295s 15us/step - loss: 168012.3355 - mean_absolute_error: 196.6574\n",
            "Epoch 6/35\n",
            "19478117/19478117 [==============================] - 295s 15us/step - loss: 138233.1131 - mean_absolute_error: 171.6738\n",
            "Epoch 7/35\n",
            "19478117/19478117 [==============================] - 295s 15us/step - loss: 115564.8127 - mean_absolute_error: 166.0853\n",
            "Epoch 8/35\n",
            "19478117/19478117 [==============================] - 295s 15us/step - loss: 112712.1772 - mean_absolute_error: 172.8498\n",
            "Epoch 9/35\n",
            "19478117/19478117 [==============================] - 296s 15us/step - loss: 111540.8443 - mean_absolute_error: 167.1565\n",
            "Epoch 10/35\n",
            "19478117/19478117 [==============================] - 296s 15us/step - loss: 110740.2560 - mean_absolute_error: 165.8211\n",
            "Epoch 11/35\n",
            "19478117/19478117 [==============================] - 297s 15us/step - loss: 110021.7340 - mean_absolute_error: 164.9725\n",
            "Epoch 12/35\n",
            "19478117/19478117 [==============================] - 295s 15us/step - loss: 109372.8518 - mean_absolute_error: 163.7211\n",
            "Epoch 13/35\n",
            "19478117/19478117 [==============================] - 294s 15us/step - loss: 108788.1313 - mean_absolute_error: 162.7296\n",
            "Epoch 14/35\n",
            "19478117/19478117 [==============================] - 292s 15us/step - loss: 108263.7867 - mean_absolute_error: 161.7415\n",
            "Epoch 15/35\n",
            "19478117/19478117 [==============================] - 293s 15us/step - loss: 107800.0788 - mean_absolute_error: 160.9922\n",
            "Epoch 16/35\n",
            "19478117/19478117 [==============================] - 292s 15us/step - loss: 107396.6019 - mean_absolute_error: 160.2092\n",
            "Epoch 17/35\n",
            "19478117/19478117 [==============================] - 291s 15us/step - loss: 107048.1158 - mean_absolute_error: 159.5632\n",
            "Epoch 18/35\n",
            "19478117/19478117 [==============================] - 292s 15us/step - loss: 106751.9924 - mean_absolute_error: 159.0078\n",
            "Epoch 19/35\n",
            "19478117/19478117 [==============================] - 293s 15us/step - loss: 106508.0269 - mean_absolute_error: 158.4657\n",
            "Epoch 20/35\n",
            "19478117/19478117 [==============================] - 292s 15us/step - loss: 106309.9740 - mean_absolute_error: 158.0507\n",
            "Epoch 21/35\n",
            "19478117/19478117 [==============================] - 293s 15us/step - loss: 106153.6617 - mean_absolute_error: 157.6796\n",
            "Epoch 22/35\n",
            "19478117/19478117 [==============================] - 293s 15us/step - loss: 106033.5412 - mean_absolute_error: 157.3820\n",
            "Epoch 23/35\n",
            "19478117/19478117 [==============================] - 290s 15us/step - loss: 105940.0574 - mean_absolute_error: 157.0773\n",
            "Epoch 24/35\n",
            "19478117/19478117 [==============================] - 290s 15us/step - loss: 105868.3779 - mean_absolute_error: 156.8521\n",
            "Epoch 25/35\n",
            "19478117/19478117 [==============================] - 291s 15us/step - loss: 105813.4491 - mean_absolute_error: 156.6378\n",
            "Epoch 26/35\n",
            "19478117/19478117 [==============================] - 290s 15us/step - loss: 105770.6391 - mean_absolute_error: 156.4252\n",
            "Epoch 27/35\n",
            "19478117/19478117 [==============================] - 290s 15us/step - loss: 105735.8560 - mean_absolute_error: 156.3322\n",
            "Epoch 28/35\n",
            "19478117/19478117 [==============================] - 292s 15us/step - loss: 105706.4971 - mean_absolute_error: 156.0943\n",
            "Epoch 29/35\n",
            "19478117/19478117 [==============================] - 290s 15us/step - loss: 105680.3157 - mean_absolute_error: 156.0256\n",
            "Epoch 30/35\n",
            "19478117/19478117 [==============================] - 290s 15us/step - loss: 105656.0742 - mean_absolute_error: 155.8602\n",
            "Epoch 31/35\n",
            "19478117/19478117 [==============================] - 291s 15us/step - loss: 105632.8353 - mean_absolute_error: 155.7311\n",
            "Epoch 32/35\n",
            "19478117/19478117 [==============================] - 290s 15us/step - loss: 105610.2976 - mean_absolute_error: 155.6745\n",
            "Epoch 33/35\n",
            "19478117/19478117 [==============================] - 290s 15us/step - loss: 105588.0782 - mean_absolute_error: 155.5301\n",
            "Epoch 34/35\n",
            "19478117/19478117 [==============================] - 294s 15us/step - loss: 105566.0811 - mean_absolute_error: 155.4966\n",
            "Epoch 35/35\n",
            "19478117/19478117 [==============================] - 291s 15us/step - loss: 105544.3447 - mean_absolute_error: 155.4154\n"
          ],
          "name": "stdout"
        },
        {
          "output_type": "error",
          "ename": "ModuleNotFoundError",
          "evalue": "ignored",
          "traceback": [
            "\u001b[0;31m---------------------------------------------------------------------------\u001b[0m",
            "\u001b[0;31mModuleNotFoundError\u001b[0m                       Traceback (most recent call last)",
            "\u001b[0;32m<ipython-input-2-dfe689722f9e>\u001b[0m in \u001b[0;36m<module>\u001b[0;34m()\u001b[0m\n\u001b[1;32m     35\u001b[0m \u001b[0;34m\u001b[0m\u001b[0m\n\u001b[1;32m     36\u001b[0m \u001b[0mtraining_history\u001b[0m \u001b[0;34m=\u001b[0m \u001b[0mneural_network\u001b[0m\u001b[0;34m.\u001b[0m\u001b[0mfit\u001b[0m\u001b[0;34m(\u001b[0m\u001b[0mTraining_data\u001b[0m\u001b[0;34m.\u001b[0m\u001b[0mcopy\u001b[0m\u001b[0;34m(\u001b[0m\u001b[0;34m)\u001b[0m\u001b[0;34m.\u001b[0m\u001b[0mdrop\u001b[0m\u001b[0;34m(\u001b[0m\u001b[0;34m[\u001b[0m\u001b[0;34m'yield'\u001b[0m\u001b[0;34m]\u001b[0m\u001b[0;34m,\u001b[0m\u001b[0maxis\u001b[0m\u001b[0;34m=\u001b[0m\u001b[0;36m1\u001b[0m\u001b[0;34m)\u001b[0m\u001b[0;34m,\u001b[0m \u001b[0mTraining_data\u001b[0m\u001b[0;34m[\u001b[0m\u001b[0;34m'yield'\u001b[0m\u001b[0;34m]\u001b[0m\u001b[0;34m,\u001b[0m \u001b[0mepochs\u001b[0m\u001b[0;34m=\u001b[0m\u001b[0;36m35\u001b[0m\u001b[0;34m,\u001b[0m \u001b[0mbatch_size\u001b[0m\u001b[0;34m=\u001b[0m\u001b[0;36m1000000\u001b[0m\u001b[0;34m)\u001b[0m\u001b[0;34m\u001b[0m\u001b[0;34m\u001b[0m\u001b[0m\n\u001b[0;32m---> 37\u001b[0;31m \u001b[0;32mfrom\u001b[0m \u001b[0mdump\u001b[0m \u001b[0;32mimport\u001b[0m \u001b[0mdump\u001b[0m\u001b[0;34m,\u001b[0m \u001b[0mload\u001b[0m\u001b[0;34m\u001b[0m\u001b[0;34m\u001b[0m\u001b[0m\n\u001b[0m\u001b[1;32m     38\u001b[0m \u001b[0mdump\u001b[0m\u001b[0;34m(\u001b[0m\u001b[0mtraining_history\u001b[0m\u001b[0;34m,\u001b[0m\u001b[0;34m'/content/drive/My Drive/neural_net_object.joblib'\u001b[0m\u001b[0;34m)\u001b[0m\u001b[0;34m\u001b[0m\u001b[0;34m\u001b[0m\u001b[0m\n\u001b[1;32m     39\u001b[0m \u001b[0mdone\u001b[0m \u001b[0;34m=\u001b[0m \u001b[0mtime\u001b[0m\u001b[0;34m.\u001b[0m\u001b[0mtime\u001b[0m\u001b[0;34m(\u001b[0m\u001b[0;34m)\u001b[0m\u001b[0;34m\u001b[0m\u001b[0;34m\u001b[0m\u001b[0m\n",
            "\u001b[0;31mModuleNotFoundError\u001b[0m: No module named 'dump'",
            "",
            "\u001b[0;31m---------------------------------------------------------------------------\u001b[0;32m\nNOTE: If your import is failing due to a missing package, you can\nmanually install dependencies using either !pip or !apt.\n\nTo view examples of installing some common dependencies, click the\n\"Open Examples\" button below.\n\u001b[0;31m---------------------------------------------------------------------------\u001b[0m\n"
          ]
        }
      ]
    },
    {
      "cell_type": "code",
      "metadata": {
        "id": "A4daFq88eJ6M",
        "colab_type": "code",
        "outputId": "ae72a3b9-dbaf-4aba-e134-040d4201d890",
        "colab": {
          "base_uri": "https://localhost:8080/",
          "height": 34
        }
      },
      "source": [
        "from joblib import dump,load\n",
        "dump(training_history,'/content/drive/My Drive/neural_net_model.joblib')"
      ],
      "execution_count": 0,
      "outputs": [
        {
          "output_type": "execute_result",
          "data": {
            "text/plain": [
              "['/content/drive/My Drive/neural_net_model.joblib']"
            ]
          },
          "metadata": {
            "tags": []
          },
          "execution_count": 4
        }
      ]
    },
    {
      "cell_type": "code",
      "metadata": {
        "id": "HjsLtX5zTZhv",
        "colab_type": "code",
        "outputId": "1f7b53a8-27a8-42b1-a587-1822df9ca435",
        "colab": {
          "base_uri": "https://localhost:8080/",
          "height": 34
        }
      },
      "source": [
        "from joblib import dump,load\n",
        "dump(neural_network,'/content/drive/My Drive/neural_net.joblib')"
      ],
      "execution_count": 0,
      "outputs": [
        {
          "output_type": "execute_result",
          "data": {
            "text/plain": [
              "['/content/drive/My Drive/neural_net.joblib']"
            ]
          },
          "metadata": {
            "tags": []
          },
          "execution_count": 5
        }
      ]
    },
    {
      "cell_type": "code",
      "metadata": {
        "id": "jUYPZuT3TqTa",
        "colab_type": "code",
        "outputId": "75d7bc00-4a7c-48a1-dd8f-cbcc3db03b83",
        "colab": {
          "base_uri": "https://localhost:8080/",
          "height": 238
        }
      },
      "source": [
        "np.array(load('/content/drive/My Drive/new_test_data_fully_model_ready.joblib'))"
      ],
      "execution_count": 0,
      "outputs": [
        {
          "output_type": "execute_result",
          "data": {
            "text/plain": [
              "array([[0.00000000e+00, 2.52696160e+02, 8.00000000e+00, ...,\n",
              "        0.00000000e+00, 6.57617613e+05, 6.57617613e+05],\n",
              "       [0.00000000e+00, 4.99446528e+02, 8.00000000e+00, ...,\n",
              "        0.00000000e+00, 1.27819364e+05, 1.27819364e+05],\n",
              "       [0.00000000e+00, 2.20040755e+03, 8.00000000e+00, ...,\n",
              "        0.00000000e+00, 2.06907090e+06, 2.06907090e+06],\n",
              "       ...,\n",
              "       [0.00000000e+00, 1.74329692e+04, 1.00000000e+00, ...,\n",
              "        0.00000000e+00, 3.08566960e+06, 2.41612870e+06],\n",
              "       [0.00000000e+00, 1.86672785e+04, 1.00000000e+00, ...,\n",
              "        0.00000000e+00, 3.21645936e+06, 3.07927567e+06],\n",
              "       [1.00000000e+00, 1.86672785e+04, 1.00000000e+00, ...,\n",
              "        3.50500000e+03, 3.21645936e+06, 1.37183692e+05]])"
            ]
          },
          "metadata": {
            "tags": []
          },
          "execution_count": 8
        }
      ]
    },
    {
      "cell_type": "code",
      "metadata": {
        "id": "MJpga1ygUUcQ",
        "colab_type": "code",
        "outputId": "6e7a6bf8-09a2-4d61-e52a-2a2b06caae37",
        "colab": {
          "base_uri": "https://localhost:8080/",
          "height": 51
        }
      },
      "source": [
        "neural_network.predict(np.array(load('/content/drive/My Drive/new_test_data_fully_model_ready.joblib'))).reshape((999999, ))"
      ],
      "execution_count": 0,
      "outputs": [
        {
          "output_type": "execute_result",
          "data": {
            "text/plain": [
              "array([ 96.063194,  25.31671 , 285.04562 , ..., 350.67615 , 429.57767 ,\n",
              "       122.30116 ], dtype=float32)"
            ]
          },
          "metadata": {
            "tags": []
          },
          "execution_count": 12
        }
      ]
    },
    {
      "cell_type": "code",
      "metadata": {
        "id": "qB0PZA2UUtkP",
        "colab_type": "code",
        "outputId": "263514ef-975d-4882-9aa4-6f8f57c90043",
        "colab": {
          "base_uri": "https://localhost:8080/",
          "height": 221
        }
      },
      "source": [
        "pd.Series(neural_network.predict(np.array(load('/content/drive/My Drive/new_test_data_fully_model_ready.joblib'))).reshape((999999, )))"
      ],
      "execution_count": 0,
      "outputs": [
        {
          "output_type": "execute_result",
          "data": {
            "text/plain": [
              "0          96.063194\n",
              "1          25.316710\n",
              "2         285.045624\n",
              "3          22.292267\n",
              "4          29.287058\n",
              "             ...    \n",
              "999994    396.196686\n",
              "999995    121.228790\n",
              "999996    350.676147\n",
              "999997    429.577667\n",
              "999998    122.301163\n",
              "Length: 999999, dtype: float32"
            ]
          },
          "metadata": {
            "tags": []
          },
          "execution_count": 15
        }
      ]
    },
    {
      "cell_type": "code",
      "metadata": {
        "id": "rD28Iza7U55r",
        "colab_type": "code",
        "colab": {}
      },
      "source": [
        "neural_net_model=pd.DataFrame(columns=['id','yield'])\n",
        "neural_net_model['id']=pd.read_csv('/content/drive/My Drive/sample_submission1-1578562773139.csv')['id']\n",
        "neural_net_model['yield']=pd.Series(neural_network.predict(np.array(load('/content/drive/My Drive/new_test_data_fully_model_ready.joblib'))).reshape((999999, )))\n",
        "neural_net_model.to_csv('/content/drive/My Drive/neural_net_submission.csv',index=False)"
      ],
      "execution_count": 0,
      "outputs": []
    },
    {
      "cell_type": "code",
      "metadata": {
        "id": "qwFx-RuuXbDh",
        "colab_type": "code",
        "outputId": "87300c4d-7545-42fc-d0fe-2583e48dbcb7",
        "colab": {
          "base_uri": "https://localhost:8080/",
          "height": 419
        }
      },
      "source": [
        "neural_net_model"
      ],
      "execution_count": 0,
      "outputs": [
        {
          "output_type": "execute_result",
          "data": {
            "text/html": [
              "<div>\n",
              "<style scoped>\n",
              "    .dataframe tbody tr th:only-of-type {\n",
              "        vertical-align: middle;\n",
              "    }\n",
              "\n",
              "    .dataframe tbody tr th {\n",
              "        vertical-align: top;\n",
              "    }\n",
              "\n",
              "    .dataframe thead th {\n",
              "        text-align: right;\n",
              "    }\n",
              "</style>\n",
              "<table border=\"1\" class=\"dataframe\">\n",
              "  <thead>\n",
              "    <tr style=\"text-align: right;\">\n",
              "      <th></th>\n",
              "      <th>id</th>\n",
              "      <th>yield</th>\n",
              "    </tr>\n",
              "  </thead>\n",
              "  <tbody>\n",
              "    <tr>\n",
              "      <th>0</th>\n",
              "      <td>1</td>\n",
              "      <td>96.063194</td>\n",
              "    </tr>\n",
              "    <tr>\n",
              "      <th>1</th>\n",
              "      <td>2</td>\n",
              "      <td>25.316710</td>\n",
              "    </tr>\n",
              "    <tr>\n",
              "      <th>2</th>\n",
              "      <td>3</td>\n",
              "      <td>285.045624</td>\n",
              "    </tr>\n",
              "    <tr>\n",
              "      <th>3</th>\n",
              "      <td>4</td>\n",
              "      <td>22.292267</td>\n",
              "    </tr>\n",
              "    <tr>\n",
              "      <th>4</th>\n",
              "      <td>5</td>\n",
              "      <td>29.287058</td>\n",
              "    </tr>\n",
              "    <tr>\n",
              "      <th>...</th>\n",
              "      <td>...</td>\n",
              "      <td>...</td>\n",
              "    </tr>\n",
              "    <tr>\n",
              "      <th>999994</th>\n",
              "      <td>999995</td>\n",
              "      <td>396.196686</td>\n",
              "    </tr>\n",
              "    <tr>\n",
              "      <th>999995</th>\n",
              "      <td>999996</td>\n",
              "      <td>121.228790</td>\n",
              "    </tr>\n",
              "    <tr>\n",
              "      <th>999996</th>\n",
              "      <td>999997</td>\n",
              "      <td>350.676147</td>\n",
              "    </tr>\n",
              "    <tr>\n",
              "      <th>999997</th>\n",
              "      <td>999998</td>\n",
              "      <td>429.577667</td>\n",
              "    </tr>\n",
              "    <tr>\n",
              "      <th>999998</th>\n",
              "      <td>999999</td>\n",
              "      <td>122.301163</td>\n",
              "    </tr>\n",
              "  </tbody>\n",
              "</table>\n",
              "<p>999999 rows × 2 columns</p>\n",
              "</div>"
            ],
            "text/plain": [
              "            id       yield\n",
              "0            1   96.063194\n",
              "1            2   25.316710\n",
              "2            3  285.045624\n",
              "3            4   22.292267\n",
              "4            5   29.287058\n",
              "...        ...         ...\n",
              "999994  999995  396.196686\n",
              "999995  999996  121.228790\n",
              "999996  999997  350.676147\n",
              "999997  999998  429.577667\n",
              "999998  999999  122.301163\n",
              "\n",
              "[999999 rows x 2 columns]"
            ]
          },
          "metadata": {
            "tags": []
          },
          "execution_count": 22
        }
      ]
    },
    {
      "cell_type": "code",
      "metadata": {
        "id": "PUGu4sbcX6U5",
        "colab_type": "code",
        "colab": {}
      },
      "source": [
        "import time\n",
        "start = time.time()\n",
        "\n",
        "from joblib import  dump, load\n",
        "Training_data=load('/content/drive/My Drive/train_data_model_building.joblib')\n",
        "\n",
        "#x=Training_data.copy().drop(['yield'],axis=1)\n",
        "#y=Training_data['yield']\n",
        "\n",
        "\n",
        "#from sklearn import model_selection\n",
        "\n",
        "#X_train,X_test,Y_train,Y_test=model_selection.train_test_split(x,y,test_size=0.3,random_state=10)\n",
        "\n",
        "\n",
        "from sklearn.tree import DecisionTreeRegressor\n",
        "params={'max_depth': 5, 'min_samples_leaf': 100, 'min_samples_split': 4}\n",
        "regressor = DecisionTreeRegressor(**params)\n",
        "#regressor = DecisionTreeRegressor()\n",
        "decision_tree_model=regressor.fit(Training_data.copy().drop(['yield'],axis=1), Training_data['yield'])\n",
        "\n",
        "Y_pred_train = decision_tree_model.predict(X_train)\n",
        "Y_pred_test=decision_tree_model.predict(X_test)\n",
        "from sklearn.metrics import mean_squared_error\n",
        "mse_train=mean_squared_error(Y_train,Y_pred_train)\n",
        "mse_test=mean_squared_error(Y_test,Y_pred_test)\n",
        "\n",
        "import numpy as np \n",
        "rmse_test=np.sqrt(mse_test)\n",
        "rmse_train=np.sqrt(mse_train)\n",
        "print(\"Train RMSE\")\n",
        "print(np.sqrt(mse_train))\n",
        "print(\"Validation RMSE\")\n",
        "print(np.sqrt(mse_test))\n",
        "\n",
        "done = time.time()\n",
        "elapsed = done - start\n",
        "print(elapsed)\n",
        "\n",
        "\n"
      ],
      "execution_count": 0,
      "outputs": []
    },
    {
      "cell_type": "code",
      "metadata": {
        "id": "T-avOG-Ddz2w",
        "colab_type": "code",
        "colab": {}
      },
      "source": [
        "\n",
        "\n",
        "from joblib import  dump, load\n",
        "Training_data=load('/content/drive/My Drive/train_data_model_building.joblib')\n",
        "\n",
        "from sklearn.tree import DecisionTreeRegressor\n",
        "#params={'max_depth': 5, 'min_samples_leaf': 100, 'min_samples_split': 4}\n",
        "#regressor = DecisionTreeRegressor(**params)\n",
        "regressor = DecisionTreeRegressor()\n",
        "decision_tree_model=regressor.fit(Training_data.copy().drop(['yield'],axis=1), Training_data['yield'])\n",
        "\n",
        "neural_net_model=pd.DataFrame(columns=['id','yield'])\n",
        "neural_net_model['id']=pd.read_csv('/content/drive/My Drive/sample_submission1-1578562773139.csv')['id']\n",
        "neural_net_model['yield']=pd.Series(decision_tree_model.predict(load('/content/drive/My Drive/new_test_data_fully_model_ready.joblib')))\n",
        "neural_net_model.to_csv('/content/drive/My Drive/decision-tree_basic_submission.csv',index=False)"
      ],
      "execution_count": 0,
      "outputs": []
    },
    {
      "cell_type": "code",
      "metadata": {
        "id": "nq_jiFFveYnt",
        "colab_type": "code",
        "colab": {}
      },
      "source": [
        ""
      ],
      "execution_count": 0,
      "outputs": []
    }
  ]
}