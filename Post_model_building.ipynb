{
  "nbformat": 4,
  "nbformat_minor": 0,
  "metadata": {
    "colab": {
      "name": "Post_model_building.ipynb",
      "provenance": []
    },
    "kernelspec": {
      "name": "python3",
      "display_name": "Python 3"
    }
  },
  "cells": [
    {
      "cell_type": "code",
      "metadata": {
        "id": "6l-uQ8UtKm1R",
        "colab_type": "code",
        "colab": {}
      },
      "source": [
        ""
      ],
      "execution_count": 0,
      "outputs": []
    },
    {
      "cell_type": "code",
      "metadata": {
        "id": "lbYzl68zKvpo",
        "colab_type": "code",
        "colab": {
          "base_uri": "https://localhost:8080/",
          "height": 122
        },
        "outputId": "5dc16222-4f8f-4766-f5c4-7889a63f5655"
      },
      "source": [
        "from google.colab import drive\n",
        "drive.mount('/content/drive')"
      ],
      "execution_count": 1,
      "outputs": [
        {
          "output_type": "stream",
          "text": [
            "Go to this URL in a browser: https://accounts.google.com/o/oauth2/auth?client_id=947318989803-6bn6qk8qdgf4n4g3pfee6491hc0brc4i.apps.googleusercontent.com&redirect_uri=urn%3aietf%3awg%3aoauth%3a2.0%3aoob&response_type=code&scope=email%20https%3a%2f%2fwww.googleapis.com%2fauth%2fdocs.test%20https%3a%2f%2fwww.googleapis.com%2fauth%2fdrive%20https%3a%2f%2fwww.googleapis.com%2fauth%2fdrive.photos.readonly%20https%3a%2f%2fwww.googleapis.com%2fauth%2fpeopleapi.readonly\n",
            "\n",
            "Enter your authorization code:\n",
            "··········\n",
            "Mounted at /content/drive\n"
          ],
          "name": "stdout"
        }
      ]
    },
    {
      "cell_type": "code",
      "metadata": {
        "id": "YMD4Qq18KwPO",
        "colab_type": "code",
        "colab": {}
      },
      "source": [
        "import pandas as pd\n",
        "import numpy as np\n",
        "from joblib import dump,load"
      ],
      "execution_count": 0,
      "outputs": []
    },
    {
      "cell_type": "code",
      "metadata": {
        "id": "GNIYgPNoLNQL",
        "colab_type": "code",
        "colab": {
          "base_uri": "https://localhost:8080/",
          "height": 419
        },
        "outputId": "948be187-ca17-4e52-937d-4057925c9bf7"
      },
      "source": [
        "pd.read_csv('/content/drive/My Drive/Sudheer Projects/phd/final_submission.csv')"
      ],
      "execution_count": 3,
      "outputs": [
        {
          "output_type": "execute_result",
          "data": {
            "text/html": [
              "<div>\n",
              "<style scoped>\n",
              "    .dataframe tbody tr th:only-of-type {\n",
              "        vertical-align: middle;\n",
              "    }\n",
              "\n",
              "    .dataframe tbody tr th {\n",
              "        vertical-align: top;\n",
              "    }\n",
              "\n",
              "    .dataframe thead th {\n",
              "        text-align: right;\n",
              "    }\n",
              "</style>\n",
              "<table border=\"1\" class=\"dataframe\">\n",
              "  <thead>\n",
              "    <tr style=\"text-align: right;\">\n",
              "      <th></th>\n",
              "      <th>id</th>\n",
              "      <th>yield</th>\n",
              "    </tr>\n",
              "  </thead>\n",
              "  <tbody>\n",
              "    <tr>\n",
              "      <th>0</th>\n",
              "      <td>0</td>\n",
              "      <td>0.000000</td>\n",
              "    </tr>\n",
              "    <tr>\n",
              "      <th>1</th>\n",
              "      <td>1</td>\n",
              "      <td>47.553911</td>\n",
              "    </tr>\n",
              "    <tr>\n",
              "      <th>2</th>\n",
              "      <td>2</td>\n",
              "      <td>2.949348</td>\n",
              "    </tr>\n",
              "    <tr>\n",
              "      <th>3</th>\n",
              "      <td>3</td>\n",
              "      <td>0.000000</td>\n",
              "    </tr>\n",
              "    <tr>\n",
              "      <th>4</th>\n",
              "      <td>4</td>\n",
              "      <td>62.214539</td>\n",
              "    </tr>\n",
              "    <tr>\n",
              "      <th>...</th>\n",
              "      <td>...</td>\n",
              "      <td>...</td>\n",
              "    </tr>\n",
              "    <tr>\n",
              "      <th>20848795</th>\n",
              "      <td>41696845</td>\n",
              "      <td>0.547335</td>\n",
              "    </tr>\n",
              "    <tr>\n",
              "      <th>20848796</th>\n",
              "      <td>41696846</td>\n",
              "      <td>244.282582</td>\n",
              "    </tr>\n",
              "    <tr>\n",
              "      <th>20848797</th>\n",
              "      <td>41696847</td>\n",
              "      <td>255.087500</td>\n",
              "    </tr>\n",
              "    <tr>\n",
              "      <th>20848798</th>\n",
              "      <td>41696848</td>\n",
              "      <td>0.000110</td>\n",
              "    </tr>\n",
              "    <tr>\n",
              "      <th>20848799</th>\n",
              "      <td>41696849</td>\n",
              "      <td>239.045818</td>\n",
              "    </tr>\n",
              "  </tbody>\n",
              "</table>\n",
              "<p>20848800 rows × 2 columns</p>\n",
              "</div>"
            ],
            "text/plain": [
              "                id       yield\n",
              "0                0    0.000000\n",
              "1                1   47.553911\n",
              "2                2    2.949348\n",
              "3                3    0.000000\n",
              "4                4   62.214539\n",
              "...            ...         ...\n",
              "20848795  41696845    0.547335\n",
              "20848796  41696846  244.282582\n",
              "20848797  41696847  255.087500\n",
              "20848798  41696848    0.000110\n",
              "20848799  41696849  239.045818\n",
              "\n",
              "[20848800 rows x 2 columns]"
            ]
          },
          "metadata": {
            "tags": []
          },
          "execution_count": 3
        }
      ]
    },
    {
      "cell_type": "code",
      "metadata": {
        "id": "TZ2iDqqWLRGT",
        "colab_type": "code",
        "colab": {}
      },
      "source": [
        "test_pedictions_2017=pd.merge(pd.read_csv('/content/drive/My Drive/Sudheer Projects/phd/test_data.csv'),pd.read_csv('/content/drive/My Drive/Sudheer Projects/phd/final_submission.csv'),on=['id'],how='left')[pd.merge(pd.read_csv('/content/drive/My Drive/Sudheer Projects/phd/test_data.csv'),pd.read_csv('/content/drive/My Drive/Sudheer Projects/phd/final_submission.csv'),on=['id'],how='left')['ingredient_type']=='ing_w']"
      ],
      "execution_count": 0,
      "outputs": []
    },
    {
      "cell_type": "code",
      "metadata": {
        "id": "dS7yXaa-Ldm7",
        "colab_type": "code",
        "colab": {}
      },
      "source": [
        "train_ing_w_data=load('/content/drive/My Drive/Sudheer Projects/phd/Pure_code/train_data_Trainfull.joblib')[load('/content/drive/My Drive/Sudheer Projects/phd/Pure_code/train_data_Trainfull.joblib')['ingredient_type']=='ing_w']"
      ],
      "execution_count": 0,
      "outputs": []
    },
    {
      "cell_type": "code",
      "metadata": {
        "id": "_xlK0Ki0M2k6",
        "colab_type": "code",
        "colab": {}
      },
      "source": [
        "test_pedictions_2017.drop(['id','ingredient_type','farm_id'],axis=1,inplace=True)"
      ],
      "execution_count": 0,
      "outputs": []
    },
    {
      "cell_type": "code",
      "metadata": {
        "id": "HTMpniwCPL12",
        "colab_type": "code",
        "colab": {}
      },
      "source": [
        "train_ing_w_data.drop(['ingredient_type','farm_id'],axis=1,inplace=True)"
      ],
      "execution_count": 0,
      "outputs": []
    },
    {
      "cell_type": "code",
      "metadata": {
        "id": "RT7iPJGMPZ9l",
        "colab_type": "code",
        "colab": {}
      },
      "source": [
        "train_ing_w_data=train_ing_w_data.groupby('date',as_index=False).sum()"
      ],
      "execution_count": 0,
      "outputs": []
    },
    {
      "cell_type": "code",
      "metadata": {
        "id": "gIaYTUasPkQO",
        "colab_type": "code",
        "colab": {}
      },
      "source": [
        "test_pedictions_2017=test_pedictions_2017.groupby('date',as_index=False).sum()"
      ],
      "execution_count": 0,
      "outputs": []
    },
    {
      "cell_type": "code",
      "metadata": {
        "id": "4Szp_5rFP6vh",
        "colab_type": "code",
        "colab": {}
      },
      "source": [
        "train_ing_w_data['date']=train_ing_w_data['date'].astype('datetime64[ns]')\n",
        "test_pedictions_2017['date']=test_pedictions_2017['date'].astype('datetime64[ns]')"
      ],
      "execution_count": 0,
      "outputs": []
    },
    {
      "cell_type": "code",
      "metadata": {
        "id": "nChF_nB_QRPf",
        "colab_type": "code",
        "colab": {
          "base_uri": "https://localhost:8080/",
          "height": 604
        },
        "outputId": "5efa9041-d563-4aea-bd5f-69781d5b6d4f"
      },
      "source": [
        "train_ing_w_data.set_index('date').resample('M').sum().plot()\n",
        "test_pedictions_2017.set_index('date').resample('M').sum().plot()"
      ],
      "execution_count": 25,
      "outputs": [
        {
          "output_type": "execute_result",
          "data": {
            "text/plain": [
              "<matplotlib.axes._subplots.AxesSubplot at 0x7fd04a5fac18>"
            ]
          },
          "metadata": {
            "tags": []
          },
          "execution_count": 25
        },
        {
          "output_type": "display_data",
          "data": {
            "image/png": "[encoded data removed]",
            "text/plain": [
              "<Figure size 432x288 with 1 Axes>"
            ]
          },
          "metadata": {
            "tags": []
          }
        },
        {
          "output_type": "display_data",
          "data": {
            "image/png": "[encoded data removed]",
            "text/plain": [
              "<Figure size 432x288 with 1 Axes>"
            ]
          },
          "metadata": {
            "tags": []
          }
        }
      ]
    },
    {
      "cell_type": "code",
      "metadata": {
        "id": "p6xBvCzeQ1db",
        "colab_type": "code",
        "colab": {
          "base_uri": "https://localhost:8080/",
          "height": 536
        },
        "outputId": "1d2d4497-4cf9-4949-f31d-6ea910950a35"
      },
      "source": [
        "pd.concat([train_ing_w_data,test_pedictions_2017],axis=0).set_index('date').resample('M').sum().plot(figsize=(12,8))"
      ],
      "execution_count": 36,
      "outputs": [
        {
          "output_type": "execute_result",
          "data": {
            "text/plain": [
              "<matplotlib.axes._subplots.AxesSubplot at 0x7fd0487fe908>"
            ]
          },
          "metadata": {
            "tags": []
          },
          "execution_count": 36
        },
        {
          "output_type": "display_data",
          "data": {
            "image/png": "[encoded data removed]",
            "text/plain": [
              "<Figure size 864x576 with 1 Axes>"
            ]
          },
          "metadata": {
            "tags": []
          }
        }
      ]
    },
    {
      "cell_type": "code",
      "metadata": {
        "id": "XhCj_NZcVNsx",
        "colab_type": "code",
        "colab": {
          "base_uri": "https://localhost:8080/",
          "height": 419
        },
        "outputId": "2e65003e-9af4-4f16-a765-3a783b112bb4"
      },
      "source": [
        "pd.concat([train_ing_w_data,test_pedictions_2017],axis=0)"
      ],
      "execution_count": 34,
      "outputs": [
        {
          "output_type": "execute_result",
          "data": {
            "text/html": [
              "<div>\n",
              "<style scoped>\n",
              "    .dataframe tbody tr th:only-of-type {\n",
              "        vertical-align: middle;\n",
              "    }\n",
              "\n",
              "    .dataframe tbody tr th {\n",
              "        vertical-align: top;\n",
              "    }\n",
              "\n",
              "    .dataframe thead th {\n",
              "        text-align: right;\n",
              "    }\n",
              "</style>\n",
              "<table border=\"1\" class=\"dataframe\">\n",
              "  <thead>\n",
              "    <tr style=\"text-align: right;\">\n",
              "      <th></th>\n",
              "      <th>date</th>\n",
              "      <th>yield</th>\n",
              "    </tr>\n",
              "  </thead>\n",
              "  <tbody>\n",
              "    <tr>\n",
              "      <th>0</th>\n",
              "      <td>2016-01-01 00:00:00</td>\n",
              "      <td>146796.970800</td>\n",
              "    </tr>\n",
              "    <tr>\n",
              "      <th>1</th>\n",
              "      <td>2016-01-01 01:00:00</td>\n",
              "      <td>166439.582600</td>\n",
              "    </tr>\n",
              "    <tr>\n",
              "      <th>2</th>\n",
              "      <td>2016-01-01 02:00:00</td>\n",
              "      <td>166652.518400</td>\n",
              "    </tr>\n",
              "    <tr>\n",
              "      <th>3</th>\n",
              "      <td>2016-01-01 03:00:00</td>\n",
              "      <td>166988.530800</td>\n",
              "    </tr>\n",
              "    <tr>\n",
              "      <th>4</th>\n",
              "      <td>2016-01-01 04:00:00</td>\n",
              "      <td>167381.497000</td>\n",
              "    </tr>\n",
              "    <tr>\n",
              "      <th>...</th>\n",
              "      <td>...</td>\n",
              "      <td>...</td>\n",
              "    </tr>\n",
              "    <tr>\n",
              "      <th>8755</th>\n",
              "      <td>2017-12-31 19:00:00</td>\n",
              "      <td>192924.331717</td>\n",
              "    </tr>\n",
              "    <tr>\n",
              "      <th>8756</th>\n",
              "      <td>2017-12-31 20:00:00</td>\n",
              "      <td>191401.076978</td>\n",
              "    </tr>\n",
              "    <tr>\n",
              "      <th>8757</th>\n",
              "      <td>2017-12-31 21:00:00</td>\n",
              "      <td>190163.920732</td>\n",
              "    </tr>\n",
              "    <tr>\n",
              "      <th>8758</th>\n",
              "      <td>2017-12-31 22:00:00</td>\n",
              "      <td>189137.710194</td>\n",
              "    </tr>\n",
              "    <tr>\n",
              "      <th>8759</th>\n",
              "      <td>2017-12-31 23:00:00</td>\n",
              "      <td>186273.469351</td>\n",
              "    </tr>\n",
              "  </tbody>\n",
              "</table>\n",
              "<p>17544 rows × 2 columns</p>\n",
              "</div>"
            ],
            "text/plain": [
              "                    date          yield\n",
              "0    2016-01-01 00:00:00  146796.970800\n",
              "1    2016-01-01 01:00:00  166439.582600\n",
              "2    2016-01-01 02:00:00  166652.518400\n",
              "3    2016-01-01 03:00:00  166988.530800\n",
              "4    2016-01-01 04:00:00  167381.497000\n",
              "...                  ...            ...\n",
              "8755 2017-12-31 19:00:00  192924.331717\n",
              "8756 2017-12-31 20:00:00  191401.076978\n",
              "8757 2017-12-31 21:00:00  190163.920732\n",
              "8758 2017-12-31 22:00:00  189137.710194\n",
              "8759 2017-12-31 23:00:00  186273.469351\n",
              "\n",
              "[17544 rows x 2 columns]"
            ]
          },
          "metadata": {
            "tags": []
          },
          "execution_count": 34
        }
      ]
    },
    {
      "cell_type": "code",
      "metadata": {
        "id": "5CPwCtxxYBZO",
        "colab_type": "code",
        "colab": {}
      },
      "source": [
        "demand=pd.read_csv('/content/drive/My Drive/Sudheer Projects/phd/demand.csv')"
      ],
      "execution_count": 0,
      "outputs": []
    },
    {
      "cell_type": "code",
      "metadata": {
        "id": "nttm7B7IZ9iA",
        "colab_type": "code",
        "colab": {}
      },
      "source": [
        "demand['date']=pd.Series(test_pedictions_2017.set_index('date').resample('M').sum().index)"
      ],
      "execution_count": 0,
      "outputs": []
    },
    {
      "cell_type": "code",
      "metadata": {
        "id": "Dm8tI4B3gkyE",
        "colab_type": "code",
        "colab": {}
      },
      "source": [
        "supply=pd.concat([train_ing_w_data,test_pedictions_2017],axis=0).set_index('date').resample('M').sum()"
      ],
      "execution_count": 0,
      "outputs": []
    },
    {
      "cell_type": "code",
      "metadata": {
        "id": "S2UOy-Keg9qC",
        "colab_type": "code",
        "colab": {}
      },
      "source": [
        "analysis=pd.merge(supply,demand,on=['date'],how='left').fillna(0)"
      ],
      "execution_count": 0,
      "outputs": []
    },
    {
      "cell_type": "code",
      "metadata": {
        "id": "Pi0ZqrJAouaT",
        "colab_type": "code",
        "colab": {
          "base_uri": "https://localhost:8080/",
          "height": 34
        },
        "outputId": "c6c44785-f7dd-4ea9-fab7-59a2a8b4a19e"
      },
      "source": [
        "analysis.columns"
      ],
      "execution_count": 116,
      "outputs": [
        {
          "output_type": "execute_result",
          "data": {
            "text/plain": [
              "Index(['yield', 'demand '], dtype='object')"
            ]
          },
          "metadata": {
            "tags": []
          },
          "execution_count": 116
        }
      ]
    },
    {
      "cell_type": "code",
      "metadata": {
        "id": "qGDjY8jbhA0I",
        "colab_type": "code",
        "colab": {}
      },
      "source": [
        "new_analysis=pd.DataFrame(columns=['date','supply_yield','demand_yield'])\n",
        "new_analysis['date']=pd.Series(analysis.index)\n",
        "new_analysis['supply_yield']=pd.Series(analysis['yield'].values)\n",
        "new_analysis['demand_yield']=pd.Series(analysis['demand\\xa0'].values)\n"
      ],
      "execution_count": 0,
      "outputs": []
    },
    {
      "cell_type": "code",
      "metadata": {
        "id": "dsiquluXhzwZ",
        "colab_type": "code",
        "colab": {
          "base_uri": "https://localhost:8080/",
          "height": 85
        },
        "outputId": "9aa42baa-4fc0-4528-bf6e-f9ae1daa0c9b"
      },
      "source": [
        "new_analysis.dtypes"
      ],
      "execution_count": 122,
      "outputs": [
        {
          "output_type": "execute_result",
          "data": {
            "text/plain": [
              "date            datetime64[ns]\n",
              "supply_yield           float64\n",
              "demand_yield            object\n",
              "dtype: object"
            ]
          },
          "metadata": {
            "tags": []
          },
          "execution_count": 122
        }
      ]
    },
    {
      "cell_type": "code",
      "metadata": {
        "id": "wugfjT_TiDvG",
        "colab_type": "code",
        "colab": {
          "base_uri": "https://localhost:8080/",
          "height": 388
        },
        "outputId": "a96647a0-fb2e-47a0-cacd-45f20043964a"
      },
      "source": [
        "import altair as alt\n",
        "chart1=alt.Chart(new_analysis).mark_line(color='green').encode(\n",
        "    x='date:T',\n",
        "    y='supply_yield:Q'\n",
        ").properties(width=800,height=300)\n",
        "chart2=alt.Chart(new_analysis).mark_line(color='red').encode(\n",
        "    x='date:T',\n",
        "    y='demand_yield:Q'\n",
        ").properties(width=800,height=300)\n",
        "chart1+chart2"
      ],
      "execution_count": 135,
      "outputs": [
        {
          "output_type": "execute_result",
          "data": {
            "text/plain": [
              "alt.LayerChart(...)"
            ],
            "text/html": [
              "\n",
              "<div id=\"altair-viz-9\"></div>\n",
              "<script type=\"text/javascript\">\n",
              "  (function(spec, embedOpt){\n",
              "    const outputDiv = document.getElementById(\"altair-viz-9\");\n",
              "    const paths = {\n",
              "      \"vega\": \"https://cdn.jsdelivr.net/npm//vega@5?noext\",\n",
              "      \"vega-lib\": \"https://cdn.jsdelivr.net/npm//vega-lib?noext\",\n",
              "      \"vega-lite\": \"https://cdn.jsdelivr.net/npm//vega-lite@4.0.0?noext\",\n",
              "      \"vega-embed\": \"https://cdn.jsdelivr.net/npm//vega-embed@6?noext\",\n",
              "    };\n",
              "\n",
              "    function loadScript(lib) {\n",
              "      return new Promise(function(resolve, reject) {\n",
              "        var s = document.createElement('script');\n",
              "        s.src = paths[lib];\n",
              "        s.async = true;\n",
              "        s.onload = () => resolve(paths[lib]);\n",
              "        s.onerror = () => reject(`Error loading script: ${paths[lib]}`);\n",
              "        document.getElementsByTagName(\"head\")[0].appendChild(s);\n",
              "      });\n",
              "    }\n",
              "\n",
              "    function showError(err) {\n",
              "      outputDiv.innerHTML = `<div class=\"error\" style=\"color:red;\">${err}</div>`;\n",
              "      throw err;\n",
              "    }\n",
              "\n",
              "    function displayChart(vegaEmbed) {\n",
              "      vegaEmbed(outputDiv, spec, embedOpt)\n",
              "        .catch(err => showError(`Javascript Error: ${err.message}<br>This usually means there's a typo in your chart specification. See the javascript console for the full traceback.`));\n",
              "    }\n",
              "\n",
              "    if(typeof define === \"function\" && define.amd) {\n",
              "      requirejs.config({paths});\n",
              "      require([\"vega-embed\"], displayChart, err => showError(`Error loading script: ${err.message}`));\n",
              "    } else if (typeof vegaEmbed === \"function\") {\n",
              "      displayChart(vegaEmbed);\n",
              "    } else {\n",
              "      loadScript(\"vega\")\n",
              "        .then(() => loadScript(\"vega-lite\"))\n",
              "        .then(() => loadScript(\"vega-embed\"))\n",
              "        .catch(showError)\n",
              "        .then(() => displayChart(vegaEmbed));\n",
              "    }\n",
              "  })({\"config\": {\"view\": {\"continuousWidth\": 400, \"continuousHeight\": 300}}, \"layer\": [{\"mark\": {\"type\": \"line\", \"color\": \"green\"}, \"encoding\": {\"x\": {\"type\": \"temporal\", \"field\": \"date\"}, \"y\": {\"type\": \"quantitative\", \"field\": \"supply_yield\"}}, \"height\": 300, \"width\": 800}, {\"mark\": {\"type\": \"line\", \"color\": \"red\"}, \"encoding\": {\"x\": {\"type\": \"temporal\", \"field\": \"date\"}, \"y\": {\"type\": \"quantitative\", \"field\": \"demand_yield\"}}, \"height\": 300, \"width\": 800}], \"data\": {\"name\": \"data-4dd25041e95fa8090ecab22f4ca8ee9f\"}, \"$schema\": \"https://vega.github.io/schema/vega-lite/v4.0.0.json\", \"datasets\": {\"data-4dd25041e95fa8090ecab22f4ca8ee9f\": [{\"date\": \"2016-01-31T00:00:00\", \"supply_yield\": 153950868.96559998, \"demand_yield\": 0.0, \"difference\": 153950868.96559998}, {\"date\": \"2016-02-29T00:00:00\", \"supply_yield\": 141905646.8470002, \"demand_yield\": 0.0, \"difference\": 141905646.8470002}, {\"date\": \"2016-03-31T00:00:00\", \"supply_yield\": 143103301.2557, \"demand_yield\": 0.0, \"difference\": 143103301.2557}, {\"date\": \"2016-04-30T00:00:00\", \"supply_yield\": 148603402.9917, \"demand_yield\": 0.0, \"difference\": 148603402.9917}, {\"date\": \"2016-05-31T00:00:00\", \"supply_yield\": 163189833.89799973, \"demand_yield\": 0.0, \"difference\": 163189833.89799973}, {\"date\": \"2016-06-30T00:00:00\", \"supply_yield\": 184191060.893, \"demand_yield\": 0.0, \"difference\": 184191060.893}, {\"date\": \"2016-07-31T00:00:00\", \"supply_yield\": 194266462.31600013, \"demand_yield\": 0.0, \"difference\": 194266462.31600013}, {\"date\": \"2016-08-31T00:00:00\", \"supply_yield\": 198839942.06899983, \"demand_yield\": 0.0, \"difference\": 198839942.06899983}, {\"date\": \"2016-09-30T00:00:00\", \"supply_yield\": 194734058.5155998, \"demand_yield\": 0.0, \"difference\": 194734058.5155998}, {\"date\": \"2016-10-31T00:00:00\", \"supply_yield\": 179880024.33759993, \"demand_yield\": 0.0, \"difference\": 179880024.33759993}, {\"date\": \"2016-11-30T00:00:00\", \"supply_yield\": 179235800.16160002, \"demand_yield\": 0.0, \"difference\": 179235800.16160002}, {\"date\": \"2016-12-31T00:00:00\", \"supply_yield\": 178412224.64119992, \"demand_yield\": 0.0, \"difference\": 178412224.64119992}, {\"date\": \"2017-01-31T00:00:00\", \"supply_yield\": 134426724.32960412, \"demand_yield\": 90430481.0, \"difference\": 43996243.32960412}, {\"date\": \"2017-02-28T00:00:00\", \"supply_yield\": 122273315.30026615, \"demand_yield\": 75344853.0, \"difference\": 46928462.30026615}, {\"date\": \"2017-03-31T00:00:00\", \"supply_yield\": 131934445.46329536, \"demand_yield\": 91917783.0, \"difference\": 40016662.463295355}, {\"date\": \"2017-04-30T00:00:00\", \"supply_yield\": 128258155.63651337, \"demand_yield\": 82591524.0, \"difference\": 45666631.63651337}, {\"date\": \"2017-05-31T00:00:00\", \"supply_yield\": 137208650.95651758, \"demand_yield\": 87419669.0, \"difference\": 49788981.95651758}, {\"date\": \"2017-06-30T00:00:00\", \"supply_yield\": 152353882.27639934, \"demand_yield\": 297500000.0, \"difference\": -145146117.72360066}, {\"date\": \"2017-07-31T00:00:00\", \"supply_yield\": 159606006.90301302, \"demand_yield\": 198900000.0, \"difference\": -39293993.09698698}, {\"date\": \"2017-08-31T00:00:00\", \"supply_yield\": 166317256.26721522, \"demand_yield\": 97367031.0, \"difference\": 68950225.26721522}, {\"date\": \"2017-09-30T00:00:00\", \"supply_yield\": 163596339.75685853, \"demand_yield\": 91049286.0, \"difference\": 72547053.75685853}, {\"date\": \"2017-10-31T00:00:00\", \"supply_yield\": 157170518.5520137, \"demand_yield\": 91755300.0, \"difference\": 65415218.552013695}, {\"date\": \"2017-11-30T00:00:00\", \"supply_yield\": 153188765.0228766, \"demand_yield\": 86533266.0, \"difference\": 66655499.02287659}, {\"date\": \"2017-12-31T00:00:00\", \"supply_yield\": 152420250.78814796, \"demand_yield\": 88514610.0, \"difference\": 63905640.788147956}]}}, {\"mode\": \"vega-lite\"});\n",
              "</script>"
            ]
          },
          "metadata": {
            "tags": []
          },
          "execution_count": 135
        }
      ]
    },
    {
      "cell_type": "code",
      "metadata": {
        "id": "lNaCkmNbiFep",
        "colab_type": "code",
        "colab": {}
      },
      "source": [
        "new_analysis['demand_yield']=new_analysis['demand_yield'].astype('float64')\n",
        "new_analysis['difference']=new_analysis['supply_yield']-new_analysis['demand_yield']\n"
      ],
      "execution_count": 0,
      "outputs": []
    },
    {
      "cell_type": "code",
      "metadata": {
        "id": "2H-bRyM5rc0c",
        "colab_type": "code",
        "colab": {
          "base_uri": "https://localhost:8080/",
          "height": 793
        },
        "outputId": "e5a17192-ecfa-4107-b073-a8b11c4a8445"
      },
      "source": [
        "new_analysis"
      ],
      "execution_count": 133,
      "outputs": [
        {
          "output_type": "execute_result",
          "data": {
            "text/html": [
              "<div>\n",
              "<style scoped>\n",
              "    .dataframe tbody tr th:only-of-type {\n",
              "        vertical-align: middle;\n",
              "    }\n",
              "\n",
              "    .dataframe tbody tr th {\n",
              "        vertical-align: top;\n",
              "    }\n",
              "\n",
              "    .dataframe thead th {\n",
              "        text-align: right;\n",
              "    }\n",
              "</style>\n",
              "<table border=\"1\" class=\"dataframe\">\n",
              "  <thead>\n",
              "    <tr style=\"text-align: right;\">\n",
              "      <th></th>\n",
              "      <th>date</th>\n",
              "      <th>supply_yield</th>\n",
              "      <th>demand_yield</th>\n",
              "      <th>difference</th>\n",
              "    </tr>\n",
              "  </thead>\n",
              "  <tbody>\n",
              "    <tr>\n",
              "      <th>0</th>\n",
              "      <td>2016-01-31</td>\n",
              "      <td>1.539509e+08</td>\n",
              "      <td>0.0</td>\n",
              "      <td>1.539509e+08</td>\n",
              "    </tr>\n",
              "    <tr>\n",
              "      <th>1</th>\n",
              "      <td>2016-02-29</td>\n",
              "      <td>1.419056e+08</td>\n",
              "      <td>0.0</td>\n",
              "      <td>1.419056e+08</td>\n",
              "    </tr>\n",
              "    <tr>\n",
              "      <th>2</th>\n",
              "      <td>2016-03-31</td>\n",
              "      <td>1.431033e+08</td>\n",
              "      <td>0.0</td>\n",
              "      <td>1.431033e+08</td>\n",
              "    </tr>\n",
              "    <tr>\n",
              "      <th>3</th>\n",
              "      <td>2016-04-30</td>\n",
              "      <td>1.486034e+08</td>\n",
              "      <td>0.0</td>\n",
              "      <td>1.486034e+08</td>\n",
              "    </tr>\n",
              "    <tr>\n",
              "      <th>4</th>\n",
              "      <td>2016-05-31</td>\n",
              "      <td>1.631898e+08</td>\n",
              "      <td>0.0</td>\n",
              "      <td>1.631898e+08</td>\n",
              "    </tr>\n",
              "    <tr>\n",
              "      <th>5</th>\n",
              "      <td>2016-06-30</td>\n",
              "      <td>1.841911e+08</td>\n",
              "      <td>0.0</td>\n",
              "      <td>1.841911e+08</td>\n",
              "    </tr>\n",
              "    <tr>\n",
              "      <th>6</th>\n",
              "      <td>2016-07-31</td>\n",
              "      <td>1.942665e+08</td>\n",
              "      <td>0.0</td>\n",
              "      <td>1.942665e+08</td>\n",
              "    </tr>\n",
              "    <tr>\n",
              "      <th>7</th>\n",
              "      <td>2016-08-31</td>\n",
              "      <td>1.988399e+08</td>\n",
              "      <td>0.0</td>\n",
              "      <td>1.988399e+08</td>\n",
              "    </tr>\n",
              "    <tr>\n",
              "      <th>8</th>\n",
              "      <td>2016-09-30</td>\n",
              "      <td>1.947341e+08</td>\n",
              "      <td>0.0</td>\n",
              "      <td>1.947341e+08</td>\n",
              "    </tr>\n",
              "    <tr>\n",
              "      <th>9</th>\n",
              "      <td>2016-10-31</td>\n",
              "      <td>1.798800e+08</td>\n",
              "      <td>0.0</td>\n",
              "      <td>1.798800e+08</td>\n",
              "    </tr>\n",
              "    <tr>\n",
              "      <th>10</th>\n",
              "      <td>2016-11-30</td>\n",
              "      <td>1.792358e+08</td>\n",
              "      <td>0.0</td>\n",
              "      <td>1.792358e+08</td>\n",
              "    </tr>\n",
              "    <tr>\n",
              "      <th>11</th>\n",
              "      <td>2016-12-31</td>\n",
              "      <td>1.784122e+08</td>\n",
              "      <td>0.0</td>\n",
              "      <td>1.784122e+08</td>\n",
              "    </tr>\n",
              "    <tr>\n",
              "      <th>12</th>\n",
              "      <td>2017-01-31</td>\n",
              "      <td>1.344267e+08</td>\n",
              "      <td>90430481.0</td>\n",
              "      <td>4.399624e+07</td>\n",
              "    </tr>\n",
              "    <tr>\n",
              "      <th>13</th>\n",
              "      <td>2017-02-28</td>\n",
              "      <td>1.222733e+08</td>\n",
              "      <td>75344853.0</td>\n",
              "      <td>4.692846e+07</td>\n",
              "    </tr>\n",
              "    <tr>\n",
              "      <th>14</th>\n",
              "      <td>2017-03-31</td>\n",
              "      <td>1.319344e+08</td>\n",
              "      <td>91917783.0</td>\n",
              "      <td>4.001666e+07</td>\n",
              "    </tr>\n",
              "    <tr>\n",
              "      <th>15</th>\n",
              "      <td>2017-04-30</td>\n",
              "      <td>1.282582e+08</td>\n",
              "      <td>82591524.0</td>\n",
              "      <td>4.566663e+07</td>\n",
              "    </tr>\n",
              "    <tr>\n",
              "      <th>16</th>\n",
              "      <td>2017-05-31</td>\n",
              "      <td>1.372087e+08</td>\n",
              "      <td>87419669.0</td>\n",
              "      <td>4.978898e+07</td>\n",
              "    </tr>\n",
              "    <tr>\n",
              "      <th>17</th>\n",
              "      <td>2017-06-30</td>\n",
              "      <td>1.523539e+08</td>\n",
              "      <td>297500000.0</td>\n",
              "      <td>-1.451461e+08</td>\n",
              "    </tr>\n",
              "    <tr>\n",
              "      <th>18</th>\n",
              "      <td>2017-07-31</td>\n",
              "      <td>1.596060e+08</td>\n",
              "      <td>198900000.0</td>\n",
              "      <td>-3.929399e+07</td>\n",
              "    </tr>\n",
              "    <tr>\n",
              "      <th>19</th>\n",
              "      <td>2017-08-31</td>\n",
              "      <td>1.663173e+08</td>\n",
              "      <td>97367031.0</td>\n",
              "      <td>6.895023e+07</td>\n",
              "    </tr>\n",
              "    <tr>\n",
              "      <th>20</th>\n",
              "      <td>2017-09-30</td>\n",
              "      <td>1.635963e+08</td>\n",
              "      <td>91049286.0</td>\n",
              "      <td>7.254705e+07</td>\n",
              "    </tr>\n",
              "    <tr>\n",
              "      <th>21</th>\n",
              "      <td>2017-10-31</td>\n",
              "      <td>1.571705e+08</td>\n",
              "      <td>91755300.0</td>\n",
              "      <td>6.541522e+07</td>\n",
              "    </tr>\n",
              "    <tr>\n",
              "      <th>22</th>\n",
              "      <td>2017-11-30</td>\n",
              "      <td>1.531888e+08</td>\n",
              "      <td>86533266.0</td>\n",
              "      <td>6.665550e+07</td>\n",
              "    </tr>\n",
              "    <tr>\n",
              "      <th>23</th>\n",
              "      <td>2017-12-31</td>\n",
              "      <td>1.524203e+08</td>\n",
              "      <td>88514610.0</td>\n",
              "      <td>6.390564e+07</td>\n",
              "    </tr>\n",
              "  </tbody>\n",
              "</table>\n",
              "</div>"
            ],
            "text/plain": [
              "         date  supply_yield  demand_yield    difference\n",
              "0  2016-01-31  1.539509e+08           0.0  1.539509e+08\n",
              "1  2016-02-29  1.419056e+08           0.0  1.419056e+08\n",
              "2  2016-03-31  1.431033e+08           0.0  1.431033e+08\n",
              "3  2016-04-30  1.486034e+08           0.0  1.486034e+08\n",
              "4  2016-05-31  1.631898e+08           0.0  1.631898e+08\n",
              "5  2016-06-30  1.841911e+08           0.0  1.841911e+08\n",
              "6  2016-07-31  1.942665e+08           0.0  1.942665e+08\n",
              "7  2016-08-31  1.988399e+08           0.0  1.988399e+08\n",
              "8  2016-09-30  1.947341e+08           0.0  1.947341e+08\n",
              "9  2016-10-31  1.798800e+08           0.0  1.798800e+08\n",
              "10 2016-11-30  1.792358e+08           0.0  1.792358e+08\n",
              "11 2016-12-31  1.784122e+08           0.0  1.784122e+08\n",
              "12 2017-01-31  1.344267e+08    90430481.0  4.399624e+07\n",
              "13 2017-02-28  1.222733e+08    75344853.0  4.692846e+07\n",
              "14 2017-03-31  1.319344e+08    91917783.0  4.001666e+07\n",
              "15 2017-04-30  1.282582e+08    82591524.0  4.566663e+07\n",
              "16 2017-05-31  1.372087e+08    87419669.0  4.978898e+07\n",
              "17 2017-06-30  1.523539e+08   297500000.0 -1.451461e+08\n",
              "18 2017-07-31  1.596060e+08   198900000.0 -3.929399e+07\n",
              "19 2017-08-31  1.663173e+08    97367031.0  6.895023e+07\n",
              "20 2017-09-30  1.635963e+08    91049286.0  7.254705e+07\n",
              "21 2017-10-31  1.571705e+08    91755300.0  6.541522e+07\n",
              "22 2017-11-30  1.531888e+08    86533266.0  6.665550e+07\n",
              "23 2017-12-31  1.524203e+08    88514610.0  6.390564e+07"
            ]
          },
          "metadata": {
            "tags": []
          },
          "execution_count": 133
        }
      ]
    },
    {
      "cell_type": "code",
      "metadata": {
        "id": "YeXeeGCurtrB",
        "colab_type": "code",
        "colab": {}
      },
      "source": [
        ""
      ],
      "execution_count": 0,
      "outputs": []
    }
  ]
}